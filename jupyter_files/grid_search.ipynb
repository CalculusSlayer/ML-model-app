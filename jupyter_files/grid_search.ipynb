{
 "cells": [
  {
   "cell_type": "code",
   "execution_count": 1,
   "id": "fc6a5a3b",
   "metadata": {},
   "outputs": [],
   "source": [
    "import tensorflow as tf\n",
    "import numpy as np\n",
    "import pandas as pd\n",
    "from sklearn.preprocessing import MinMaxScaler\n",
    "from sklearn.model_selection import train_test_split\n",
    "from sklearn.metrics import mean_squared_error\n",
    "from tensorflow.keras.models import Sequential\n",
    "from tensorflow.keras.layers import Dense, Dropout\n",
    "from tensorflow.keras.optimizers import Adam\n",
    "import matplotlib.pyplot as plt"
   ]
  },
  {
   "cell_type": "code",
   "execution_count": 2,
   "id": "fc05c819",
   "metadata": {},
   "outputs": [
    {
     "name": "stdout",
     "output_type": "stream",
     "text": [
      "~~~~~~~~~~~~~~~ Building ANN model with 2 hidden layers ~~~~~~~~~~~~~~~\n",
      "\n"
     ]
    }
   ],
   "source": [
    "# ANN model with 2 hidden layers\n",
    "\n",
    "print(f\"{'~'*15} Building ANN model with 2 hidden layers {'~'*15}\\n\")\n",
    "\n",
    "# Load the dataset\n",
    "df = pd.read_csv(\"Datasets/COALINDIA.csv\")\n",
    "\n",
    "# Feature selection and preprocessing\n",
    "dropped_features = ['Date', 'Symbol', 'Series', \n",
    "                    'Trades', 'Turnover', 'Deliverable Volume', \n",
    "                    '%Deliverble', 'Last', 'VWAP', 'Prev Close']\n",
    "df.drop(dropped_features, axis=1, inplace=True)\n",
    "\n",
    "# Define features (X) and target (Y)\n",
    "X = df.drop('Close', axis=1)\n",
    "Y = df['Close']\n",
    "\n",
    "# Scale the data\n",
    "scaler_X = MinMaxScaler()\n",
    "scaler_Y = MinMaxScaler()\n",
    "X = scaler_X.fit_transform(X.values)\n",
    "Y = scaler_Y.fit_transform(Y.values.reshape(-1, 1))\n",
    "\n",
    "# Split the data into training and test sets\n",
    "X_train, X_test, Y_train, Y_test = train_test_split(X, Y, test_size=0.2, random_state=42, shuffle=False)"
   ]
  },
  {
   "cell_type": "code",
   "execution_count": 18,
   "id": "29e36381",
   "metadata": {},
   "outputs": [],
   "source": [
    "def create_model_A(activation='relu', epochs=100, batch_size=32, op_learning_rate=1e-5, hidden=128, dropout=0.15):\n",
    "    # Build a neural network model with 2 hidden layers\n",
    "    # You can experiment with different architectures, including the number of layers and neurons.\n",
    "    model = Sequential()\n",
    "    model.add(Dense(64, input_dim=X_train.shape[1], activation='relu'))\n",
    "    model.add(Dense(hidden, activation='relu'))\n",
    "    model.add(Dropout(dropout))\n",
    "    model.add(Dense(1))\n",
    "\n",
    "    # Compile the model\n",
    "    optimizer = Adam(learning_rate=op_learning_rate)  # Experiment with learning rate\n",
    "    model.compile(optimizer=optimizer, loss='mean_squared_error')\n",
    "\n",
    "    # Train the model\n",
    "    history = model.fit(X_train, Y_train, epochs=100, batch_size=32, validation_data=(X_test, Y_test), verbose=0)\n",
    "\n",
    "    # Make predictions\n",
    "    Y_pred = model.predict(X_test)\n",
    "\n",
    "    # Inverse transform the scaled values\n",
    "    Y_test_original = scaler_Y.inverse_transform(Y_test)\n",
    "    Y_pred_original = scaler_Y.inverse_transform(Y_pred)\n",
    "\n",
    "    print(f\"Activation: {activation}\\nEpoch: {epochs}\\nBatch Size: {batch_size}\\nOptimizer learning rate: {op_learning_rate}\")\n",
    "    print(f\"Hidden: {hidden}\\nDropout: {dropout}\")\n",
    "    # Calculate MSE and R2\n",
    "    mse = mean_squared_error(Y_test_original, Y_pred_original)\n",
    "    print(f\"Mean Squared Error: {mse}\")\n",
    "    metric = tf.keras.metrics.R2Score()\n",
    "    metric.update_state(Y_test_original, Y_pred_original)\n",
    "    r2 = metric.result().numpy()\n",
    "    print(\"R^2:\", metric.result().numpy())\n",
    "    print(\"-\"*64)\n",
    "    return mse, r2"
   ]
  },
  {
   "cell_type": "code",
   "execution_count": 19,
   "id": "dd050e4a",
   "metadata": {
    "scrolled": false
   },
   "outputs": [
    {
     "name": "stderr",
     "output_type": "stream",
     "text": [
      "WARNING:absl:At this time, the v2.11+ optimizer `tf.keras.optimizers.Adam` runs slowly on M1/M2 Macs, please use the legacy Keras optimizer instead, located at `tf.keras.optimizers.legacy.Adam`.\n"
     ]
    },
    {
     "name": "stdout",
     "output_type": "stream",
     "text": [
      "17/17 [==============================] - 0s 409us/step\n"
     ]
    },
    {
     "name": "stderr",
     "output_type": "stream",
     "text": [
      "WARNING:absl:At this time, the v2.11+ optimizer `tf.keras.optimizers.Adam` runs slowly on M1/M2 Macs, please use the legacy Keras optimizer instead, located at `tf.keras.optimizers.legacy.Adam`.\n"
     ]
    },
    {
     "name": "stdout",
     "output_type": "stream",
     "text": [
      "Activation: relu\n",
      "Epoch: 50\n",
      "Batch Size: 24\n",
      "Optimizer learning rate: 1e-05\n",
      "Mean Squared Error: 142.17835507040726\n",
      "R^2: 0.9271996\n",
      "----------------------------------------------------------------\n",
      "17/17 [==============================] - 0s 385us/step\n"
     ]
    },
    {
     "name": "stderr",
     "output_type": "stream",
     "text": [
      "WARNING:absl:At this time, the v2.11+ optimizer `tf.keras.optimizers.Adam` runs slowly on M1/M2 Macs, please use the legacy Keras optimizer instead, located at `tf.keras.optimizers.legacy.Adam`.\n"
     ]
    },
    {
     "name": "stdout",
     "output_type": "stream",
     "text": [
      "Activation: relu\n",
      "Epoch: 50\n",
      "Batch Size: 24\n",
      "Optimizer learning rate: 0.0001\n",
      "Mean Squared Error: 94.39597152096316\n",
      "R^2: 0.9516659\n",
      "----------------------------------------------------------------\n",
      "17/17 [==============================] - 0s 428us/step\n"
     ]
    },
    {
     "name": "stderr",
     "output_type": "stream",
     "text": [
      "WARNING:absl:At this time, the v2.11+ optimizer `tf.keras.optimizers.Adam` runs slowly on M1/M2 Macs, please use the legacy Keras optimizer instead, located at `tf.keras.optimizers.legacy.Adam`.\n"
     ]
    },
    {
     "name": "stdout",
     "output_type": "stream",
     "text": [
      "Activation: relu\n",
      "Epoch: 50\n",
      "Batch Size: 24\n",
      "Optimizer learning rate: 0.001\n",
      "Mean Squared Error: 3446.4584452611357\n",
      "R^2: -0.76470995\n",
      "----------------------------------------------------------------\n",
      "17/17 [==============================] - 0s 345us/step\n"
     ]
    },
    {
     "name": "stderr",
     "output_type": "stream",
     "text": [
      "WARNING:absl:At this time, the v2.11+ optimizer `tf.keras.optimizers.Adam` runs slowly on M1/M2 Macs, please use the legacy Keras optimizer instead, located at `tf.keras.optimizers.legacy.Adam`.\n"
     ]
    },
    {
     "name": "stdout",
     "output_type": "stream",
     "text": [
      "Activation: relu\n",
      "Epoch: 50\n",
      "Batch Size: 32\n",
      "Optimizer learning rate: 1e-05\n",
      "Mean Squared Error: 139.4761120443402\n",
      "R^2: 0.92858326\n",
      "----------------------------------------------------------------\n",
      "17/17 [==============================] - 0s 366us/step\n"
     ]
    },
    {
     "name": "stderr",
     "output_type": "stream",
     "text": [
      "WARNING:absl:At this time, the v2.11+ optimizer `tf.keras.optimizers.Adam` runs slowly on M1/M2 Macs, please use the legacy Keras optimizer instead, located at `tf.keras.optimizers.legacy.Adam`.\n"
     ]
    },
    {
     "name": "stdout",
     "output_type": "stream",
     "text": [
      "Activation: relu\n",
      "Epoch: 50\n",
      "Batch Size: 32\n",
      "Optimizer learning rate: 0.0001\n",
      "Mean Squared Error: 191.87209099276015\n",
      "R^2: 0.9017546\n",
      "----------------------------------------------------------------\n",
      "17/17 [==============================] - 0s 362us/step\n"
     ]
    },
    {
     "name": "stderr",
     "output_type": "stream",
     "text": [
      "WARNING:absl:At this time, the v2.11+ optimizer `tf.keras.optimizers.Adam` runs slowly on M1/M2 Macs, please use the legacy Keras optimizer instead, located at `tf.keras.optimizers.legacy.Adam`.\n"
     ]
    },
    {
     "name": "stdout",
     "output_type": "stream",
     "text": [
      "Activation: relu\n",
      "Epoch: 50\n",
      "Batch Size: 32\n",
      "Optimizer learning rate: 0.001\n",
      "Mean Squared Error: 4635.058399471949\n",
      "R^2: -1.373316\n",
      "----------------------------------------------------------------\n",
      "17/17 [==============================] - 0s 493us/step\n"
     ]
    },
    {
     "name": "stderr",
     "output_type": "stream",
     "text": [
      "WARNING:absl:At this time, the v2.11+ optimizer `tf.keras.optimizers.Adam` runs slowly on M1/M2 Macs, please use the legacy Keras optimizer instead, located at `tf.keras.optimizers.legacy.Adam`.\n"
     ]
    },
    {
     "name": "stdout",
     "output_type": "stream",
     "text": [
      "Activation: relu\n",
      "Epoch: 50\n",
      "Batch Size: 40\n",
      "Optimizer learning rate: 1e-05\n",
      "Mean Squared Error: 205.34097945959752\n",
      "R^2: 0.89485806\n",
      "----------------------------------------------------------------\n",
      "17/17 [==============================] - 0s 349us/step\n"
     ]
    },
    {
     "name": "stderr",
     "output_type": "stream",
     "text": [
      "WARNING:absl:At this time, the v2.11+ optimizer `tf.keras.optimizers.Adam` runs slowly on M1/M2 Macs, please use the legacy Keras optimizer instead, located at `tf.keras.optimizers.legacy.Adam`.\n"
     ]
    },
    {
     "name": "stdout",
     "output_type": "stream",
     "text": [
      "Activation: relu\n",
      "Epoch: 50\n",
      "Batch Size: 40\n",
      "Optimizer learning rate: 0.0001\n",
      "Mean Squared Error: 39.89717918445729\n",
      "R^2: 0.9795712\n",
      "----------------------------------------------------------------\n",
      "17/17 [==============================] - 0s 536us/step\n"
     ]
    },
    {
     "name": "stderr",
     "output_type": "stream",
     "text": [
      "WARNING:absl:At this time, the v2.11+ optimizer `tf.keras.optimizers.Adam` runs slowly on M1/M2 Macs, please use the legacy Keras optimizer instead, located at `tf.keras.optimizers.legacy.Adam`.\n"
     ]
    },
    {
     "name": "stdout",
     "output_type": "stream",
     "text": [
      "Activation: relu\n",
      "Epoch: 50\n",
      "Batch Size: 40\n",
      "Optimizer learning rate: 0.001\n",
      "Mean Squared Error: 3675.8946262806685\n",
      "R^2: -0.88218963\n",
      "----------------------------------------------------------------\n",
      "17/17 [==============================] - 0s 353us/step\n"
     ]
    },
    {
     "name": "stderr",
     "output_type": "stream",
     "text": [
      "WARNING:absl:At this time, the v2.11+ optimizer `tf.keras.optimizers.Adam` runs slowly on M1/M2 Macs, please use the legacy Keras optimizer instead, located at `tf.keras.optimizers.legacy.Adam`.\n"
     ]
    },
    {
     "name": "stdout",
     "output_type": "stream",
     "text": [
      "Activation: relu\n",
      "Epoch: 75\n",
      "Batch Size: 24\n",
      "Optimizer learning rate: 1e-05\n",
      "Mean Squared Error: 573.1980313134068\n",
      "R^2: 0.7065021\n",
      "----------------------------------------------------------------\n",
      "17/17 [==============================] - 0s 355us/step\n"
     ]
    },
    {
     "name": "stderr",
     "output_type": "stream",
     "text": [
      "WARNING:absl:At this time, the v2.11+ optimizer `tf.keras.optimizers.Adam` runs slowly on M1/M2 Macs, please use the legacy Keras optimizer instead, located at `tf.keras.optimizers.legacy.Adam`.\n"
     ]
    },
    {
     "name": "stdout",
     "output_type": "stream",
     "text": [
      "Activation: relu\n",
      "Epoch: 75\n",
      "Batch Size: 24\n",
      "Optimizer learning rate: 0.0001\n",
      "Mean Squared Error: 181.85334048566435\n",
      "R^2: 0.90688455\n",
      "----------------------------------------------------------------\n",
      "17/17 [==============================] - 0s 512us/step\n"
     ]
    },
    {
     "name": "stderr",
     "output_type": "stream",
     "text": [
      "WARNING:absl:At this time, the v2.11+ optimizer `tf.keras.optimizers.Adam` runs slowly on M1/M2 Macs, please use the legacy Keras optimizer instead, located at `tf.keras.optimizers.legacy.Adam`.\n"
     ]
    },
    {
     "name": "stdout",
     "output_type": "stream",
     "text": [
      "Activation: relu\n",
      "Epoch: 75\n",
      "Batch Size: 24\n",
      "Optimizer learning rate: 0.001\n",
      "Mean Squared Error: 3457.39676524961\n",
      "R^2: -0.7703109\n",
      "----------------------------------------------------------------\n",
      "17/17 [==============================] - 0s 630us/step\n"
     ]
    },
    {
     "name": "stderr",
     "output_type": "stream",
     "text": [
      "WARNING:absl:At this time, the v2.11+ optimizer `tf.keras.optimizers.Adam` runs slowly on M1/M2 Macs, please use the legacy Keras optimizer instead, located at `tf.keras.optimizers.legacy.Adam`.\n"
     ]
    },
    {
     "name": "stdout",
     "output_type": "stream",
     "text": [
      "Activation: relu\n",
      "Epoch: 75\n",
      "Batch Size: 32\n",
      "Optimizer learning rate: 1e-05\n",
      "Mean Squared Error: 143.06914879806956\n",
      "R^2: 0.9267435\n",
      "----------------------------------------------------------------\n",
      "17/17 [==============================] - 0s 410us/step\n"
     ]
    },
    {
     "name": "stderr",
     "output_type": "stream",
     "text": [
      "WARNING:absl:At this time, the v2.11+ optimizer `tf.keras.optimizers.Adam` runs slowly on M1/M2 Macs, please use the legacy Keras optimizer instead, located at `tf.keras.optimizers.legacy.Adam`.\n"
     ]
    },
    {
     "name": "stdout",
     "output_type": "stream",
     "text": [
      "Activation: relu\n",
      "Epoch: 75\n",
      "Batch Size: 32\n",
      "Optimizer learning rate: 0.0001\n",
      "Mean Squared Error: 137.54156734666603\n",
      "R^2: 0.9295738\n",
      "----------------------------------------------------------------\n",
      "17/17 [==============================] - 0s 397us/step\n"
     ]
    },
    {
     "name": "stderr",
     "output_type": "stream",
     "text": [
      "WARNING:absl:At this time, the v2.11+ optimizer `tf.keras.optimizers.Adam` runs slowly on M1/M2 Macs, please use the legacy Keras optimizer instead, located at `tf.keras.optimizers.legacy.Adam`.\n"
     ]
    },
    {
     "name": "stdout",
     "output_type": "stream",
     "text": [
      "Activation: relu\n",
      "Epoch: 75\n",
      "Batch Size: 32\n",
      "Optimizer learning rate: 0.001\n",
      "Mean Squared Error: 3504.055649497245\n",
      "R^2: -0.79420185\n",
      "----------------------------------------------------------------\n",
      "17/17 [==============================] - 0s 479us/step\n"
     ]
    },
    {
     "name": "stderr",
     "output_type": "stream",
     "text": [
      "WARNING:absl:At this time, the v2.11+ optimizer `tf.keras.optimizers.Adam` runs slowly on M1/M2 Macs, please use the legacy Keras optimizer instead, located at `tf.keras.optimizers.legacy.Adam`.\n"
     ]
    },
    {
     "name": "stdout",
     "output_type": "stream",
     "text": [
      "Activation: relu\n",
      "Epoch: 75\n",
      "Batch Size: 40\n",
      "Optimizer learning rate: 1e-05\n",
      "Mean Squared Error: 201.5420311165582\n",
      "R^2: 0.89680326\n",
      "----------------------------------------------------------------\n",
      "17/17 [==============================] - 0s 480us/step\n"
     ]
    },
    {
     "name": "stderr",
     "output_type": "stream",
     "text": [
      "WARNING:absl:At this time, the v2.11+ optimizer `tf.keras.optimizers.Adam` runs slowly on M1/M2 Macs, please use the legacy Keras optimizer instead, located at `tf.keras.optimizers.legacy.Adam`.\n"
     ]
    },
    {
     "name": "stdout",
     "output_type": "stream",
     "text": [
      "Activation: relu\n",
      "Epoch: 75\n",
      "Batch Size: 40\n",
      "Optimizer learning rate: 0.0001\n",
      "Mean Squared Error: 164.70792557185828\n",
      "R^2: 0.91566366\n",
      "----------------------------------------------------------------\n",
      "17/17 [==============================] - 0s 405us/step\n"
     ]
    },
    {
     "name": "stderr",
     "output_type": "stream",
     "text": [
      "WARNING:absl:At this time, the v2.11+ optimizer `tf.keras.optimizers.Adam` runs slowly on M1/M2 Macs, please use the legacy Keras optimizer instead, located at `tf.keras.optimizers.legacy.Adam`.\n"
     ]
    },
    {
     "name": "stdout",
     "output_type": "stream",
     "text": [
      "Activation: relu\n",
      "Epoch: 75\n",
      "Batch Size: 40\n",
      "Optimizer learning rate: 0.001\n",
      "Mean Squared Error: 3779.238652590914\n",
      "R^2: -0.9351053\n",
      "----------------------------------------------------------------\n",
      "17/17 [==============================] - 0s 514us/step\n"
     ]
    },
    {
     "name": "stderr",
     "output_type": "stream",
     "text": [
      "WARNING:absl:At this time, the v2.11+ optimizer `tf.keras.optimizers.Adam` runs slowly on M1/M2 Macs, please use the legacy Keras optimizer instead, located at `tf.keras.optimizers.legacy.Adam`.\n"
     ]
    },
    {
     "name": "stdout",
     "output_type": "stream",
     "text": [
      "Activation: relu\n",
      "Epoch: 100\n",
      "Batch Size: 24\n",
      "Optimizer learning rate: 1e-05\n",
      "Mean Squared Error: 216.33409703456599\n",
      "R^2: 0.8892292\n",
      "----------------------------------------------------------------\n",
      "17/17 [==============================] - 0s 481us/step\n"
     ]
    },
    {
     "name": "stderr",
     "output_type": "stream",
     "text": [
      "WARNING:absl:At this time, the v2.11+ optimizer `tf.keras.optimizers.Adam` runs slowly on M1/M2 Macs, please use the legacy Keras optimizer instead, located at `tf.keras.optimizers.legacy.Adam`.\n"
     ]
    },
    {
     "name": "stdout",
     "output_type": "stream",
     "text": [
      "Activation: relu\n",
      "Epoch: 100\n",
      "Batch Size: 24\n",
      "Optimizer learning rate: 0.0001\n",
      "Mean Squared Error: 343.3823669257318\n",
      "R^2: 0.82417595\n",
      "----------------------------------------------------------------\n",
      "17/17 [==============================] - 0s 390us/step\n"
     ]
    },
    {
     "name": "stderr",
     "output_type": "stream",
     "text": [
      "WARNING:absl:At this time, the v2.11+ optimizer `tf.keras.optimizers.Adam` runs slowly on M1/M2 Macs, please use the legacy Keras optimizer instead, located at `tf.keras.optimizers.legacy.Adam`.\n"
     ]
    },
    {
     "name": "stdout",
     "output_type": "stream",
     "text": [
      "Activation: relu\n",
      "Epoch: 100\n",
      "Batch Size: 24\n",
      "Optimizer learning rate: 0.001\n",
      "Mean Squared Error: 4022.2562460876607\n",
      "R^2: -1.0595391\n",
      "----------------------------------------------------------------\n",
      "17/17 [==============================] - 0s 941us/step\n"
     ]
    },
    {
     "name": "stderr",
     "output_type": "stream",
     "text": [
      "WARNING:absl:At this time, the v2.11+ optimizer `tf.keras.optimizers.Adam` runs slowly on M1/M2 Macs, please use the legacy Keras optimizer instead, located at `tf.keras.optimizers.legacy.Adam`.\n"
     ]
    },
    {
     "name": "stdout",
     "output_type": "stream",
     "text": [
      "Activation: relu\n",
      "Epoch: 100\n",
      "Batch Size: 32\n",
      "Optimizer learning rate: 1e-05\n",
      "Mean Squared Error: 170.31571594101717\n",
      "R^2: 0.91279227\n",
      "----------------------------------------------------------------\n",
      "17/17 [==============================] - 0s 410us/step\n"
     ]
    },
    {
     "name": "stderr",
     "output_type": "stream",
     "text": [
      "WARNING:absl:At this time, the v2.11+ optimizer `tf.keras.optimizers.Adam` runs slowly on M1/M2 Macs, please use the legacy Keras optimizer instead, located at `tf.keras.optimizers.legacy.Adam`.\n"
     ]
    },
    {
     "name": "stdout",
     "output_type": "stream",
     "text": [
      "Activation: relu\n",
      "Epoch: 100\n",
      "Batch Size: 32\n",
      "Optimizer learning rate: 0.0001\n",
      "Mean Squared Error: 170.18719655294518\n",
      "R^2: 0.91285807\n",
      "----------------------------------------------------------------\n",
      "17/17 [==============================] - 0s 472us/step\n"
     ]
    },
    {
     "name": "stderr",
     "output_type": "stream",
     "text": [
      "WARNING:absl:At this time, the v2.11+ optimizer `tf.keras.optimizers.Adam` runs slowly on M1/M2 Macs, please use the legacy Keras optimizer instead, located at `tf.keras.optimizers.legacy.Adam`.\n"
     ]
    },
    {
     "name": "stdout",
     "output_type": "stream",
     "text": [
      "Activation: relu\n",
      "Epoch: 100\n",
      "Batch Size: 32\n",
      "Optimizer learning rate: 0.001\n",
      "Mean Squared Error: 3726.088277966239\n",
      "R^2: -0.9078907\n",
      "----------------------------------------------------------------\n",
      "17/17 [==============================] - 0s 375us/step\n"
     ]
    },
    {
     "name": "stderr",
     "output_type": "stream",
     "text": [
      "WARNING:absl:At this time, the v2.11+ optimizer `tf.keras.optimizers.Adam` runs slowly on M1/M2 Macs, please use the legacy Keras optimizer instead, located at `tf.keras.optimizers.legacy.Adam`.\n"
     ]
    },
    {
     "name": "stdout",
     "output_type": "stream",
     "text": [
      "Activation: relu\n",
      "Epoch: 100\n",
      "Batch Size: 40\n",
      "Optimizer learning rate: 1e-05\n",
      "Mean Squared Error: 261.7492223767785\n",
      "R^2: 0.865975\n",
      "----------------------------------------------------------------\n",
      "17/17 [==============================] - 0s 486us/step\n"
     ]
    },
    {
     "name": "stderr",
     "output_type": "stream",
     "text": [
      "WARNING:absl:At this time, the v2.11+ optimizer `tf.keras.optimizers.Adam` runs slowly on M1/M2 Macs, please use the legacy Keras optimizer instead, located at `tf.keras.optimizers.legacy.Adam`.\n"
     ]
    },
    {
     "name": "stdout",
     "output_type": "stream",
     "text": [
      "Activation: relu\n",
      "Epoch: 100\n",
      "Batch Size: 40\n",
      "Optimizer learning rate: 0.0001\n",
      "Mean Squared Error: 251.7040373295698\n",
      "R^2: 0.87111855\n",
      "----------------------------------------------------------------\n",
      "17/17 [==============================] - 0s 832us/step\n"
     ]
    },
    {
     "name": "stderr",
     "output_type": "stream",
     "text": [
      "WARNING:absl:At this time, the v2.11+ optimizer `tf.keras.optimizers.Adam` runs slowly on M1/M2 Macs, please use the legacy Keras optimizer instead, located at `tf.keras.optimizers.legacy.Adam`.\n"
     ]
    },
    {
     "name": "stdout",
     "output_type": "stream",
     "text": [
      "Activation: relu\n",
      "Epoch: 100\n",
      "Batch Size: 40\n",
      "Optimizer learning rate: 0.001\n",
      "Mean Squared Error: 4043.854251521464\n",
      "R^2: -1.0705981\n",
      "----------------------------------------------------------------\n",
      "17/17 [==============================] - 0s 507us/step\n"
     ]
    },
    {
     "name": "stderr",
     "output_type": "stream",
     "text": [
      "WARNING:absl:At this time, the v2.11+ optimizer `tf.keras.optimizers.Adam` runs slowly on M1/M2 Macs, please use the legacy Keras optimizer instead, located at `tf.keras.optimizers.legacy.Adam`.\n"
     ]
    },
    {
     "name": "stdout",
     "output_type": "stream",
     "text": [
      "Activation: relu\n",
      "Epoch: 150\n",
      "Batch Size: 24\n",
      "Optimizer learning rate: 1e-05\n",
      "Mean Squared Error: 284.87638339343357\n",
      "R^2: 0.8541331\n",
      "----------------------------------------------------------------\n",
      "17/17 [==============================] - 0s 383us/step\n"
     ]
    },
    {
     "name": "stderr",
     "output_type": "stream",
     "text": [
      "WARNING:absl:At this time, the v2.11+ optimizer `tf.keras.optimizers.Adam` runs slowly on M1/M2 Macs, please use the legacy Keras optimizer instead, located at `tf.keras.optimizers.legacy.Adam`.\n"
     ]
    },
    {
     "name": "stdout",
     "output_type": "stream",
     "text": [
      "Activation: relu\n",
      "Epoch: 150\n",
      "Batch Size: 24\n",
      "Optimizer learning rate: 0.0001\n",
      "Mean Squared Error: 149.5887758893336\n",
      "R^2: 0.9234052\n",
      "----------------------------------------------------------------\n",
      "17/17 [==============================] - 0s 455us/step\n"
     ]
    },
    {
     "name": "stderr",
     "output_type": "stream",
     "text": [
      "WARNING:absl:At this time, the v2.11+ optimizer `tf.keras.optimizers.Adam` runs slowly on M1/M2 Macs, please use the legacy Keras optimizer instead, located at `tf.keras.optimizers.legacy.Adam`.\n"
     ]
    },
    {
     "name": "stdout",
     "output_type": "stream",
     "text": [
      "Activation: relu\n",
      "Epoch: 150\n",
      "Batch Size: 24\n",
      "Optimizer learning rate: 0.001\n",
      "Mean Squared Error: 3795.0465199466885\n",
      "R^2: -0.94319975\n",
      "----------------------------------------------------------------\n",
      "17/17 [==============================] - 0s 638us/step\n"
     ]
    },
    {
     "name": "stderr",
     "output_type": "stream",
     "text": [
      "WARNING:absl:At this time, the v2.11+ optimizer `tf.keras.optimizers.Adam` runs slowly on M1/M2 Macs, please use the legacy Keras optimizer instead, located at `tf.keras.optimizers.legacy.Adam`.\n"
     ]
    },
    {
     "name": "stdout",
     "output_type": "stream",
     "text": [
      "Activation: relu\n",
      "Epoch: 150\n",
      "Batch Size: 32\n",
      "Optimizer learning rate: 1e-05\n",
      "Mean Squared Error: 454.45791018165977\n",
      "R^2: 0.76730126\n",
      "----------------------------------------------------------------\n",
      "17/17 [==============================] - 0s 401us/step\n"
     ]
    },
    {
     "name": "stderr",
     "output_type": "stream",
     "text": [
      "WARNING:absl:At this time, the v2.11+ optimizer `tf.keras.optimizers.Adam` runs slowly on M1/M2 Macs, please use the legacy Keras optimizer instead, located at `tf.keras.optimizers.legacy.Adam`.\n"
     ]
    },
    {
     "name": "stdout",
     "output_type": "stream",
     "text": [
      "Activation: relu\n",
      "Epoch: 150\n",
      "Batch Size: 32\n",
      "Optimizer learning rate: 0.0001\n",
      "Mean Squared Error: 58.7445050993231\n",
      "R^2: 0.9699207\n",
      "----------------------------------------------------------------\n",
      "17/17 [==============================] - 0s 445us/step\n"
     ]
    },
    {
     "name": "stderr",
     "output_type": "stream",
     "text": [
      "WARNING:absl:At this time, the v2.11+ optimizer `tf.keras.optimizers.Adam` runs slowly on M1/M2 Macs, please use the legacy Keras optimizer instead, located at `tf.keras.optimizers.legacy.Adam`.\n"
     ]
    },
    {
     "name": "stdout",
     "output_type": "stream",
     "text": [
      "Activation: relu\n",
      "Epoch: 150\n",
      "Batch Size: 32\n",
      "Optimizer learning rate: 0.001\n",
      "Mean Squared Error: 2421.0088364936914\n",
      "R^2: -0.2396431\n",
      "----------------------------------------------------------------\n",
      "17/17 [==============================] - 0s 411us/step\n"
     ]
    },
    {
     "name": "stderr",
     "output_type": "stream",
     "text": [
      "WARNING:absl:At this time, the v2.11+ optimizer `tf.keras.optimizers.Adam` runs slowly on M1/M2 Macs, please use the legacy Keras optimizer instead, located at `tf.keras.optimizers.legacy.Adam`.\n"
     ]
    },
    {
     "name": "stdout",
     "output_type": "stream",
     "text": [
      "Activation: relu\n",
      "Epoch: 150\n",
      "Batch Size: 40\n",
      "Optimizer learning rate: 1e-05\n",
      "Mean Squared Error: 194.19857554483514\n",
      "R^2: 0.90056336\n",
      "----------------------------------------------------------------\n",
      "17/17 [==============================] - 0s 407us/step\n"
     ]
    },
    {
     "name": "stderr",
     "output_type": "stream",
     "text": [
      "WARNING:absl:At this time, the v2.11+ optimizer `tf.keras.optimizers.Adam` runs slowly on M1/M2 Macs, please use the legacy Keras optimizer instead, located at `tf.keras.optimizers.legacy.Adam`.\n"
     ]
    },
    {
     "name": "stdout",
     "output_type": "stream",
     "text": [
      "Activation: relu\n",
      "Epoch: 150\n",
      "Batch Size: 40\n",
      "Optimizer learning rate: 0.0001\n",
      "Mean Squared Error: 136.5883462326256\n",
      "R^2: 0.9300619\n",
      "----------------------------------------------------------------\n",
      "17/17 [==============================] - 0s 403us/step\n"
     ]
    },
    {
     "name": "stderr",
     "output_type": "stream",
     "text": [
      "WARNING:absl:At this time, the v2.11+ optimizer `tf.keras.optimizers.Adam` runs slowly on M1/M2 Macs, please use the legacy Keras optimizer instead, located at `tf.keras.optimizers.legacy.Adam`.\n"
     ]
    },
    {
     "name": "stdout",
     "output_type": "stream",
     "text": [
      "Activation: relu\n",
      "Epoch: 150\n",
      "Batch Size: 40\n",
      "Optimizer learning rate: 0.001\n",
      "Mean Squared Error: 3860.4931576343683\n",
      "R^2: -0.9767108\n",
      "----------------------------------------------------------------\n",
      "17/17 [==============================] - 0s 428us/step\n"
     ]
    },
    {
     "name": "stderr",
     "output_type": "stream",
     "text": [
      "WARNING:absl:At this time, the v2.11+ optimizer `tf.keras.optimizers.Adam` runs slowly on M1/M2 Macs, please use the legacy Keras optimizer instead, located at `tf.keras.optimizers.legacy.Adam`.\n"
     ]
    },
    {
     "name": "stdout",
     "output_type": "stream",
     "text": [
      "Activation: sigmoid\n",
      "Epoch: 50\n",
      "Batch Size: 24\n",
      "Optimizer learning rate: 1e-05\n",
      "Mean Squared Error: 119.9114543111748\n",
      "R^2: 0.938601\n",
      "----------------------------------------------------------------\n",
      "17/17 [==============================] - 0s 451us/step\n"
     ]
    },
    {
     "name": "stderr",
     "output_type": "stream",
     "text": [
      "WARNING:absl:At this time, the v2.11+ optimizer `tf.keras.optimizers.Adam` runs slowly on M1/M2 Macs, please use the legacy Keras optimizer instead, located at `tf.keras.optimizers.legacy.Adam`.\n"
     ]
    },
    {
     "name": "stdout",
     "output_type": "stream",
     "text": [
      "Activation: sigmoid\n",
      "Epoch: 50\n",
      "Batch Size: 24\n",
      "Optimizer learning rate: 0.0001\n",
      "Mean Squared Error: 100.8273336168125\n",
      "R^2: 0.9483728\n",
      "----------------------------------------------------------------\n",
      "17/17 [==============================] - 0s 420us/step\n"
     ]
    },
    {
     "name": "stderr",
     "output_type": "stream",
     "text": [
      "WARNING:absl:At this time, the v2.11+ optimizer `tf.keras.optimizers.Adam` runs slowly on M1/M2 Macs, please use the legacy Keras optimizer instead, located at `tf.keras.optimizers.legacy.Adam`.\n"
     ]
    },
    {
     "name": "stdout",
     "output_type": "stream",
     "text": [
      "Activation: sigmoid\n",
      "Epoch: 50\n",
      "Batch Size: 24\n",
      "Optimizer learning rate: 0.001\n",
      "Mean Squared Error: 3740.929049795244\n",
      "R^2: -0.91548955\n",
      "----------------------------------------------------------------\n",
      "17/17 [==============================] - 0s 483us/step\n"
     ]
    },
    {
     "name": "stderr",
     "output_type": "stream",
     "text": [
      "WARNING:absl:At this time, the v2.11+ optimizer `tf.keras.optimizers.Adam` runs slowly on M1/M2 Macs, please use the legacy Keras optimizer instead, located at `tf.keras.optimizers.legacy.Adam`.\n"
     ]
    },
    {
     "name": "stdout",
     "output_type": "stream",
     "text": [
      "Activation: sigmoid\n",
      "Epoch: 50\n",
      "Batch Size: 32\n",
      "Optimizer learning rate: 1e-05\n",
      "Mean Squared Error: 149.56527409154666\n",
      "R^2: 0.9234172\n",
      "----------------------------------------------------------------\n",
      "17/17 [==============================] - 0s 447us/step\n"
     ]
    },
    {
     "name": "stderr",
     "output_type": "stream",
     "text": [
      "WARNING:absl:At this time, the v2.11+ optimizer `tf.keras.optimizers.Adam` runs slowly on M1/M2 Macs, please use the legacy Keras optimizer instead, located at `tf.keras.optimizers.legacy.Adam`.\n"
     ]
    },
    {
     "name": "stdout",
     "output_type": "stream",
     "text": [
      "Activation: sigmoid\n",
      "Epoch: 50\n",
      "Batch Size: 32\n",
      "Optimizer learning rate: 0.0001\n",
      "Mean Squared Error: 115.9230153461748\n",
      "R^2: 0.94064325\n",
      "----------------------------------------------------------------\n",
      "17/17 [==============================] - 0s 441us/step\n"
     ]
    },
    {
     "name": "stderr",
     "output_type": "stream",
     "text": [
      "WARNING:absl:At this time, the v2.11+ optimizer `tf.keras.optimizers.Adam` runs slowly on M1/M2 Macs, please use the legacy Keras optimizer instead, located at `tf.keras.optimizers.legacy.Adam`.\n"
     ]
    },
    {
     "name": "stdout",
     "output_type": "stream",
     "text": [
      "Activation: sigmoid\n",
      "Epoch: 50\n",
      "Batch Size: 32\n",
      "Optimizer learning rate: 0.001\n",
      "Mean Squared Error: 4249.7977385178865\n",
      "R^2: -1.1760488\n",
      "----------------------------------------------------------------\n",
      "17/17 [==============================] - 0s 417us/step\n"
     ]
    },
    {
     "name": "stderr",
     "output_type": "stream",
     "text": [
      "WARNING:absl:At this time, the v2.11+ optimizer `tf.keras.optimizers.Adam` runs slowly on M1/M2 Macs, please use the legacy Keras optimizer instead, located at `tf.keras.optimizers.legacy.Adam`.\n"
     ]
    },
    {
     "name": "stdout",
     "output_type": "stream",
     "text": [
      "Activation: sigmoid\n",
      "Epoch: 50\n",
      "Batch Size: 40\n",
      "Optimizer learning rate: 1e-05\n",
      "Mean Squared Error: 40.58360337624035\n",
      "R^2: 0.97921973\n",
      "----------------------------------------------------------------\n",
      "17/17 [==============================] - 0s 336us/step\n"
     ]
    },
    {
     "name": "stderr",
     "output_type": "stream",
     "text": [
      "WARNING:absl:At this time, the v2.11+ optimizer `tf.keras.optimizers.Adam` runs slowly on M1/M2 Macs, please use the legacy Keras optimizer instead, located at `tf.keras.optimizers.legacy.Adam`.\n"
     ]
    },
    {
     "name": "stdout",
     "output_type": "stream",
     "text": [
      "Activation: sigmoid\n",
      "Epoch: 50\n",
      "Batch Size: 40\n",
      "Optimizer learning rate: 0.0001\n",
      "Mean Squared Error: 159.45018788104352\n",
      "R^2: 0.9183558\n",
      "----------------------------------------------------------------\n",
      "17/17 [==============================] - 0s 331us/step\n"
     ]
    },
    {
     "name": "stderr",
     "output_type": "stream",
     "text": [
      "WARNING:absl:At this time, the v2.11+ optimizer `tf.keras.optimizers.Adam` runs slowly on M1/M2 Macs, please use the legacy Keras optimizer instead, located at `tf.keras.optimizers.legacy.Adam`.\n"
     ]
    },
    {
     "name": "stdout",
     "output_type": "stream",
     "text": [
      "Activation: sigmoid\n",
      "Epoch: 50\n",
      "Batch Size: 40\n",
      "Optimizer learning rate: 0.001\n",
      "Mean Squared Error: 4349.954644625803\n",
      "R^2: -1.2273326\n",
      "----------------------------------------------------------------\n",
      "17/17 [==============================] - 0s 709us/step\n"
     ]
    },
    {
     "name": "stderr",
     "output_type": "stream",
     "text": [
      "WARNING:absl:At this time, the v2.11+ optimizer `tf.keras.optimizers.Adam` runs slowly on M1/M2 Macs, please use the legacy Keras optimizer instead, located at `tf.keras.optimizers.legacy.Adam`.\n"
     ]
    },
    {
     "name": "stdout",
     "output_type": "stream",
     "text": [
      "Activation: sigmoid\n",
      "Epoch: 75\n",
      "Batch Size: 24\n",
      "Optimizer learning rate: 1e-05\n",
      "Mean Squared Error: 228.28709937114382\n",
      "R^2: 0.88310885\n",
      "----------------------------------------------------------------\n",
      "17/17 [==============================] - 0s 517us/step\n"
     ]
    },
    {
     "name": "stderr",
     "output_type": "stream",
     "text": [
      "WARNING:absl:At this time, the v2.11+ optimizer `tf.keras.optimizers.Adam` runs slowly on M1/M2 Macs, please use the legacy Keras optimizer instead, located at `tf.keras.optimizers.legacy.Adam`.\n"
     ]
    },
    {
     "name": "stdout",
     "output_type": "stream",
     "text": [
      "Activation: sigmoid\n",
      "Epoch: 75\n",
      "Batch Size: 24\n",
      "Optimizer learning rate: 0.0001\n",
      "Mean Squared Error: 54.6341934438885\n",
      "R^2: 0.97202533\n",
      "----------------------------------------------------------------\n",
      "17/17 [==============================] - 0s 558us/step\n"
     ]
    },
    {
     "name": "stderr",
     "output_type": "stream",
     "text": [
      "WARNING:absl:At this time, the v2.11+ optimizer `tf.keras.optimizers.Adam` runs slowly on M1/M2 Macs, please use the legacy Keras optimizer instead, located at `tf.keras.optimizers.legacy.Adam`.\n"
     ]
    },
    {
     "name": "stdout",
     "output_type": "stream",
     "text": [
      "Activation: sigmoid\n",
      "Epoch: 75\n",
      "Batch Size: 24\n",
      "Optimizer learning rate: 0.001\n",
      "Mean Squared Error: 4233.215419510657\n",
      "R^2: -1.1675577\n",
      "----------------------------------------------------------------\n",
      "17/17 [==============================] - 0s 424us/step\n"
     ]
    },
    {
     "name": "stderr",
     "output_type": "stream",
     "text": [
      "WARNING:absl:At this time, the v2.11+ optimizer `tf.keras.optimizers.Adam` runs slowly on M1/M2 Macs, please use the legacy Keras optimizer instead, located at `tf.keras.optimizers.legacy.Adam`.\n"
     ]
    },
    {
     "name": "stdout",
     "output_type": "stream",
     "text": [
      "Activation: sigmoid\n",
      "Epoch: 75\n",
      "Batch Size: 32\n",
      "Optimizer learning rate: 1e-05\n",
      "Mean Squared Error: 231.42581401238547\n",
      "R^2: 0.8815017\n",
      "----------------------------------------------------------------\n",
      "17/17 [==============================] - 0s 394us/step\n"
     ]
    },
    {
     "name": "stderr",
     "output_type": "stream",
     "text": [
      "WARNING:absl:At this time, the v2.11+ optimizer `tf.keras.optimizers.Adam` runs slowly on M1/M2 Macs, please use the legacy Keras optimizer instead, located at `tf.keras.optimizers.legacy.Adam`.\n"
     ]
    },
    {
     "name": "stdout",
     "output_type": "stream",
     "text": [
      "Activation: sigmoid\n",
      "Epoch: 75\n",
      "Batch Size: 32\n",
      "Optimizer learning rate: 0.0001\n",
      "Mean Squared Error: 176.6136589862568\n",
      "R^2: 0.9095675\n",
      "----------------------------------------------------------------\n",
      "17/17 [==============================] - 0s 395us/step\n"
     ]
    },
    {
     "name": "stderr",
     "output_type": "stream",
     "text": [
      "WARNING:absl:At this time, the v2.11+ optimizer `tf.keras.optimizers.Adam` runs slowly on M1/M2 Macs, please use the legacy Keras optimizer instead, located at `tf.keras.optimizers.legacy.Adam`.\n"
     ]
    },
    {
     "name": "stdout",
     "output_type": "stream",
     "text": [
      "Activation: sigmoid\n",
      "Epoch: 75\n",
      "Batch Size: 32\n",
      "Optimizer learning rate: 0.001\n",
      "Mean Squared Error: 2965.589161808308\n",
      "R^2: -0.5184878\n",
      "----------------------------------------------------------------\n",
      "17/17 [==============================] - 0s 454us/step\n"
     ]
    },
    {
     "name": "stderr",
     "output_type": "stream",
     "text": [
      "WARNING:absl:At this time, the v2.11+ optimizer `tf.keras.optimizers.Adam` runs slowly on M1/M2 Macs, please use the legacy Keras optimizer instead, located at `tf.keras.optimizers.legacy.Adam`.\n"
     ]
    },
    {
     "name": "stdout",
     "output_type": "stream",
     "text": [
      "Activation: sigmoid\n",
      "Epoch: 75\n",
      "Batch Size: 40\n",
      "Optimizer learning rate: 1e-05\n",
      "Mean Squared Error: 371.9981251786089\n",
      "R^2: 0.80952364\n",
      "----------------------------------------------------------------\n",
      "17/17 [==============================] - 0s 451us/step\n"
     ]
    },
    {
     "name": "stderr",
     "output_type": "stream",
     "text": [
      "WARNING:absl:At this time, the v2.11+ optimizer `tf.keras.optimizers.Adam` runs slowly on M1/M2 Macs, please use the legacy Keras optimizer instead, located at `tf.keras.optimizers.legacy.Adam`.\n"
     ]
    },
    {
     "name": "stdout",
     "output_type": "stream",
     "text": [
      "Activation: sigmoid\n",
      "Epoch: 75\n",
      "Batch Size: 40\n",
      "Optimizer learning rate: 0.0001\n",
      "Mean Squared Error: 166.66752396533258\n",
      "R^2: 0.9146603\n",
      "----------------------------------------------------------------\n",
      "17/17 [==============================] - 0s 361us/step\n"
     ]
    },
    {
     "name": "stderr",
     "output_type": "stream",
     "text": [
      "WARNING:absl:At this time, the v2.11+ optimizer `tf.keras.optimizers.Adam` runs slowly on M1/M2 Macs, please use the legacy Keras optimizer instead, located at `tf.keras.optimizers.legacy.Adam`.\n"
     ]
    },
    {
     "name": "stdout",
     "output_type": "stream",
     "text": [
      "Activation: sigmoid\n",
      "Epoch: 75\n",
      "Batch Size: 40\n",
      "Optimizer learning rate: 0.001\n",
      "Mean Squared Error: 4452.665808947754\n",
      "R^2: -1.2799242\n",
      "----------------------------------------------------------------\n",
      "17/17 [==============================] - 0s 571us/step\n"
     ]
    },
    {
     "name": "stderr",
     "output_type": "stream",
     "text": [
      "WARNING:absl:At this time, the v2.11+ optimizer `tf.keras.optimizers.Adam` runs slowly on M1/M2 Macs, please use the legacy Keras optimizer instead, located at `tf.keras.optimizers.legacy.Adam`.\n"
     ]
    },
    {
     "name": "stdout",
     "output_type": "stream",
     "text": [
      "Activation: sigmoid\n",
      "Epoch: 100\n",
      "Batch Size: 24\n",
      "Optimizer learning rate: 1e-05\n",
      "Mean Squared Error: 196.2701471236023\n",
      "R^2: 0.89950264\n",
      "----------------------------------------------------------------\n",
      "17/17 [==============================] - 0s 389us/step\n"
     ]
    },
    {
     "name": "stderr",
     "output_type": "stream",
     "text": [
      "WARNING:absl:At this time, the v2.11+ optimizer `tf.keras.optimizers.Adam` runs slowly on M1/M2 Macs, please use the legacy Keras optimizer instead, located at `tf.keras.optimizers.legacy.Adam`.\n"
     ]
    },
    {
     "name": "stdout",
     "output_type": "stream",
     "text": [
      "Activation: sigmoid\n",
      "Epoch: 100\n",
      "Batch Size: 24\n",
      "Optimizer learning rate: 0.0001\n",
      "Mean Squared Error: 127.0698380075692\n",
      "R^2: 0.9349357\n",
      "----------------------------------------------------------------\n",
      "17/17 [==============================] - 0s 396us/step\n"
     ]
    },
    {
     "name": "stderr",
     "output_type": "stream",
     "text": [
      "WARNING:absl:At this time, the v2.11+ optimizer `tf.keras.optimizers.Adam` runs slowly on M1/M2 Macs, please use the legacy Keras optimizer instead, located at `tf.keras.optimizers.legacy.Adam`.\n"
     ]
    },
    {
     "name": "stdout",
     "output_type": "stream",
     "text": [
      "Activation: sigmoid\n",
      "Epoch: 100\n",
      "Batch Size: 24\n",
      "Optimizer learning rate: 0.001\n",
      "Mean Squared Error: 3205.9056818631157\n",
      "R^2: -0.6415385\n",
      "----------------------------------------------------------------\n",
      "17/17 [==============================] - 0s 393us/step\n"
     ]
    },
    {
     "name": "stderr",
     "output_type": "stream",
     "text": [
      "WARNING:absl:At this time, the v2.11+ optimizer `tf.keras.optimizers.Adam` runs slowly on M1/M2 Macs, please use the legacy Keras optimizer instead, located at `tf.keras.optimizers.legacy.Adam`.\n"
     ]
    },
    {
     "name": "stdout",
     "output_type": "stream",
     "text": [
      "Activation: sigmoid\n",
      "Epoch: 100\n",
      "Batch Size: 32\n",
      "Optimizer learning rate: 1e-05\n",
      "Mean Squared Error: 341.2595912587161\n",
      "R^2: 0.8252629\n",
      "----------------------------------------------------------------\n",
      "17/17 [==============================] - 0s 397us/step\n"
     ]
    },
    {
     "name": "stderr",
     "output_type": "stream",
     "text": [
      "WARNING:absl:At this time, the v2.11+ optimizer `tf.keras.optimizers.Adam` runs slowly on M1/M2 Macs, please use the legacy Keras optimizer instead, located at `tf.keras.optimizers.legacy.Adam`.\n"
     ]
    },
    {
     "name": "stdout",
     "output_type": "stream",
     "text": [
      "Activation: sigmoid\n",
      "Epoch: 100\n",
      "Batch Size: 32\n",
      "Optimizer learning rate: 0.0001\n",
      "Mean Squared Error: 218.24137738402914\n",
      "R^2: 0.8882526\n",
      "----------------------------------------------------------------\n",
      "17/17 [==============================] - 0s 394us/step\n"
     ]
    },
    {
     "name": "stderr",
     "output_type": "stream",
     "text": [
      "WARNING:absl:At this time, the v2.11+ optimizer `tf.keras.optimizers.Adam` runs slowly on M1/M2 Macs, please use the legacy Keras optimizer instead, located at `tf.keras.optimizers.legacy.Adam`.\n"
     ]
    },
    {
     "name": "stdout",
     "output_type": "stream",
     "text": [
      "Activation: sigmoid\n",
      "Epoch: 100\n",
      "Batch Size: 32\n",
      "Optimizer learning rate: 0.001\n",
      "Mean Squared Error: 3991.2559677087233\n",
      "R^2: -1.0436659\n",
      "----------------------------------------------------------------\n",
      "17/17 [==============================] - 0s 852us/step\n"
     ]
    },
    {
     "name": "stderr",
     "output_type": "stream",
     "text": [
      "WARNING:absl:At this time, the v2.11+ optimizer `tf.keras.optimizers.Adam` runs slowly on M1/M2 Macs, please use the legacy Keras optimizer instead, located at `tf.keras.optimizers.legacy.Adam`.\n"
     ]
    },
    {
     "name": "stdout",
     "output_type": "stream",
     "text": [
      "Activation: sigmoid\n",
      "Epoch: 100\n",
      "Batch Size: 40\n",
      "Optimizer learning rate: 1e-05\n",
      "Mean Squared Error: 223.03825419589418\n",
      "R^2: 0.8857964\n",
      "----------------------------------------------------------------\n",
      "17/17 [==============================] - 0s 614us/step\n"
     ]
    },
    {
     "name": "stderr",
     "output_type": "stream",
     "text": [
      "WARNING:absl:At this time, the v2.11+ optimizer `tf.keras.optimizers.Adam` runs slowly on M1/M2 Macs, please use the legacy Keras optimizer instead, located at `tf.keras.optimizers.legacy.Adam`.\n"
     ]
    },
    {
     "name": "stdout",
     "output_type": "stream",
     "text": [
      "Activation: sigmoid\n",
      "Epoch: 100\n",
      "Batch Size: 40\n",
      "Optimizer learning rate: 0.0001\n",
      "Mean Squared Error: 102.42658558860813\n",
      "R^2: 0.94755393\n",
      "----------------------------------------------------------------\n",
      "17/17 [==============================] - 0s 428us/step\n"
     ]
    },
    {
     "name": "stderr",
     "output_type": "stream",
     "text": [
      "WARNING:absl:At this time, the v2.11+ optimizer `tf.keras.optimizers.Adam` runs slowly on M1/M2 Macs, please use the legacy Keras optimizer instead, located at `tf.keras.optimizers.legacy.Adam`.\n"
     ]
    },
    {
     "name": "stdout",
     "output_type": "stream",
     "text": [
      "Activation: sigmoid\n",
      "Epoch: 100\n",
      "Batch Size: 40\n",
      "Optimizer learning rate: 0.001\n",
      "Mean Squared Error: 4066.9598432970565\n",
      "R^2: -1.0824289\n",
      "----------------------------------------------------------------\n",
      "17/17 [==============================] - 0s 441us/step\n"
     ]
    },
    {
     "name": "stderr",
     "output_type": "stream",
     "text": [
      "WARNING:absl:At this time, the v2.11+ optimizer `tf.keras.optimizers.Adam` runs slowly on M1/M2 Macs, please use the legacy Keras optimizer instead, located at `tf.keras.optimizers.legacy.Adam`.\n"
     ]
    },
    {
     "name": "stdout",
     "output_type": "stream",
     "text": [
      "Activation: sigmoid\n",
      "Epoch: 150\n",
      "Batch Size: 24\n",
      "Optimizer learning rate: 1e-05\n",
      "Mean Squared Error: 359.8807574070942\n",
      "R^2: 0.8157282\n",
      "----------------------------------------------------------------\n",
      "17/17 [==============================] - 0s 394us/step\n"
     ]
    },
    {
     "name": "stderr",
     "output_type": "stream",
     "text": [
      "WARNING:absl:At this time, the v2.11+ optimizer `tf.keras.optimizers.Adam` runs slowly on M1/M2 Macs, please use the legacy Keras optimizer instead, located at `tf.keras.optimizers.legacy.Adam`.\n"
     ]
    },
    {
     "name": "stdout",
     "output_type": "stream",
     "text": [
      "Activation: sigmoid\n",
      "Epoch: 150\n",
      "Batch Size: 24\n",
      "Optimizer learning rate: 0.0001\n",
      "Mean Squared Error: 111.2173667978917\n",
      "R^2: 0.9430527\n",
      "----------------------------------------------------------------\n",
      "17/17 [==============================] - 0s 502us/step\n"
     ]
    },
    {
     "name": "stderr",
     "output_type": "stream",
     "text": [
      "WARNING:absl:At this time, the v2.11+ optimizer `tf.keras.optimizers.Adam` runs slowly on M1/M2 Macs, please use the legacy Keras optimizer instead, located at `tf.keras.optimizers.legacy.Adam`.\n"
     ]
    },
    {
     "name": "stdout",
     "output_type": "stream",
     "text": [
      "Activation: sigmoid\n",
      "Epoch: 150\n",
      "Batch Size: 24\n",
      "Optimizer learning rate: 0.001\n",
      "Mean Squared Error: 4701.113495311406\n",
      "R^2: -1.4071383\n",
      "----------------------------------------------------------------\n",
      "17/17 [==============================] - 0s 385us/step\n"
     ]
    },
    {
     "name": "stderr",
     "output_type": "stream",
     "text": [
      "WARNING:absl:At this time, the v2.11+ optimizer `tf.keras.optimizers.Adam` runs slowly on M1/M2 Macs, please use the legacy Keras optimizer instead, located at `tf.keras.optimizers.legacy.Adam`.\n"
     ]
    },
    {
     "name": "stdout",
     "output_type": "stream",
     "text": [
      "Activation: sigmoid\n",
      "Epoch: 150\n",
      "Batch Size: 32\n",
      "Optimizer learning rate: 1e-05\n",
      "Mean Squared Error: 590.0421266202012\n",
      "R^2: 0.69787735\n",
      "----------------------------------------------------------------\n",
      "17/17 [==============================] - 0s 371us/step\n"
     ]
    },
    {
     "name": "stderr",
     "output_type": "stream",
     "text": [
      "WARNING:absl:At this time, the v2.11+ optimizer `tf.keras.optimizers.Adam` runs slowly on M1/M2 Macs, please use the legacy Keras optimizer instead, located at `tf.keras.optimizers.legacy.Adam`.\n"
     ]
    },
    {
     "name": "stdout",
     "output_type": "stream",
     "text": [
      "Activation: sigmoid\n",
      "Epoch: 150\n",
      "Batch Size: 32\n",
      "Optimizer learning rate: 0.0001\n",
      "Mean Squared Error: 170.9361952622325\n",
      "R^2: 0.9124746\n",
      "----------------------------------------------------------------\n",
      "17/17 [==============================] - 0s 466us/step\n"
     ]
    },
    {
     "name": "stderr",
     "output_type": "stream",
     "text": [
      "WARNING:absl:At this time, the v2.11+ optimizer `tf.keras.optimizers.Adam` runs slowly on M1/M2 Macs, please use the legacy Keras optimizer instead, located at `tf.keras.optimizers.legacy.Adam`.\n"
     ]
    },
    {
     "name": "stdout",
     "output_type": "stream",
     "text": [
      "Activation: sigmoid\n",
      "Epoch: 150\n",
      "Batch Size: 32\n",
      "Optimizer learning rate: 0.001\n",
      "Mean Squared Error: 4332.197666046412\n",
      "R^2: -1.2182405\n",
      "----------------------------------------------------------------\n",
      "17/17 [==============================] - 0s 497us/step\n"
     ]
    },
    {
     "name": "stderr",
     "output_type": "stream",
     "text": [
      "WARNING:absl:At this time, the v2.11+ optimizer `tf.keras.optimizers.Adam` runs slowly on M1/M2 Macs, please use the legacy Keras optimizer instead, located at `tf.keras.optimizers.legacy.Adam`.\n"
     ]
    },
    {
     "name": "stdout",
     "output_type": "stream",
     "text": [
      "Activation: sigmoid\n",
      "Epoch: 150\n",
      "Batch Size: 40\n",
      "Optimizer learning rate: 1e-05\n",
      "Mean Squared Error: 103.42706251974383\n",
      "R^2: 0.94704163\n",
      "----------------------------------------------------------------\n",
      "17/17 [==============================] - 0s 356us/step\n"
     ]
    },
    {
     "name": "stderr",
     "output_type": "stream",
     "text": [
      "WARNING:absl:At this time, the v2.11+ optimizer `tf.keras.optimizers.Adam` runs slowly on M1/M2 Macs, please use the legacy Keras optimizer instead, located at `tf.keras.optimizers.legacy.Adam`.\n"
     ]
    },
    {
     "name": "stdout",
     "output_type": "stream",
     "text": [
      "Activation: sigmoid\n",
      "Epoch: 150\n",
      "Batch Size: 40\n",
      "Optimizer learning rate: 0.0001\n",
      "Mean Squared Error: 82.70843786551328\n",
      "R^2: 0.9576503\n",
      "----------------------------------------------------------------\n",
      "17/17 [==============================] - 0s 419us/step\n"
     ]
    },
    {
     "name": "stderr",
     "output_type": "stream",
     "text": [
      "WARNING:absl:At this time, the v2.11+ optimizer `tf.keras.optimizers.Adam` runs slowly on M1/M2 Macs, please use the legacy Keras optimizer instead, located at `tf.keras.optimizers.legacy.Adam`.\n"
     ]
    },
    {
     "name": "stdout",
     "output_type": "stream",
     "text": [
      "Activation: sigmoid\n",
      "Epoch: 150\n",
      "Batch Size: 40\n",
      "Optimizer learning rate: 0.001\n",
      "Mean Squared Error: 3707.934162415154\n",
      "R^2: -0.898595\n",
      "----------------------------------------------------------------\n",
      "17/17 [==============================] - 0s 624us/step\n"
     ]
    },
    {
     "name": "stderr",
     "output_type": "stream",
     "text": [
      "WARNING:absl:At this time, the v2.11+ optimizer `tf.keras.optimizers.Adam` runs slowly on M1/M2 Macs, please use the legacy Keras optimizer instead, located at `tf.keras.optimizers.legacy.Adam`.\n"
     ]
    },
    {
     "name": "stdout",
     "output_type": "stream",
     "text": [
      "Activation: tanh\n",
      "Epoch: 50\n",
      "Batch Size: 24\n",
      "Optimizer learning rate: 1e-05\n",
      "Mean Squared Error: 359.1719640148176\n",
      "R^2: 0.81609106\n",
      "----------------------------------------------------------------\n",
      "17/17 [==============================] - 0s 400us/step\n"
     ]
    },
    {
     "name": "stderr",
     "output_type": "stream",
     "text": [
      "WARNING:absl:At this time, the v2.11+ optimizer `tf.keras.optimizers.Adam` runs slowly on M1/M2 Macs, please use the legacy Keras optimizer instead, located at `tf.keras.optimizers.legacy.Adam`.\n"
     ]
    },
    {
     "name": "stdout",
     "output_type": "stream",
     "text": [
      "Activation: tanh\n",
      "Epoch: 50\n",
      "Batch Size: 24\n",
      "Optimizer learning rate: 0.0001\n",
      "Mean Squared Error: 294.2635938444518\n",
      "R^2: 0.8493265\n",
      "----------------------------------------------------------------\n",
      "17/17 [==============================] - 0s 416us/step\n"
     ]
    },
    {
     "name": "stderr",
     "output_type": "stream",
     "text": [
      "WARNING:absl:At this time, the v2.11+ optimizer `tf.keras.optimizers.Adam` runs slowly on M1/M2 Macs, please use the legacy Keras optimizer instead, located at `tf.keras.optimizers.legacy.Adam`.\n"
     ]
    },
    {
     "name": "stdout",
     "output_type": "stream",
     "text": [
      "Activation: tanh\n",
      "Epoch: 50\n",
      "Batch Size: 24\n",
      "Optimizer learning rate: 0.001\n",
      "Mean Squared Error: 4700.775648216861\n",
      "R^2: -1.4069655\n",
      "----------------------------------------------------------------\n",
      "17/17 [==============================] - 0s 398us/step\n"
     ]
    },
    {
     "name": "stderr",
     "output_type": "stream",
     "text": [
      "WARNING:absl:At this time, the v2.11+ optimizer `tf.keras.optimizers.Adam` runs slowly on M1/M2 Macs, please use the legacy Keras optimizer instead, located at `tf.keras.optimizers.legacy.Adam`.\n"
     ]
    },
    {
     "name": "stdout",
     "output_type": "stream",
     "text": [
      "Activation: tanh\n",
      "Epoch: 50\n",
      "Batch Size: 32\n",
      "Optimizer learning rate: 1e-05\n",
      "Mean Squared Error: 457.761870708923\n",
      "R^2: 0.76560956\n",
      "----------------------------------------------------------------\n",
      "17/17 [==============================] - 0s 373us/step\n"
     ]
    },
    {
     "name": "stderr",
     "output_type": "stream",
     "text": [
      "WARNING:absl:At this time, the v2.11+ optimizer `tf.keras.optimizers.Adam` runs slowly on M1/M2 Macs, please use the legacy Keras optimizer instead, located at `tf.keras.optimizers.legacy.Adam`.\n"
     ]
    },
    {
     "name": "stdout",
     "output_type": "stream",
     "text": [
      "Activation: tanh\n",
      "Epoch: 50\n",
      "Batch Size: 32\n",
      "Optimizer learning rate: 0.0001\n",
      "Mean Squared Error: 212.75337239615692\n",
      "R^2: 0.8910627\n",
      "----------------------------------------------------------------\n",
      "17/17 [==============================] - 0s 543us/step\n"
     ]
    },
    {
     "name": "stderr",
     "output_type": "stream",
     "text": [
      "WARNING:absl:At this time, the v2.11+ optimizer `tf.keras.optimizers.Adam` runs slowly on M1/M2 Macs, please use the legacy Keras optimizer instead, located at `tf.keras.optimizers.legacy.Adam`.\n"
     ]
    },
    {
     "name": "stdout",
     "output_type": "stream",
     "text": [
      "Activation: tanh\n",
      "Epoch: 50\n",
      "Batch Size: 32\n",
      "Optimizer learning rate: 0.001\n",
      "Mean Squared Error: 3344.9402709503006\n",
      "R^2: -0.7127291\n",
      "----------------------------------------------------------------\n",
      "17/17 [==============================] - 0s 396us/step\n"
     ]
    },
    {
     "name": "stderr",
     "output_type": "stream",
     "text": [
      "WARNING:absl:At this time, the v2.11+ optimizer `tf.keras.optimizers.Adam` runs slowly on M1/M2 Macs, please use the legacy Keras optimizer instead, located at `tf.keras.optimizers.legacy.Adam`.\n"
     ]
    },
    {
     "name": "stdout",
     "output_type": "stream",
     "text": [
      "Activation: tanh\n",
      "Epoch: 50\n",
      "Batch Size: 40\n",
      "Optimizer learning rate: 1e-05\n",
      "Mean Squared Error: 144.71576531524116\n",
      "R^2: 0.92590034\n",
      "----------------------------------------------------------------\n",
      "17/17 [==============================] - 0s 454us/step\n"
     ]
    },
    {
     "name": "stderr",
     "output_type": "stream",
     "text": [
      "WARNING:absl:At this time, the v2.11+ optimizer `tf.keras.optimizers.Adam` runs slowly on M1/M2 Macs, please use the legacy Keras optimizer instead, located at `tf.keras.optimizers.legacy.Adam`.\n"
     ]
    },
    {
     "name": "stdout",
     "output_type": "stream",
     "text": [
      "Activation: tanh\n",
      "Epoch: 50\n",
      "Batch Size: 40\n",
      "Optimizer learning rate: 0.0001\n",
      "Mean Squared Error: 88.20563732980327\n",
      "R^2: 0.95483553\n",
      "----------------------------------------------------------------\n",
      "17/17 [==============================] - 0s 367us/step\n"
     ]
    },
    {
     "name": "stderr",
     "output_type": "stream",
     "text": [
      "WARNING:absl:At this time, the v2.11+ optimizer `tf.keras.optimizers.Adam` runs slowly on M1/M2 Macs, please use the legacy Keras optimizer instead, located at `tf.keras.optimizers.legacy.Adam`.\n"
     ]
    },
    {
     "name": "stdout",
     "output_type": "stream",
     "text": [
      "Activation: tanh\n",
      "Epoch: 50\n",
      "Batch Size: 40\n",
      "Optimizer learning rate: 0.001\n",
      "Mean Squared Error: 4371.960903686908\n",
      "R^2: -1.2386005\n",
      "----------------------------------------------------------------\n",
      "17/17 [==============================] - 0s 603us/step\n"
     ]
    },
    {
     "name": "stderr",
     "output_type": "stream",
     "text": [
      "WARNING:absl:At this time, the v2.11+ optimizer `tf.keras.optimizers.Adam` runs slowly on M1/M2 Macs, please use the legacy Keras optimizer instead, located at `tf.keras.optimizers.legacy.Adam`.\n"
     ]
    },
    {
     "name": "stdout",
     "output_type": "stream",
     "text": [
      "Activation: tanh\n",
      "Epoch: 75\n",
      "Batch Size: 24\n",
      "Optimizer learning rate: 1e-05\n",
      "Mean Squared Error: 171.92503312481927\n",
      "R^2: 0.91196823\n",
      "----------------------------------------------------------------\n",
      "17/17 [==============================] - 0s 419us/step\n"
     ]
    },
    {
     "name": "stderr",
     "output_type": "stream",
     "text": [
      "WARNING:absl:At this time, the v2.11+ optimizer `tf.keras.optimizers.Adam` runs slowly on M1/M2 Macs, please use the legacy Keras optimizer instead, located at `tf.keras.optimizers.legacy.Adam`.\n"
     ]
    },
    {
     "name": "stdout",
     "output_type": "stream",
     "text": [
      "Activation: tanh\n",
      "Epoch: 75\n",
      "Batch Size: 24\n",
      "Optimizer learning rate: 0.0001\n",
      "Mean Squared Error: 207.99159442734268\n",
      "R^2: 0.89350086\n",
      "----------------------------------------------------------------\n",
      "17/17 [==============================] - 0s 479us/step\n"
     ]
    },
    {
     "name": "stderr",
     "output_type": "stream",
     "text": [
      "WARNING:absl:At this time, the v2.11+ optimizer `tf.keras.optimizers.Adam` runs slowly on M1/M2 Macs, please use the legacy Keras optimizer instead, located at `tf.keras.optimizers.legacy.Adam`.\n"
     ]
    },
    {
     "name": "stdout",
     "output_type": "stream",
     "text": [
      "Activation: tanh\n",
      "Epoch: 75\n",
      "Batch Size: 24\n",
      "Optimizer learning rate: 0.001\n",
      "Mean Squared Error: 4253.01327853496\n",
      "R^2: -1.177695\n",
      "----------------------------------------------------------------\n",
      "17/17 [==============================] - 0s 412us/step\n"
     ]
    },
    {
     "name": "stderr",
     "output_type": "stream",
     "text": [
      "WARNING:absl:At this time, the v2.11+ optimizer `tf.keras.optimizers.Adam` runs slowly on M1/M2 Macs, please use the legacy Keras optimizer instead, located at `tf.keras.optimizers.legacy.Adam`.\n"
     ]
    },
    {
     "name": "stdout",
     "output_type": "stream",
     "text": [
      "Activation: tanh\n",
      "Epoch: 75\n",
      "Batch Size: 32\n",
      "Optimizer learning rate: 1e-05\n",
      "Mean Squared Error: 473.90307808375604\n",
      "R^2: 0.75734466\n",
      "----------------------------------------------------------------\n",
      "17/17 [==============================] - 0s 384us/step\n"
     ]
    },
    {
     "name": "stderr",
     "output_type": "stream",
     "text": [
      "WARNING:absl:At this time, the v2.11+ optimizer `tf.keras.optimizers.Adam` runs slowly on M1/M2 Macs, please use the legacy Keras optimizer instead, located at `tf.keras.optimizers.legacy.Adam`.\n"
     ]
    },
    {
     "name": "stdout",
     "output_type": "stream",
     "text": [
      "Activation: tanh\n",
      "Epoch: 75\n",
      "Batch Size: 32\n",
      "Optimizer learning rate: 0.0001\n",
      "Mean Squared Error: 66.34069511614899\n",
      "R^2: 0.9660312\n",
      "----------------------------------------------------------------\n",
      "17/17 [==============================] - 0s 403us/step\n"
     ]
    },
    {
     "name": "stderr",
     "output_type": "stream",
     "text": [
      "WARNING:absl:At this time, the v2.11+ optimizer `tf.keras.optimizers.Adam` runs slowly on M1/M2 Macs, please use the legacy Keras optimizer instead, located at `tf.keras.optimizers.legacy.Adam`.\n"
     ]
    },
    {
     "name": "stdout",
     "output_type": "stream",
     "text": [
      "Activation: tanh\n",
      "Epoch: 75\n",
      "Batch Size: 32\n",
      "Optimizer learning rate: 0.001\n",
      "Mean Squared Error: 4166.283690543803\n",
      "R^2: -1.1332865\n",
      "----------------------------------------------------------------\n",
      "17/17 [==============================] - 0s 381us/step\n"
     ]
    },
    {
     "name": "stderr",
     "output_type": "stream",
     "text": [
      "WARNING:absl:At this time, the v2.11+ optimizer `tf.keras.optimizers.Adam` runs slowly on M1/M2 Macs, please use the legacy Keras optimizer instead, located at `tf.keras.optimizers.legacy.Adam`.\n"
     ]
    },
    {
     "name": "stdout",
     "output_type": "stream",
     "text": [
      "Activation: tanh\n",
      "Epoch: 75\n",
      "Batch Size: 40\n",
      "Optimizer learning rate: 1e-05\n",
      "Mean Squared Error: 258.86932002196556\n",
      "R^2: 0.86744964\n",
      "----------------------------------------------------------------\n",
      "17/17 [==============================] - 0s 400us/step\n"
     ]
    },
    {
     "name": "stderr",
     "output_type": "stream",
     "text": [
      "WARNING:absl:At this time, the v2.11+ optimizer `tf.keras.optimizers.Adam` runs slowly on M1/M2 Macs, please use the legacy Keras optimizer instead, located at `tf.keras.optimizers.legacy.Adam`.\n"
     ]
    },
    {
     "name": "stdout",
     "output_type": "stream",
     "text": [
      "Activation: tanh\n",
      "Epoch: 75\n",
      "Batch Size: 40\n",
      "Optimizer learning rate: 0.0001\n",
      "Mean Squared Error: 139.97142691695487\n",
      "R^2: 0.9283296\n",
      "----------------------------------------------------------------\n",
      "17/17 [==============================] - 0s 488us/step\n"
     ]
    },
    {
     "name": "stderr",
     "output_type": "stream",
     "text": [
      "WARNING:absl:At this time, the v2.11+ optimizer `tf.keras.optimizers.Adam` runs slowly on M1/M2 Macs, please use the legacy Keras optimizer instead, located at `tf.keras.optimizers.legacy.Adam`.\n"
     ]
    },
    {
     "name": "stdout",
     "output_type": "stream",
     "text": [
      "Activation: tanh\n",
      "Epoch: 75\n",
      "Batch Size: 40\n",
      "Optimizer learning rate: 0.001\n",
      "Mean Squared Error: 4414.846562270411\n",
      "R^2: -1.2605593\n",
      "----------------------------------------------------------------\n",
      "17/17 [==============================] - 0s 405us/step\n"
     ]
    },
    {
     "name": "stderr",
     "output_type": "stream",
     "text": [
      "WARNING:absl:At this time, the v2.11+ optimizer `tf.keras.optimizers.Adam` runs slowly on M1/M2 Macs, please use the legacy Keras optimizer instead, located at `tf.keras.optimizers.legacy.Adam`.\n"
     ]
    },
    {
     "name": "stdout",
     "output_type": "stream",
     "text": [
      "Activation: tanh\n",
      "Epoch: 100\n",
      "Batch Size: 24\n",
      "Optimizer learning rate: 1e-05\n",
      "Mean Squared Error: 26.320219587223782\n",
      "R^2: 0.9865231\n",
      "----------------------------------------------------------------\n",
      "17/17 [==============================] - 0s 405us/step\n"
     ]
    },
    {
     "name": "stderr",
     "output_type": "stream",
     "text": [
      "WARNING:absl:At this time, the v2.11+ optimizer `tf.keras.optimizers.Adam` runs slowly on M1/M2 Macs, please use the legacy Keras optimizer instead, located at `tf.keras.optimizers.legacy.Adam`.\n"
     ]
    },
    {
     "name": "stdout",
     "output_type": "stream",
     "text": [
      "Activation: tanh\n",
      "Epoch: 100\n",
      "Batch Size: 24\n",
      "Optimizer learning rate: 0.0001\n",
      "Mean Squared Error: 236.1330727439312\n",
      "R^2: 0.87909144\n",
      "----------------------------------------------------------------\n",
      "17/17 [==============================] - 0s 405us/step\n"
     ]
    },
    {
     "name": "stderr",
     "output_type": "stream",
     "text": [
      "WARNING:absl:At this time, the v2.11+ optimizer `tf.keras.optimizers.Adam` runs slowly on M1/M2 Macs, please use the legacy Keras optimizer instead, located at `tf.keras.optimizers.legacy.Adam`.\n"
     ]
    },
    {
     "name": "stdout",
     "output_type": "stream",
     "text": [
      "Activation: tanh\n",
      "Epoch: 100\n",
      "Batch Size: 24\n",
      "Optimizer learning rate: 0.001\n",
      "Mean Squared Error: 2822.128145323278\n",
      "R^2: -0.44503057\n",
      "----------------------------------------------------------------\n",
      "17/17 [==============================] - 0s 347us/step\n"
     ]
    },
    {
     "name": "stderr",
     "output_type": "stream",
     "text": [
      "WARNING:absl:At this time, the v2.11+ optimizer `tf.keras.optimizers.Adam` runs slowly on M1/M2 Macs, please use the legacy Keras optimizer instead, located at `tf.keras.optimizers.legacy.Adam`.\n"
     ]
    },
    {
     "name": "stdout",
     "output_type": "stream",
     "text": [
      "Activation: tanh\n",
      "Epoch: 100\n",
      "Batch Size: 32\n",
      "Optimizer learning rate: 1e-05\n",
      "Mean Squared Error: 423.5482654966219\n",
      "R^2: 0.78312814\n",
      "----------------------------------------------------------------\n",
      "17/17 [==============================] - 0s 342us/step\n"
     ]
    },
    {
     "name": "stderr",
     "output_type": "stream",
     "text": [
      "WARNING:absl:At this time, the v2.11+ optimizer `tf.keras.optimizers.Adam` runs slowly on M1/M2 Macs, please use the legacy Keras optimizer instead, located at `tf.keras.optimizers.legacy.Adam`.\n"
     ]
    },
    {
     "name": "stdout",
     "output_type": "stream",
     "text": [
      "Activation: tanh\n",
      "Epoch: 100\n",
      "Batch Size: 32\n",
      "Optimizer learning rate: 0.0001\n",
      "Mean Squared Error: 131.57313099069145\n",
      "R^2: 0.9326298\n",
      "----------------------------------------------------------------\n",
      "17/17 [==============================] - 0s 380us/step\n"
     ]
    },
    {
     "name": "stderr",
     "output_type": "stream",
     "text": [
      "WARNING:absl:At this time, the v2.11+ optimizer `tf.keras.optimizers.Adam` runs slowly on M1/M2 Macs, please use the legacy Keras optimizer instead, located at `tf.keras.optimizers.legacy.Adam`.\n"
     ]
    },
    {
     "name": "stdout",
     "output_type": "stream",
     "text": [
      "Activation: tanh\n",
      "Epoch: 100\n",
      "Batch Size: 32\n",
      "Optimizer learning rate: 0.001\n",
      "Mean Squared Error: 3985.893822586325\n",
      "R^2: -1.0409203\n",
      "----------------------------------------------------------------\n",
      "17/17 [==============================] - 0s 394us/step\n"
     ]
    },
    {
     "name": "stderr",
     "output_type": "stream",
     "text": [
      "WARNING:absl:At this time, the v2.11+ optimizer `tf.keras.optimizers.Adam` runs slowly on M1/M2 Macs, please use the legacy Keras optimizer instead, located at `tf.keras.optimizers.legacy.Adam`.\n"
     ]
    },
    {
     "name": "stdout",
     "output_type": "stream",
     "text": [
      "Activation: tanh\n",
      "Epoch: 100\n",
      "Batch Size: 40\n",
      "Optimizer learning rate: 1e-05\n",
      "Mean Squared Error: 725.7400730954572\n",
      "R^2: 0.62839514\n",
      "----------------------------------------------------------------\n",
      "17/17 [==============================] - 0s 370us/step\n"
     ]
    },
    {
     "name": "stderr",
     "output_type": "stream",
     "text": [
      "WARNING:absl:At this time, the v2.11+ optimizer `tf.keras.optimizers.Adam` runs slowly on M1/M2 Macs, please use the legacy Keras optimizer instead, located at `tf.keras.optimizers.legacy.Adam`.\n"
     ]
    },
    {
     "name": "stdout",
     "output_type": "stream",
     "text": [
      "Activation: tanh\n",
      "Epoch: 100\n",
      "Batch Size: 40\n",
      "Optimizer learning rate: 0.0001\n",
      "Mean Squared Error: 97.70725084748787\n",
      "R^2: 0.94997036\n",
      "----------------------------------------------------------------\n",
      "17/17 [==============================] - 0s 358us/step\n"
     ]
    },
    {
     "name": "stderr",
     "output_type": "stream",
     "text": [
      "WARNING:absl:At this time, the v2.11+ optimizer `tf.keras.optimizers.Adam` runs slowly on M1/M2 Macs, please use the legacy Keras optimizer instead, located at `tf.keras.optimizers.legacy.Adam`.\n"
     ]
    },
    {
     "name": "stdout",
     "output_type": "stream",
     "text": [
      "Activation: tanh\n",
      "Epoch: 100\n",
      "Batch Size: 40\n",
      "Optimizer learning rate: 0.001\n",
      "Mean Squared Error: 3590.670309327595\n",
      "R^2: -0.83855176\n",
      "----------------------------------------------------------------\n",
      "17/17 [==============================] - 0s 370us/step\n"
     ]
    },
    {
     "name": "stderr",
     "output_type": "stream",
     "text": [
      "WARNING:absl:At this time, the v2.11+ optimizer `tf.keras.optimizers.Adam` runs slowly on M1/M2 Macs, please use the legacy Keras optimizer instead, located at `tf.keras.optimizers.legacy.Adam`.\n"
     ]
    },
    {
     "name": "stdout",
     "output_type": "stream",
     "text": [
      "Activation: tanh\n",
      "Epoch: 150\n",
      "Batch Size: 24\n",
      "Optimizer learning rate: 1e-05\n",
      "Mean Squared Error: 547.9655012289165\n",
      "R^2: 0.71942204\n",
      "----------------------------------------------------------------\n",
      "17/17 [==============================] - 0s 349us/step\n"
     ]
    },
    {
     "name": "stderr",
     "output_type": "stream",
     "text": [
      "WARNING:absl:At this time, the v2.11+ optimizer `tf.keras.optimizers.Adam` runs slowly on M1/M2 Macs, please use the legacy Keras optimizer instead, located at `tf.keras.optimizers.legacy.Adam`.\n"
     ]
    },
    {
     "name": "stdout",
     "output_type": "stream",
     "text": [
      "Activation: tanh\n",
      "Epoch: 150\n",
      "Batch Size: 24\n",
      "Optimizer learning rate: 0.0001\n",
      "Mean Squared Error: 215.80947659620787\n",
      "R^2: 0.8894978\n",
      "----------------------------------------------------------------\n",
      "17/17 [==============================] - 0s 348us/step\n"
     ]
    },
    {
     "name": "stderr",
     "output_type": "stream",
     "text": [
      "WARNING:absl:At this time, the v2.11+ optimizer `tf.keras.optimizers.Adam` runs slowly on M1/M2 Macs, please use the legacy Keras optimizer instead, located at `tf.keras.optimizers.legacy.Adam`.\n"
     ]
    },
    {
     "name": "stdout",
     "output_type": "stream",
     "text": [
      "Activation: tanh\n",
      "Epoch: 150\n",
      "Batch Size: 24\n",
      "Optimizer learning rate: 0.001\n",
      "Mean Squared Error: 2531.977315125321\n",
      "R^2: -0.296463\n",
      "----------------------------------------------------------------\n",
      "17/17 [==============================] - 0s 484us/step\n"
     ]
    },
    {
     "name": "stderr",
     "output_type": "stream",
     "text": [
      "WARNING:absl:At this time, the v2.11+ optimizer `tf.keras.optimizers.Adam` runs slowly on M1/M2 Macs, please use the legacy Keras optimizer instead, located at `tf.keras.optimizers.legacy.Adam`.\n"
     ]
    },
    {
     "name": "stdout",
     "output_type": "stream",
     "text": [
      "Activation: tanh\n",
      "Epoch: 150\n",
      "Batch Size: 32\n",
      "Optimizer learning rate: 1e-05\n",
      "Mean Squared Error: 589.2601170335405\n",
      "R^2: 0.6982777\n",
      "----------------------------------------------------------------\n",
      "17/17 [==============================] - 0s 355us/step\n"
     ]
    },
    {
     "name": "stderr",
     "output_type": "stream",
     "text": [
      "WARNING:absl:At this time, the v2.11+ optimizer `tf.keras.optimizers.Adam` runs slowly on M1/M2 Macs, please use the legacy Keras optimizer instead, located at `tf.keras.optimizers.legacy.Adam`.\n"
     ]
    },
    {
     "name": "stdout",
     "output_type": "stream",
     "text": [
      "Activation: tanh\n",
      "Epoch: 150\n",
      "Batch Size: 32\n",
      "Optimizer learning rate: 0.0001\n",
      "Mean Squared Error: 265.7432166542904\n",
      "R^2: 0.86393\n",
      "----------------------------------------------------------------\n",
      "17/17 [==============================] - 0s 364us/step\n"
     ]
    },
    {
     "name": "stderr",
     "output_type": "stream",
     "text": [
      "WARNING:absl:At this time, the v2.11+ optimizer `tf.keras.optimizers.Adam` runs slowly on M1/M2 Macs, please use the legacy Keras optimizer instead, located at `tf.keras.optimizers.legacy.Adam`.\n"
     ]
    },
    {
     "name": "stdout",
     "output_type": "stream",
     "text": [
      "Activation: tanh\n",
      "Epoch: 150\n",
      "Batch Size: 32\n",
      "Optimizer learning rate: 0.001\n",
      "Mean Squared Error: 3794.0376580588\n",
      "R^2: -0.942683\n",
      "----------------------------------------------------------------\n",
      "17/17 [==============================] - 0s 354us/step\n"
     ]
    },
    {
     "name": "stderr",
     "output_type": "stream",
     "text": [
      "WARNING:absl:At this time, the v2.11+ optimizer `tf.keras.optimizers.Adam` runs slowly on M1/M2 Macs, please use the legacy Keras optimizer instead, located at `tf.keras.optimizers.legacy.Adam`.\n"
     ]
    },
    {
     "name": "stdout",
     "output_type": "stream",
     "text": [
      "Activation: tanh\n",
      "Epoch: 150\n",
      "Batch Size: 40\n",
      "Optimizer learning rate: 1e-05\n",
      "Mean Squared Error: 302.2545755452974\n",
      "R^2: 0.8452349\n",
      "----------------------------------------------------------------\n",
      "17/17 [==============================] - 0s 357us/step\n"
     ]
    },
    {
     "name": "stderr",
     "output_type": "stream",
     "text": [
      "WARNING:absl:At this time, the v2.11+ optimizer `tf.keras.optimizers.Adam` runs slowly on M1/M2 Macs, please use the legacy Keras optimizer instead, located at `tf.keras.optimizers.legacy.Adam`.\n"
     ]
    },
    {
     "name": "stdout",
     "output_type": "stream",
     "text": [
      "Activation: tanh\n",
      "Epoch: 150\n",
      "Batch Size: 40\n",
      "Optimizer learning rate: 0.0001\n",
      "Mean Squared Error: 259.55662005663316\n",
      "R^2: 0.86709774\n",
      "----------------------------------------------------------------\n",
      "17/17 [==============================] - 0s 412us/step\n",
      "Activation: tanh\n",
      "Epoch: 150\n",
      "Batch Size: 40\n",
      "Optimizer learning rate: 0.001\n",
      "Mean Squared Error: 3973.5761916614415\n",
      "R^2: -1.0346131\n",
      "----------------------------------------------------------------\n"
     ]
    }
   ],
   "source": [
    "ret = []\n",
    "for activation in ['relu', 'sigmoid', 'tanh']:\n",
    "    for epochs in [50, 75, 100, 150]:\n",
    "        for batch_size in [24, 32, 40]:\n",
    "            for op_learning_rate in [1e-5, 1e-4, 1e-3]:\n",
    "                for hidden in [32, 64, 128]:\n",
    "                    for dropout in [0.05, 0.1, 0.15]:\n",
    "                        mse, r2 = create_model_A(activation=activation, epochs=epochs, batch_size=batch_size, op_learning_rate=op_learning_rate, hidden=hidden, dropout=dropout)\n",
    "                        ret.append([activation, epochs, batch_size, op_learning_rate, hidden, dropout, mse, r2])\n",
    "    "
   ]
  },
  {
   "cell_type": "code",
   "execution_count": 22,
   "id": "61026e08",
   "metadata": {},
   "outputs": [
    {
     "name": "stdout",
     "output_type": "stream",
     "text": [
      "['tanh', 100, 24, 1e-05, 26.320219587223782, 0.9865231]\n"
     ]
    }
   ],
   "source": [
    "print(\"Best MSE for ANN:\", sorted(ret, key=lambda x:x[7])[0])\n",
    "print(\"Best R^2 for ANN:\", sorted(ret, key=lambda x:-x[8])[0])"
   ]
  },
  {
   "cell_type": "code",
   "execution_count": 23,
   "id": "c7822421",
   "metadata": {},
   "outputs": [
    {
     "name": "stdout",
     "output_type": "stream",
     "text": [
      "['tanh', 100, 24, 1e-05, 26.320219587223782, 0.9865231]\n"
     ]
    }
   ],
   "source": [
    "print(sorted(ret, key=lambda x:-x[7])[0])"
   ]
  },
  {
   "cell_type": "code",
   "execution_count": 26,
   "id": "04f3a109",
   "metadata": {},
   "outputs": [],
   "source": [
    "def create_model_P(activation=None, epochs=100, batch_size=32, op_learning_rate=1e-5):\n",
    "    model = Sequential()\n",
    "    model.add(Dense(1, input_dim=X_train.shape[1], activation=activation))\n",
    "\n",
    "    # Compile the model\n",
    "    optimizer = Adam(learning_rate=op_learning_rate)  # Experiment with learning rate\n",
    "    model.compile(optimizer=optimizer, loss='mean_squared_error')\n",
    "\n",
    "    # Train the model\n",
    "    history = model.fit(X_train, Y_train, epochs=epochs, batch_size=batch_size, validation_data=(X_test, Y_test), verbose=0)\n",
    "\n",
    "    # Make predictions\n",
    "    Y_pred = model.predict(X_test)\n",
    "\n",
    "    # Inverse transform the scaled values\n",
    "    Y_test_original = scaler_Y.inverse_transform(Y_test)\n",
    "    Y_pred_original = scaler_Y.inverse_transform(Y_pred)\n",
    "\n",
    "    print(f\"Activation: {activation}\\nEpoch: {epochs}\\nBatch Size: {batch_size}\\nOptimizer learning rate: {op_learning_rate}\")\n",
    "    # Calculate MSE\n",
    "    mse = mean_squared_error(Y_test_original, Y_pred_original)\n",
    "    print(f\"Mean Squared Error (Perceptron): {mse}\")\n",
    "    metric = tf.keras.metrics.R2Score()\n",
    "    metric.update_state(Y_test_original, Y_pred_original)\n",
    "    r2 = metric.result().numpy()\n",
    "    print(\"R^2:\", metric.result().numpy())\n",
    "    print(\"-\"*64)\n",
    "    return mse, r2\n"
   ]
  },
  {
   "cell_type": "code",
   "execution_count": 27,
   "id": "c36e7d73",
   "metadata": {
    "scrolled": false
   },
   "outputs": [
    {
     "name": "stderr",
     "output_type": "stream",
     "text": [
      "WARNING:absl:At this time, the v2.11+ optimizer `tf.keras.optimizers.Adam` runs slowly on M1/M2 Macs, please use the legacy Keras optimizer instead, located at `tf.keras.optimizers.legacy.Adam`.\n"
     ]
    },
    {
     "name": "stdout",
     "output_type": "stream",
     "text": [
      "17/17 [==============================] - 0s 400us/step\n"
     ]
    },
    {
     "name": "stderr",
     "output_type": "stream",
     "text": [
      "WARNING:absl:At this time, the v2.11+ optimizer `tf.keras.optimizers.Adam` runs slowly on M1/M2 Macs, please use the legacy Keras optimizer instead, located at `tf.keras.optimizers.legacy.Adam`.\n"
     ]
    },
    {
     "name": "stdout",
     "output_type": "stream",
     "text": [
      "Activation: None\n",
      "Epoch: 50\n",
      "Batch Size: 24\n",
      "Optimizer learning rate: 1e-05\n",
      "Mean Squared Error (Perceptron): 3659.344585896918\n",
      "R^2: -0.8737154\n",
      "----------------------------------------------------------------\n",
      "17/17 [==============================] - 0s 306us/step\n"
     ]
    },
    {
     "name": "stderr",
     "output_type": "stream",
     "text": [
      "WARNING:absl:At this time, the v2.11+ optimizer `tf.keras.optimizers.Adam` runs slowly on M1/M2 Macs, please use the legacy Keras optimizer instead, located at `tf.keras.optimizers.legacy.Adam`.\n"
     ]
    },
    {
     "name": "stdout",
     "output_type": "stream",
     "text": [
      "Activation: None\n",
      "Epoch: 50\n",
      "Batch Size: 24\n",
      "Optimizer learning rate: 0.0001\n",
      "Mean Squared Error (Perceptron): 446.8241281785368\n",
      "R^2: 0.7712101\n",
      "----------------------------------------------------------------\n",
      "17/17 [==============================] - 0s 433us/step\n"
     ]
    },
    {
     "name": "stderr",
     "output_type": "stream",
     "text": [
      "WARNING:absl:At this time, the v2.11+ optimizer `tf.keras.optimizers.Adam` runs slowly on M1/M2 Macs, please use the legacy Keras optimizer instead, located at `tf.keras.optimizers.legacy.Adam`.\n"
     ]
    },
    {
     "name": "stdout",
     "output_type": "stream",
     "text": [
      "Activation: None\n",
      "Epoch: 50\n",
      "Batch Size: 24\n",
      "Optimizer learning rate: 0.001\n",
      "Mean Squared Error (Perceptron): 10377.447823250888\n",
      "R^2: -4.3136253\n",
      "----------------------------------------------------------------\n",
      "17/17 [==============================] - 0s 398us/step\n"
     ]
    },
    {
     "name": "stderr",
     "output_type": "stream",
     "text": [
      "WARNING:absl:At this time, the v2.11+ optimizer `tf.keras.optimizers.Adam` runs slowly on M1/M2 Macs, please use the legacy Keras optimizer instead, located at `tf.keras.optimizers.legacy.Adam`.\n"
     ]
    },
    {
     "name": "stdout",
     "output_type": "stream",
     "text": [
      "Activation: None\n",
      "Epoch: 50\n",
      "Batch Size: 32\n",
      "Optimizer learning rate: 1e-05\n",
      "Mean Squared Error (Perceptron): 25647.733277543215\n",
      "R^2: -12.132557\n",
      "----------------------------------------------------------------\n",
      "17/17 [==============================] - 0s 337us/step\n"
     ]
    },
    {
     "name": "stderr",
     "output_type": "stream",
     "text": [
      "WARNING:absl:At this time, the v2.11+ optimizer `tf.keras.optimizers.Adam` runs slowly on M1/M2 Macs, please use the legacy Keras optimizer instead, located at `tf.keras.optimizers.legacy.Adam`.\n"
     ]
    },
    {
     "name": "stdout",
     "output_type": "stream",
     "text": [
      "Activation: None\n",
      "Epoch: 50\n",
      "Batch Size: 32\n",
      "Optimizer learning rate: 0.0001\n",
      "Mean Squared Error (Perceptron): 2746.016802749999\n",
      "R^2: -0.4060589\n",
      "----------------------------------------------------------------\n",
      "17/17 [==============================] - 0s 393us/step\n"
     ]
    },
    {
     "name": "stderr",
     "output_type": "stream",
     "text": [
      "WARNING:absl:At this time, the v2.11+ optimizer `tf.keras.optimizers.Adam` runs slowly on M1/M2 Macs, please use the legacy Keras optimizer instead, located at `tf.keras.optimizers.legacy.Adam`.\n"
     ]
    },
    {
     "name": "stdout",
     "output_type": "stream",
     "text": [
      "Activation: None\n",
      "Epoch: 50\n",
      "Batch Size: 32\n",
      "Optimizer learning rate: 0.001\n",
      "Mean Squared Error (Perceptron): 5446.353029175859\n",
      "R^2: -1.7887275\n",
      "----------------------------------------------------------------\n",
      "17/17 [==============================] - 0s 366us/step\n"
     ]
    },
    {
     "name": "stderr",
     "output_type": "stream",
     "text": [
      "WARNING:absl:At this time, the v2.11+ optimizer `tf.keras.optimizers.Adam` runs slowly on M1/M2 Macs, please use the legacy Keras optimizer instead, located at `tf.keras.optimizers.legacy.Adam`.\n"
     ]
    },
    {
     "name": "stdout",
     "output_type": "stream",
     "text": [
      "Activation: None\n",
      "Epoch: 50\n",
      "Batch Size: 40\n",
      "Optimizer learning rate: 1e-05\n",
      "Mean Squared Error (Perceptron): 18182.782123925273\n",
      "R^2: -8.310236\n",
      "----------------------------------------------------------------\n",
      "17/17 [==============================] - 0s 399us/step\n"
     ]
    },
    {
     "name": "stderr",
     "output_type": "stream",
     "text": [
      "WARNING:absl:At this time, the v2.11+ optimizer `tf.keras.optimizers.Adam` runs slowly on M1/M2 Macs, please use the legacy Keras optimizer instead, located at `tf.keras.optimizers.legacy.Adam`.\n"
     ]
    },
    {
     "name": "stdout",
     "output_type": "stream",
     "text": [
      "Activation: None\n",
      "Epoch: 50\n",
      "Batch Size: 40\n",
      "Optimizer learning rate: 0.0001\n",
      "Mean Squared Error (Perceptron): 2948.6402078063056\n",
      "R^2: -0.50980926\n",
      "----------------------------------------------------------------\n",
      "17/17 [==============================] - 0s 365us/step\n"
     ]
    },
    {
     "name": "stderr",
     "output_type": "stream",
     "text": [
      "WARNING:absl:At this time, the v2.11+ optimizer `tf.keras.optimizers.Adam` runs slowly on M1/M2 Macs, please use the legacy Keras optimizer instead, located at `tf.keras.optimizers.legacy.Adam`.\n"
     ]
    },
    {
     "name": "stdout",
     "output_type": "stream",
     "text": [
      "Activation: None\n",
      "Epoch: 50\n",
      "Batch Size: 40\n",
      "Optimizer learning rate: 0.001\n",
      "Mean Squared Error (Perceptron): 919.2008330414486\n",
      "R^2: 0.5293363\n",
      "----------------------------------------------------------------\n",
      "17/17 [==============================] - 0s 305us/step\n"
     ]
    },
    {
     "name": "stderr",
     "output_type": "stream",
     "text": [
      "WARNING:absl:At this time, the v2.11+ optimizer `tf.keras.optimizers.Adam` runs slowly on M1/M2 Macs, please use the legacy Keras optimizer instead, located at `tf.keras.optimizers.legacy.Adam`.\n"
     ]
    },
    {
     "name": "stdout",
     "output_type": "stream",
     "text": [
      "Activation: None\n",
      "Epoch: 75\n",
      "Batch Size: 24\n",
      "Optimizer learning rate: 1e-05\n",
      "Mean Squared Error (Perceptron): 1533.5362543312474\n",
      "R^2: 0.21477461\n",
      "----------------------------------------------------------------\n",
      "17/17 [==============================] - 0s 321us/step\n"
     ]
    },
    {
     "name": "stderr",
     "output_type": "stream",
     "text": [
      "WARNING:absl:At this time, the v2.11+ optimizer `tf.keras.optimizers.Adam` runs slowly on M1/M2 Macs, please use the legacy Keras optimizer instead, located at `tf.keras.optimizers.legacy.Adam`.\n"
     ]
    },
    {
     "name": "stdout",
     "output_type": "stream",
     "text": [
      "Activation: None\n",
      "Epoch: 75\n",
      "Batch Size: 24\n",
      "Optimizer learning rate: 0.0001\n",
      "Mean Squared Error (Perceptron): 5102.302665311693\n",
      "R^2: -1.6125617\n",
      "----------------------------------------------------------------\n",
      "17/17 [==============================] - 0s 318us/step\n"
     ]
    },
    {
     "name": "stderr",
     "output_type": "stream",
     "text": [
      "WARNING:absl:At this time, the v2.11+ optimizer `tf.keras.optimizers.Adam` runs slowly on M1/M2 Macs, please use the legacy Keras optimizer instead, located at `tf.keras.optimizers.legacy.Adam`.\n"
     ]
    },
    {
     "name": "stdout",
     "output_type": "stream",
     "text": [
      "Activation: None\n",
      "Epoch: 75\n",
      "Batch Size: 24\n",
      "Optimizer learning rate: 0.001\n",
      "Mean Squared Error (Perceptron): 7.653645086288151\n",
      "R^2: 0.99608105\n",
      "----------------------------------------------------------------\n",
      "17/17 [==============================] - 0s 394us/step\n"
     ]
    },
    {
     "name": "stderr",
     "output_type": "stream",
     "text": [
      "WARNING:absl:At this time, the v2.11+ optimizer `tf.keras.optimizers.Adam` runs slowly on M1/M2 Macs, please use the legacy Keras optimizer instead, located at `tf.keras.optimizers.legacy.Adam`.\n"
     ]
    },
    {
     "name": "stdout",
     "output_type": "stream",
     "text": [
      "Activation: None\n",
      "Epoch: 75\n",
      "Batch Size: 32\n",
      "Optimizer learning rate: 1e-05\n",
      "Mean Squared Error (Perceptron): 21626.329967037636\n",
      "R^2: -10.073455\n",
      "----------------------------------------------------------------\n",
      "17/17 [==============================] - 0s 370us/step\n"
     ]
    },
    {
     "name": "stderr",
     "output_type": "stream",
     "text": [
      "WARNING:absl:At this time, the v2.11+ optimizer `tf.keras.optimizers.Adam` runs slowly on M1/M2 Macs, please use the legacy Keras optimizer instead, located at `tf.keras.optimizers.legacy.Adam`.\n"
     ]
    },
    {
     "name": "stdout",
     "output_type": "stream",
     "text": [
      "Activation: None\n",
      "Epoch: 75\n",
      "Batch Size: 32\n",
      "Optimizer learning rate: 0.0001\n",
      "Mean Squared Error (Perceptron): 3675.174924442757\n",
      "R^2: -0.88182116\n",
      "----------------------------------------------------------------\n",
      "17/17 [==============================] - 0s 366us/step\n"
     ]
    },
    {
     "name": "stderr",
     "output_type": "stream",
     "text": [
      "WARNING:absl:At this time, the v2.11+ optimizer `tf.keras.optimizers.Adam` runs slowly on M1/M2 Macs, please use the legacy Keras optimizer instead, located at `tf.keras.optimizers.legacy.Adam`.\n"
     ]
    },
    {
     "name": "stdout",
     "output_type": "stream",
     "text": [
      "Activation: None\n",
      "Epoch: 75\n",
      "Batch Size: 32\n",
      "Optimizer learning rate: 0.001\n",
      "Mean Squared Error (Perceptron): 693.1917281861887\n",
      "R^2: 0.645061\n",
      "----------------------------------------------------------------\n",
      "17/17 [==============================] - 0s 596us/step\n"
     ]
    },
    {
     "name": "stderr",
     "output_type": "stream",
     "text": [
      "WARNING:absl:At this time, the v2.11+ optimizer `tf.keras.optimizers.Adam` runs slowly on M1/M2 Macs, please use the legacy Keras optimizer instead, located at `tf.keras.optimizers.legacy.Adam`.\n"
     ]
    },
    {
     "name": "stdout",
     "output_type": "stream",
     "text": [
      "Activation: None\n",
      "Epoch: 75\n",
      "Batch Size: 40\n",
      "Optimizer learning rate: 1e-05\n",
      "Mean Squared Error (Perceptron): 44210.4222310193\n",
      "R^2: -21.63732\n",
      "----------------------------------------------------------------\n",
      "17/17 [==============================] - 0s 383us/step\n"
     ]
    },
    {
     "name": "stderr",
     "output_type": "stream",
     "text": [
      "WARNING:absl:At this time, the v2.11+ optimizer `tf.keras.optimizers.Adam` runs slowly on M1/M2 Macs, please use the legacy Keras optimizer instead, located at `tf.keras.optimizers.legacy.Adam`.\n"
     ]
    },
    {
     "name": "stdout",
     "output_type": "stream",
     "text": [
      "Activation: None\n",
      "Epoch: 75\n",
      "Batch Size: 40\n",
      "Optimizer learning rate: 0.0001\n",
      "Mean Squared Error (Perceptron): 5163.316829273561\n",
      "R^2: -1.6438031\n",
      "----------------------------------------------------------------\n",
      "17/17 [==============================] - 0s 447us/step\n"
     ]
    },
    {
     "name": "stderr",
     "output_type": "stream",
     "text": [
      "WARNING:absl:At this time, the v2.11+ optimizer `tf.keras.optimizers.Adam` runs slowly on M1/M2 Macs, please use the legacy Keras optimizer instead, located at `tf.keras.optimizers.legacy.Adam`.\n"
     ]
    },
    {
     "name": "stdout",
     "output_type": "stream",
     "text": [
      "Activation: None\n",
      "Epoch: 75\n",
      "Batch Size: 40\n",
      "Optimizer learning rate: 0.001\n",
      "Mean Squared Error (Perceptron): 14001.19082740127\n",
      "R^2: -6.169111\n",
      "----------------------------------------------------------------\n",
      "17/17 [==============================] - 0s 593us/step\n"
     ]
    },
    {
     "name": "stderr",
     "output_type": "stream",
     "text": [
      "WARNING:absl:At this time, the v2.11+ optimizer `tf.keras.optimizers.Adam` runs slowly on M1/M2 Macs, please use the legacy Keras optimizer instead, located at `tf.keras.optimizers.legacy.Adam`.\n"
     ]
    },
    {
     "name": "stdout",
     "output_type": "stream",
     "text": [
      "Activation: None\n",
      "Epoch: 100\n",
      "Batch Size: 24\n",
      "Optimizer learning rate: 1e-05\n",
      "Mean Squared Error (Perceptron): 16485.36058650719\n",
      "R^2: -7.4410944\n",
      "----------------------------------------------------------------\n",
      "17/17 [==============================] - 0s 432us/step\n"
     ]
    },
    {
     "name": "stderr",
     "output_type": "stream",
     "text": [
      "WARNING:absl:At this time, the v2.11+ optimizer `tf.keras.optimizers.Adam` runs slowly on M1/M2 Macs, please use the legacy Keras optimizer instead, located at `tf.keras.optimizers.legacy.Adam`.\n"
     ]
    },
    {
     "name": "stdout",
     "output_type": "stream",
     "text": [
      "Activation: None\n",
      "Epoch: 100\n",
      "Batch Size: 24\n",
      "Optimizer learning rate: 0.0001\n",
      "Mean Squared Error (Perceptron): 24.732743732645968\n",
      "R^2: 0.9873359\n",
      "----------------------------------------------------------------\n",
      "17/17 [==============================] - 0s 361us/step\n"
     ]
    },
    {
     "name": "stderr",
     "output_type": "stream",
     "text": [
      "WARNING:absl:At this time, the v2.11+ optimizer `tf.keras.optimizers.Adam` runs slowly on M1/M2 Macs, please use the legacy Keras optimizer instead, located at `tf.keras.optimizers.legacy.Adam`.\n"
     ]
    },
    {
     "name": "stdout",
     "output_type": "stream",
     "text": [
      "Activation: None\n",
      "Epoch: 100\n",
      "Batch Size: 24\n",
      "Optimizer learning rate: 0.001\n",
      "Mean Squared Error (Perceptron): 13.63911341634896\n",
      "R^2: 0.9930163\n",
      "----------------------------------------------------------------\n",
      "17/17 [==============================] - 0s 343us/step\n"
     ]
    },
    {
     "name": "stderr",
     "output_type": "stream",
     "text": [
      "WARNING:absl:At this time, the v2.11+ optimizer `tf.keras.optimizers.Adam` runs slowly on M1/M2 Macs, please use the legacy Keras optimizer instead, located at `tf.keras.optimizers.legacy.Adam`.\n"
     ]
    },
    {
     "name": "stdout",
     "output_type": "stream",
     "text": [
      "Activation: None\n",
      "Epoch: 100\n",
      "Batch Size: 32\n",
      "Optimizer learning rate: 1e-05\n",
      "Mean Squared Error (Perceptron): 8719.383789337468\n",
      "R^2: -3.4646358\n",
      "----------------------------------------------------------------\n",
      "17/17 [==============================] - 0s 354us/step\n"
     ]
    },
    {
     "name": "stderr",
     "output_type": "stream",
     "text": [
      "WARNING:absl:At this time, the v2.11+ optimizer `tf.keras.optimizers.Adam` runs slowly on M1/M2 Macs, please use the legacy Keras optimizer instead, located at `tf.keras.optimizers.legacy.Adam`.\n"
     ]
    },
    {
     "name": "stdout",
     "output_type": "stream",
     "text": [
      "Activation: None\n",
      "Epoch: 100\n",
      "Batch Size: 32\n",
      "Optimizer learning rate: 0.0001\n",
      "Mean Squared Error (Perceptron): 443.5522025216776\n",
      "R^2: 0.7728854\n",
      "----------------------------------------------------------------\n",
      "17/17 [==============================] - 0s 341us/step\n"
     ]
    },
    {
     "name": "stderr",
     "output_type": "stream",
     "text": [
      "WARNING:absl:At this time, the v2.11+ optimizer `tf.keras.optimizers.Adam` runs slowly on M1/M2 Macs, please use the legacy Keras optimizer instead, located at `tf.keras.optimizers.legacy.Adam`.\n"
     ]
    },
    {
     "name": "stdout",
     "output_type": "stream",
     "text": [
      "Activation: None\n",
      "Epoch: 100\n",
      "Batch Size: 32\n",
      "Optimizer learning rate: 0.001\n",
      "Mean Squared Error (Perceptron): 4.053875697297477\n",
      "R^2: 0.99792427\n",
      "----------------------------------------------------------------\n",
      "17/17 [==============================] - 0s 332us/step\n"
     ]
    },
    {
     "name": "stderr",
     "output_type": "stream",
     "text": [
      "WARNING:absl:At this time, the v2.11+ optimizer `tf.keras.optimizers.Adam` runs slowly on M1/M2 Macs, please use the legacy Keras optimizer instead, located at `tf.keras.optimizers.legacy.Adam`.\n"
     ]
    },
    {
     "name": "stdout",
     "output_type": "stream",
     "text": [
      "Activation: None\n",
      "Epoch: 100\n",
      "Batch Size: 40\n",
      "Optimizer learning rate: 1e-05\n",
      "Mean Squared Error (Perceptron): 7020.78067003808\n",
      "R^2: -2.594891\n",
      "----------------------------------------------------------------\n",
      "17/17 [==============================] - 0s 331us/step\n"
     ]
    },
    {
     "name": "stderr",
     "output_type": "stream",
     "text": [
      "WARNING:absl:At this time, the v2.11+ optimizer `tf.keras.optimizers.Adam` runs slowly on M1/M2 Macs, please use the legacy Keras optimizer instead, located at `tf.keras.optimizers.legacy.Adam`.\n"
     ]
    },
    {
     "name": "stdout",
     "output_type": "stream",
     "text": [
      "Activation: None\n",
      "Epoch: 100\n",
      "Batch Size: 40\n",
      "Optimizer learning rate: 0.0001\n",
      "Mean Squared Error (Perceptron): 56.24046490712836\n",
      "R^2: 0.97120285\n",
      "----------------------------------------------------------------\n",
      "17/17 [==============================] - 0s 321us/step\n"
     ]
    },
    {
     "name": "stderr",
     "output_type": "stream",
     "text": [
      "WARNING:absl:At this time, the v2.11+ optimizer `tf.keras.optimizers.Adam` runs slowly on M1/M2 Macs, please use the legacy Keras optimizer instead, located at `tf.keras.optimizers.legacy.Adam`.\n"
     ]
    },
    {
     "name": "stdout",
     "output_type": "stream",
     "text": [
      "Activation: None\n",
      "Epoch: 100\n",
      "Batch Size: 40\n",
      "Optimizer learning rate: 0.001\n",
      "Mean Squared Error (Perceptron): 97.80386792176681\n",
      "R^2: 0.9499209\n",
      "----------------------------------------------------------------\n",
      "17/17 [==============================] - 0s 823us/step\n"
     ]
    },
    {
     "name": "stderr",
     "output_type": "stream",
     "text": [
      "WARNING:absl:At this time, the v2.11+ optimizer `tf.keras.optimizers.Adam` runs slowly on M1/M2 Macs, please use the legacy Keras optimizer instead, located at `tf.keras.optimizers.legacy.Adam`.\n"
     ]
    },
    {
     "name": "stdout",
     "output_type": "stream",
     "text": [
      "Activation: None\n",
      "Epoch: 150\n",
      "Batch Size: 24\n",
      "Optimizer learning rate: 1e-05\n",
      "Mean Squared Error (Perceptron): 4041.825043450821\n",
      "R^2: -1.0695591\n",
      "----------------------------------------------------------------\n",
      "17/17 [==============================] - 0s 389us/step\n"
     ]
    },
    {
     "name": "stderr",
     "output_type": "stream",
     "text": [
      "WARNING:absl:At this time, the v2.11+ optimizer `tf.keras.optimizers.Adam` runs slowly on M1/M2 Macs, please use the legacy Keras optimizer instead, located at `tf.keras.optimizers.legacy.Adam`.\n"
     ]
    },
    {
     "name": "stdout",
     "output_type": "stream",
     "text": [
      "Activation: None\n",
      "Epoch: 150\n",
      "Batch Size: 24\n",
      "Optimizer learning rate: 0.0001\n",
      "Mean Squared Error (Perceptron): 35.99619098651179\n",
      "R^2: 0.98156863\n",
      "----------------------------------------------------------------\n",
      "17/17 [==============================] - 0s 324us/step\n"
     ]
    },
    {
     "name": "stderr",
     "output_type": "stream",
     "text": [
      "WARNING:absl:At this time, the v2.11+ optimizer `tf.keras.optimizers.Adam` runs slowly on M1/M2 Macs, please use the legacy Keras optimizer instead, located at `tf.keras.optimizers.legacy.Adam`.\n"
     ]
    },
    {
     "name": "stdout",
     "output_type": "stream",
     "text": [
      "Activation: None\n",
      "Epoch: 150\n",
      "Batch Size: 24\n",
      "Optimizer learning rate: 0.001\n",
      "Mean Squared Error (Perceptron): 3.8513187752729117\n",
      "R^2: 0.998028\n",
      "----------------------------------------------------------------\n",
      "17/17 [==============================] - 0s 349us/step\n"
     ]
    },
    {
     "name": "stderr",
     "output_type": "stream",
     "text": [
      "WARNING:absl:At this time, the v2.11+ optimizer `tf.keras.optimizers.Adam` runs slowly on M1/M2 Macs, please use the legacy Keras optimizer instead, located at `tf.keras.optimizers.legacy.Adam`.\n"
     ]
    },
    {
     "name": "stdout",
     "output_type": "stream",
     "text": [
      "Activation: None\n",
      "Epoch: 150\n",
      "Batch Size: 32\n",
      "Optimizer learning rate: 1e-05\n",
      "Mean Squared Error (Perceptron): 8037.288449928409\n",
      "R^2: -3.1153793\n",
      "----------------------------------------------------------------\n",
      "17/17 [==============================] - 0s 337us/step\n"
     ]
    },
    {
     "name": "stderr",
     "output_type": "stream",
     "text": [
      "WARNING:absl:At this time, the v2.11+ optimizer `tf.keras.optimizers.Adam` runs slowly on M1/M2 Macs, please use the legacy Keras optimizer instead, located at `tf.keras.optimizers.legacy.Adam`.\n"
     ]
    },
    {
     "name": "stdout",
     "output_type": "stream",
     "text": [
      "Activation: None\n",
      "Epoch: 150\n",
      "Batch Size: 32\n",
      "Optimizer learning rate: 0.0001\n",
      "Mean Squared Error (Perceptron): 108.95836772064271\n",
      "R^2: 0.9442094\n",
      "----------------------------------------------------------------\n",
      "17/17 [==============================] - 0s 362us/step\n"
     ]
    },
    {
     "name": "stderr",
     "output_type": "stream",
     "text": [
      "WARNING:absl:At this time, the v2.11+ optimizer `tf.keras.optimizers.Adam` runs slowly on M1/M2 Macs, please use the legacy Keras optimizer instead, located at `tf.keras.optimizers.legacy.Adam`.\n"
     ]
    },
    {
     "name": "stdout",
     "output_type": "stream",
     "text": [
      "Activation: None\n",
      "Epoch: 150\n",
      "Batch Size: 32\n",
      "Optimizer learning rate: 0.001\n",
      "Mean Squared Error (Perceptron): 2.5878693003635576\n",
      "R^2: 0.9986749\n",
      "----------------------------------------------------------------\n",
      "17/17 [==============================] - 0s 447us/step\n"
     ]
    },
    {
     "name": "stderr",
     "output_type": "stream",
     "text": [
      "WARNING:absl:At this time, the v2.11+ optimizer `tf.keras.optimizers.Adam` runs slowly on M1/M2 Macs, please use the legacy Keras optimizer instead, located at `tf.keras.optimizers.legacy.Adam`.\n"
     ]
    },
    {
     "name": "stdout",
     "output_type": "stream",
     "text": [
      "Activation: None\n",
      "Epoch: 150\n",
      "Batch Size: 40\n",
      "Optimizer learning rate: 1e-05\n",
      "Mean Squared Error (Perceptron): 4657.683344000371\n",
      "R^2: -1.3849008\n",
      "----------------------------------------------------------------\n",
      "17/17 [==============================] - 0s 364us/step\n"
     ]
    },
    {
     "name": "stderr",
     "output_type": "stream",
     "text": [
      "WARNING:absl:At this time, the v2.11+ optimizer `tf.keras.optimizers.Adam` runs slowly on M1/M2 Macs, please use the legacy Keras optimizer instead, located at `tf.keras.optimizers.legacy.Adam`.\n"
     ]
    },
    {
     "name": "stdout",
     "output_type": "stream",
     "text": [
      "Activation: None\n",
      "Epoch: 150\n",
      "Batch Size: 40\n",
      "Optimizer learning rate: 0.0001\n",
      "Mean Squared Error (Perceptron): 6983.6409704983125\n",
      "R^2: -2.5758743\n",
      "----------------------------------------------------------------\n",
      "17/17 [==============================] - 0s 331us/step\n"
     ]
    },
    {
     "name": "stderr",
     "output_type": "stream",
     "text": [
      "WARNING:absl:At this time, the v2.11+ optimizer `tf.keras.optimizers.Adam` runs slowly on M1/M2 Macs, please use the legacy Keras optimizer instead, located at `tf.keras.optimizers.legacy.Adam`.\n"
     ]
    },
    {
     "name": "stdout",
     "output_type": "stream",
     "text": [
      "Activation: None\n",
      "Epoch: 150\n",
      "Batch Size: 40\n",
      "Optimizer learning rate: 0.001\n",
      "Mean Squared Error (Perceptron): 2.6359868524986405\n",
      "R^2: 0.99865025\n",
      "----------------------------------------------------------------\n",
      "17/17 [==============================] - 0s 341us/step\n"
     ]
    },
    {
     "name": "stderr",
     "output_type": "stream",
     "text": [
      "WARNING:absl:At this time, the v2.11+ optimizer `tf.keras.optimizers.Adam` runs slowly on M1/M2 Macs, please use the legacy Keras optimizer instead, located at `tf.keras.optimizers.legacy.Adam`.\n"
     ]
    },
    {
     "name": "stdout",
     "output_type": "stream",
     "text": [
      "Activation: relu\n",
      "Epoch: 50\n",
      "Batch Size: 24\n",
      "Optimizer learning rate: 1e-05\n",
      "Mean Squared Error (Perceptron): 5389.570142197838\n",
      "R^2: -1.7596531\n",
      "----------------------------------------------------------------\n",
      "17/17 [==============================] - 0s 332us/step\n"
     ]
    },
    {
     "name": "stderr",
     "output_type": "stream",
     "text": [
      "WARNING:absl:At this time, the v2.11+ optimizer `tf.keras.optimizers.Adam` runs slowly on M1/M2 Macs, please use the legacy Keras optimizer instead, located at `tf.keras.optimizers.legacy.Adam`.\n"
     ]
    },
    {
     "name": "stdout",
     "output_type": "stream",
     "text": [
      "Activation: relu\n",
      "Epoch: 50\n",
      "Batch Size: 24\n",
      "Optimizer learning rate: 0.0001\n",
      "Mean Squared Error (Perceptron): 803.7906217775957\n",
      "R^2: 0.5884304\n",
      "----------------------------------------------------------------\n",
      "17/17 [==============================] - 0s 345us/step\n"
     ]
    },
    {
     "name": "stderr",
     "output_type": "stream",
     "text": [
      "WARNING:absl:At this time, the v2.11+ optimizer `tf.keras.optimizers.Adam` runs slowly on M1/M2 Macs, please use the legacy Keras optimizer instead, located at `tf.keras.optimizers.legacy.Adam`.\n"
     ]
    },
    {
     "name": "stdout",
     "output_type": "stream",
     "text": [
      "Activation: relu\n",
      "Epoch: 50\n",
      "Batch Size: 24\n",
      "Optimizer learning rate: 0.001\n",
      "Mean Squared Error (Perceptron): 5389.570142197838\n",
      "R^2: -1.7596531\n",
      "----------------------------------------------------------------\n",
      "17/17 [==============================] - 0s 319us/step\n"
     ]
    },
    {
     "name": "stderr",
     "output_type": "stream",
     "text": [
      "WARNING:absl:At this time, the v2.11+ optimizer `tf.keras.optimizers.Adam` runs slowly on M1/M2 Macs, please use the legacy Keras optimizer instead, located at `tf.keras.optimizers.legacy.Adam`.\n"
     ]
    },
    {
     "name": "stdout",
     "output_type": "stream",
     "text": [
      "Activation: relu\n",
      "Epoch: 50\n",
      "Batch Size: 32\n",
      "Optimizer learning rate: 1e-05\n",
      "Mean Squared Error (Perceptron): 5389.458649998897\n",
      "R^2: -1.7595956\n",
      "----------------------------------------------------------------\n",
      "17/17 [==============================] - 0s 341us/step\n"
     ]
    },
    {
     "name": "stderr",
     "output_type": "stream",
     "text": [
      "WARNING:absl:At this time, the v2.11+ optimizer `tf.keras.optimizers.Adam` runs slowly on M1/M2 Macs, please use the legacy Keras optimizer instead, located at `tf.keras.optimizers.legacy.Adam`.\n"
     ]
    },
    {
     "name": "stdout",
     "output_type": "stream",
     "text": [
      "Activation: relu\n",
      "Epoch: 50\n",
      "Batch Size: 32\n",
      "Optimizer learning rate: 0.0001\n",
      "Mean Squared Error (Perceptron): 5389.570142197838\n",
      "R^2: -1.7596531\n",
      "----------------------------------------------------------------\n",
      "17/17 [==============================] - 0s 337us/step\n"
     ]
    },
    {
     "name": "stderr",
     "output_type": "stream",
     "text": [
      "WARNING:absl:At this time, the v2.11+ optimizer `tf.keras.optimizers.Adam` runs slowly on M1/M2 Macs, please use the legacy Keras optimizer instead, located at `tf.keras.optimizers.legacy.Adam`.\n"
     ]
    },
    {
     "name": "stdout",
     "output_type": "stream",
     "text": [
      "Activation: relu\n",
      "Epoch: 50\n",
      "Batch Size: 32\n",
      "Optimizer learning rate: 0.001\n",
      "Mean Squared Error (Perceptron): 5389.570142197838\n",
      "R^2: -1.7596531\n",
      "----------------------------------------------------------------\n",
      "17/17 [==============================] - 0s 333us/step\n"
     ]
    },
    {
     "name": "stderr",
     "output_type": "stream",
     "text": [
      "WARNING:absl:At this time, the v2.11+ optimizer `tf.keras.optimizers.Adam` runs slowly on M1/M2 Macs, please use the legacy Keras optimizer instead, located at `tf.keras.optimizers.legacy.Adam`.\n"
     ]
    },
    {
     "name": "stdout",
     "output_type": "stream",
     "text": [
      "Activation: relu\n",
      "Epoch: 50\n",
      "Batch Size: 40\n",
      "Optimizer learning rate: 1e-05\n",
      "Mean Squared Error (Perceptron): 5389.570142197838\n",
      "R^2: -1.7596531\n",
      "----------------------------------------------------------------\n",
      "17/17 [==============================] - 0s 640us/step\n"
     ]
    },
    {
     "name": "stderr",
     "output_type": "stream",
     "text": [
      "WARNING:absl:At this time, the v2.11+ optimizer `tf.keras.optimizers.Adam` runs slowly on M1/M2 Macs, please use the legacy Keras optimizer instead, located at `tf.keras.optimizers.legacy.Adam`.\n"
     ]
    },
    {
     "name": "stdout",
     "output_type": "stream",
     "text": [
      "Activation: relu\n",
      "Epoch: 50\n",
      "Batch Size: 40\n",
      "Optimizer learning rate: 0.0001\n",
      "Mean Squared Error (Perceptron): 5389.589902664283\n",
      "R^2: -1.7596629\n",
      "----------------------------------------------------------------\n",
      "17/17 [==============================] - 0s 347us/step\n"
     ]
    },
    {
     "name": "stderr",
     "output_type": "stream",
     "text": [
      "WARNING:absl:At this time, the v2.11+ optimizer `tf.keras.optimizers.Adam` runs slowly on M1/M2 Macs, please use the legacy Keras optimizer instead, located at `tf.keras.optimizers.legacy.Adam`.\n"
     ]
    },
    {
     "name": "stdout",
     "output_type": "stream",
     "text": [
      "Activation: relu\n",
      "Epoch: 50\n",
      "Batch Size: 40\n",
      "Optimizer learning rate: 0.001\n",
      "Mean Squared Error (Perceptron): 83.87530248413674\n",
      "R^2: 0.9570528\n",
      "----------------------------------------------------------------\n",
      "17/17 [==============================] - 0s 618us/step\n"
     ]
    },
    {
     "name": "stderr",
     "output_type": "stream",
     "text": [
      "WARNING:absl:At this time, the v2.11+ optimizer `tf.keras.optimizers.Adam` runs slowly on M1/M2 Macs, please use the legacy Keras optimizer instead, located at `tf.keras.optimizers.legacy.Adam`.\n"
     ]
    },
    {
     "name": "stdout",
     "output_type": "stream",
     "text": [
      "Activation: relu\n",
      "Epoch: 75\n",
      "Batch Size: 24\n",
      "Optimizer learning rate: 1e-05\n",
      "Mean Squared Error (Perceptron): 5389.570142197838\n",
      "R^2: -1.7596531\n",
      "----------------------------------------------------------------\n",
      "17/17 [==============================] - 0s 333us/step\n"
     ]
    },
    {
     "name": "stderr",
     "output_type": "stream",
     "text": [
      "WARNING:absl:At this time, the v2.11+ optimizer `tf.keras.optimizers.Adam` runs slowly on M1/M2 Macs, please use the legacy Keras optimizer instead, located at `tf.keras.optimizers.legacy.Adam`.\n"
     ]
    },
    {
     "name": "stdout",
     "output_type": "stream",
     "text": [
      "Activation: relu\n",
      "Epoch: 75\n",
      "Batch Size: 24\n",
      "Optimizer learning rate: 0.0001\n",
      "Mean Squared Error (Perceptron): 5389.570142197838\n",
      "R^2: -1.7596531\n",
      "----------------------------------------------------------------\n",
      "17/17 [==============================] - 0s 387us/step\n"
     ]
    },
    {
     "name": "stderr",
     "output_type": "stream",
     "text": [
      "WARNING:absl:At this time, the v2.11+ optimizer `tf.keras.optimizers.Adam` runs slowly on M1/M2 Macs, please use the legacy Keras optimizer instead, located at `tf.keras.optimizers.legacy.Adam`.\n"
     ]
    },
    {
     "name": "stdout",
     "output_type": "stream",
     "text": [
      "Activation: relu\n",
      "Epoch: 75\n",
      "Batch Size: 24\n",
      "Optimizer learning rate: 0.001\n",
      "Mean Squared Error (Perceptron): 5389.570142197838\n",
      "R^2: -1.7596531\n",
      "----------------------------------------------------------------\n",
      "17/17 [==============================] - 0s 424us/step\n"
     ]
    },
    {
     "name": "stderr",
     "output_type": "stream",
     "text": [
      "WARNING:absl:At this time, the v2.11+ optimizer `tf.keras.optimizers.Adam` runs slowly on M1/M2 Macs, please use the legacy Keras optimizer instead, located at `tf.keras.optimizers.legacy.Adam`.\n"
     ]
    },
    {
     "name": "stdout",
     "output_type": "stream",
     "text": [
      "Activation: relu\n",
      "Epoch: 75\n",
      "Batch Size: 32\n",
      "Optimizer learning rate: 1e-05\n",
      "Mean Squared Error (Perceptron): 5389.570142197838\n",
      "R^2: -1.7596531\n",
      "----------------------------------------------------------------\n",
      "17/17 [==============================] - 0s 389us/step\n"
     ]
    },
    {
     "name": "stderr",
     "output_type": "stream",
     "text": [
      "WARNING:absl:At this time, the v2.11+ optimizer `tf.keras.optimizers.Adam` runs slowly on M1/M2 Macs, please use the legacy Keras optimizer instead, located at `tf.keras.optimizers.legacy.Adam`.\n"
     ]
    },
    {
     "name": "stdout",
     "output_type": "stream",
     "text": [
      "Activation: relu\n",
      "Epoch: 75\n",
      "Batch Size: 32\n",
      "Optimizer learning rate: 0.0001\n",
      "Mean Squared Error (Perceptron): 214.62886460760095\n",
      "R^2: 0.8901023\n",
      "----------------------------------------------------------------\n",
      "17/17 [==============================] - 0s 340us/step\n"
     ]
    },
    {
     "name": "stderr",
     "output_type": "stream",
     "text": [
      "WARNING:absl:At this time, the v2.11+ optimizer `tf.keras.optimizers.Adam` runs slowly on M1/M2 Macs, please use the legacy Keras optimizer instead, located at `tf.keras.optimizers.legacy.Adam`.\n"
     ]
    },
    {
     "name": "stdout",
     "output_type": "stream",
     "text": [
      "Activation: relu\n",
      "Epoch: 75\n",
      "Batch Size: 32\n",
      "Optimizer learning rate: 0.001\n",
      "Mean Squared Error (Perceptron): 7.5322488808916725\n",
      "R^2: 0.9961432\n",
      "----------------------------------------------------------------\n",
      "17/17 [==============================] - 0s 473us/step\n"
     ]
    },
    {
     "name": "stderr",
     "output_type": "stream",
     "text": [
      "WARNING:absl:At this time, the v2.11+ optimizer `tf.keras.optimizers.Adam` runs slowly on M1/M2 Macs, please use the legacy Keras optimizer instead, located at `tf.keras.optimizers.legacy.Adam`.\n"
     ]
    },
    {
     "name": "stdout",
     "output_type": "stream",
     "text": [
      "Activation: relu\n",
      "Epoch: 75\n",
      "Batch Size: 40\n",
      "Optimizer learning rate: 1e-05\n",
      "Mean Squared Error (Perceptron): 5381.010278788011\n",
      "R^2: -1.75527\n",
      "----------------------------------------------------------------\n",
      "17/17 [==============================] - 0s 409us/step\n"
     ]
    },
    {
     "name": "stderr",
     "output_type": "stream",
     "text": [
      "WARNING:absl:At this time, the v2.11+ optimizer `tf.keras.optimizers.Adam` runs slowly on M1/M2 Macs, please use the legacy Keras optimizer instead, located at `tf.keras.optimizers.legacy.Adam`.\n"
     ]
    },
    {
     "name": "stdout",
     "output_type": "stream",
     "text": [
      "Activation: relu\n",
      "Epoch: 75\n",
      "Batch Size: 40\n",
      "Optimizer learning rate: 0.0001\n",
      "Mean Squared Error (Perceptron): 5351.985984866402\n",
      "R^2: -1.7404087\n",
      "----------------------------------------------------------------\n",
      "17/17 [==============================] - 0s 415us/step\n"
     ]
    },
    {
     "name": "stderr",
     "output_type": "stream",
     "text": [
      "WARNING:absl:At this time, the v2.11+ optimizer `tf.keras.optimizers.Adam` runs slowly on M1/M2 Macs, please use the legacy Keras optimizer instead, located at `tf.keras.optimizers.legacy.Adam`.\n"
     ]
    },
    {
     "name": "stdout",
     "output_type": "stream",
     "text": [
      "Activation: relu\n",
      "Epoch: 75\n",
      "Batch Size: 40\n",
      "Optimizer learning rate: 0.001\n",
      "Mean Squared Error (Perceptron): 52.46592553177232\n",
      "R^2: 0.9731356\n",
      "----------------------------------------------------------------\n",
      "17/17 [==============================] - 0s 536us/step\n"
     ]
    },
    {
     "name": "stderr",
     "output_type": "stream",
     "text": [
      "WARNING:absl:At this time, the v2.11+ optimizer `tf.keras.optimizers.Adam` runs slowly on M1/M2 Macs, please use the legacy Keras optimizer instead, located at `tf.keras.optimizers.legacy.Adam`.\n"
     ]
    },
    {
     "name": "stdout",
     "output_type": "stream",
     "text": [
      "Activation: relu\n",
      "Epoch: 100\n",
      "Batch Size: 24\n",
      "Optimizer learning rate: 1e-05\n",
      "Mean Squared Error (Perceptron): 5389.570142197838\n",
      "R^2: -1.7596531\n",
      "----------------------------------------------------------------\n",
      "17/17 [==============================] - 0s 394us/step\n"
     ]
    },
    {
     "name": "stderr",
     "output_type": "stream",
     "text": [
      "WARNING:absl:At this time, the v2.11+ optimizer `tf.keras.optimizers.Adam` runs slowly on M1/M2 Macs, please use the legacy Keras optimizer instead, located at `tf.keras.optimizers.legacy.Adam`.\n"
     ]
    },
    {
     "name": "stdout",
     "output_type": "stream",
     "text": [
      "Activation: relu\n",
      "Epoch: 100\n",
      "Batch Size: 24\n",
      "Optimizer learning rate: 0.0001\n",
      "Mean Squared Error (Perceptron): 20.020352873517893\n",
      "R^2: 0.98974884\n",
      "----------------------------------------------------------------\n",
      "17/17 [==============================] - 0s 1ms/step\n"
     ]
    },
    {
     "name": "stderr",
     "output_type": "stream",
     "text": [
      "WARNING:absl:At this time, the v2.11+ optimizer `tf.keras.optimizers.Adam` runs slowly on M1/M2 Macs, please use the legacy Keras optimizer instead, located at `tf.keras.optimizers.legacy.Adam`.\n"
     ]
    },
    {
     "name": "stdout",
     "output_type": "stream",
     "text": [
      "Activation: relu\n",
      "Epoch: 100\n",
      "Batch Size: 24\n",
      "Optimizer learning rate: 0.001\n",
      "Mean Squared Error (Perceptron): 5389.570142197838\n",
      "R^2: -1.7596531\n",
      "----------------------------------------------------------------\n",
      "17/17 [==============================] - 0s 356us/step\n"
     ]
    },
    {
     "name": "stderr",
     "output_type": "stream",
     "text": [
      "WARNING:absl:At this time, the v2.11+ optimizer `tf.keras.optimizers.Adam` runs slowly on M1/M2 Macs, please use the legacy Keras optimizer instead, located at `tf.keras.optimizers.legacy.Adam`.\n"
     ]
    },
    {
     "name": "stdout",
     "output_type": "stream",
     "text": [
      "Activation: relu\n",
      "Epoch: 100\n",
      "Batch Size: 32\n",
      "Optimizer learning rate: 1e-05\n",
      "Mean Squared Error (Perceptron): 311.80568217613967\n",
      "R^2: 0.8403443\n",
      "----------------------------------------------------------------\n",
      "17/17 [==============================] - 0s 650us/step\n"
     ]
    },
    {
     "name": "stderr",
     "output_type": "stream",
     "text": [
      "WARNING:absl:At this time, the v2.11+ optimizer `tf.keras.optimizers.Adam` runs slowly on M1/M2 Macs, please use the legacy Keras optimizer instead, located at `tf.keras.optimizers.legacy.Adam`.\n"
     ]
    },
    {
     "name": "stdout",
     "output_type": "stream",
     "text": [
      "Activation: relu\n",
      "Epoch: 100\n",
      "Batch Size: 32\n",
      "Optimizer learning rate: 0.0001\n",
      "Mean Squared Error (Perceptron): 5389.570142197838\n",
      "R^2: -1.7596531\n",
      "----------------------------------------------------------------\n",
      "17/17 [==============================] - 0s 401us/step\n"
     ]
    },
    {
     "name": "stderr",
     "output_type": "stream",
     "text": [
      "WARNING:absl:At this time, the v2.11+ optimizer `tf.keras.optimizers.Adam` runs slowly on M1/M2 Macs, please use the legacy Keras optimizer instead, located at `tf.keras.optimizers.legacy.Adam`.\n"
     ]
    },
    {
     "name": "stdout",
     "output_type": "stream",
     "text": [
      "Activation: relu\n",
      "Epoch: 100\n",
      "Batch Size: 32\n",
      "Optimizer learning rate: 0.001\n",
      "Mean Squared Error (Perceptron): 14.088373290063569\n",
      "R^2: 0.9927862\n",
      "----------------------------------------------------------------\n",
      "17/17 [==============================] - 0s 401us/step\n"
     ]
    },
    {
     "name": "stderr",
     "output_type": "stream",
     "text": [
      "WARNING:absl:At this time, the v2.11+ optimizer `tf.keras.optimizers.Adam` runs slowly on M1/M2 Macs, please use the legacy Keras optimizer instead, located at `tf.keras.optimizers.legacy.Adam`.\n"
     ]
    },
    {
     "name": "stdout",
     "output_type": "stream",
     "text": [
      "Activation: relu\n",
      "Epoch: 100\n",
      "Batch Size: 40\n",
      "Optimizer learning rate: 1e-05\n",
      "Mean Squared Error (Perceptron): 5389.0614798345\n",
      "R^2: -1.7593925\n",
      "----------------------------------------------------------------\n",
      "17/17 [==============================] - 0s 352us/step\n"
     ]
    },
    {
     "name": "stderr",
     "output_type": "stream",
     "text": [
      "WARNING:absl:At this time, the v2.11+ optimizer `tf.keras.optimizers.Adam` runs slowly on M1/M2 Macs, please use the legacy Keras optimizer instead, located at `tf.keras.optimizers.legacy.Adam`.\n"
     ]
    },
    {
     "name": "stdout",
     "output_type": "stream",
     "text": [
      "Activation: relu\n",
      "Epoch: 100\n",
      "Batch Size: 40\n",
      "Optimizer learning rate: 0.0001\n",
      "Mean Squared Error (Perceptron): 206.3455097233079\n",
      "R^2: 0.89434373\n",
      "----------------------------------------------------------------\n",
      "17/17 [==============================] - 0s 432us/step\n"
     ]
    },
    {
     "name": "stderr",
     "output_type": "stream",
     "text": [
      "WARNING:absl:At this time, the v2.11+ optimizer `tf.keras.optimizers.Adam` runs slowly on M1/M2 Macs, please use the legacy Keras optimizer instead, located at `tf.keras.optimizers.legacy.Adam`.\n"
     ]
    },
    {
     "name": "stdout",
     "output_type": "stream",
     "text": [
      "Activation: relu\n",
      "Epoch: 100\n",
      "Batch Size: 40\n",
      "Optimizer learning rate: 0.001\n",
      "Mean Squared Error (Perceptron): 19.247464850772737\n",
      "R^2: 0.9901446\n",
      "----------------------------------------------------------------\n",
      "17/17 [==============================] - 0s 608us/step\n"
     ]
    },
    {
     "name": "stderr",
     "output_type": "stream",
     "text": [
      "WARNING:absl:At this time, the v2.11+ optimizer `tf.keras.optimizers.Adam` runs slowly on M1/M2 Macs, please use the legacy Keras optimizer instead, located at `tf.keras.optimizers.legacy.Adam`.\n"
     ]
    },
    {
     "name": "stdout",
     "output_type": "stream",
     "text": [
      "Activation: relu\n",
      "Epoch: 150\n",
      "Batch Size: 24\n",
      "Optimizer learning rate: 1e-05\n",
      "Mean Squared Error (Perceptron): 5306.19419575643\n",
      "R^2: -1.7169614\n",
      "----------------------------------------------------------------\n",
      "17/17 [==============================] - 0s 333us/step\n"
     ]
    },
    {
     "name": "stderr",
     "output_type": "stream",
     "text": [
      "WARNING:absl:At this time, the v2.11+ optimizer `tf.keras.optimizers.Adam` runs slowly on M1/M2 Macs, please use the legacy Keras optimizer instead, located at `tf.keras.optimizers.legacy.Adam`.\n"
     ]
    },
    {
     "name": "stdout",
     "output_type": "stream",
     "text": [
      "Activation: relu\n",
      "Epoch: 150\n",
      "Batch Size: 24\n",
      "Optimizer learning rate: 0.0001\n",
      "Mean Squared Error (Perceptron): 5389.570142197838\n",
      "R^2: -1.7596531\n",
      "----------------------------------------------------------------\n",
      "17/17 [==============================] - 0s 339us/step\n"
     ]
    },
    {
     "name": "stderr",
     "output_type": "stream",
     "text": [
      "WARNING:absl:At this time, the v2.11+ optimizer `tf.keras.optimizers.Adam` runs slowly on M1/M2 Macs, please use the legacy Keras optimizer instead, located at `tf.keras.optimizers.legacy.Adam`.\n"
     ]
    },
    {
     "name": "stdout",
     "output_type": "stream",
     "text": [
      "Activation: relu\n",
      "Epoch: 150\n",
      "Batch Size: 24\n",
      "Optimizer learning rate: 0.001\n",
      "Mean Squared Error (Perceptron): 5.428639910100689\n",
      "R^2: 0.99722034\n",
      "----------------------------------------------------------------\n",
      "17/17 [==============================] - 0s 813us/step\n"
     ]
    },
    {
     "name": "stderr",
     "output_type": "stream",
     "text": [
      "WARNING:absl:At this time, the v2.11+ optimizer `tf.keras.optimizers.Adam` runs slowly on M1/M2 Macs, please use the legacy Keras optimizer instead, located at `tf.keras.optimizers.legacy.Adam`.\n"
     ]
    },
    {
     "name": "stdout",
     "output_type": "stream",
     "text": [
      "Activation: relu\n",
      "Epoch: 150\n",
      "Batch Size: 32\n",
      "Optimizer learning rate: 1e-05\n",
      "Mean Squared Error (Perceptron): 124.35800236201189\n",
      "R^2: 0.93632424\n",
      "----------------------------------------------------------------\n",
      "17/17 [==============================] - 0s 436us/step\n"
     ]
    },
    {
     "name": "stderr",
     "output_type": "stream",
     "text": [
      "WARNING:absl:At this time, the v2.11+ optimizer `tf.keras.optimizers.Adam` runs slowly on M1/M2 Macs, please use the legacy Keras optimizer instead, located at `tf.keras.optimizers.legacy.Adam`.\n"
     ]
    },
    {
     "name": "stdout",
     "output_type": "stream",
     "text": [
      "Activation: relu\n",
      "Epoch: 150\n",
      "Batch Size: 32\n",
      "Optimizer learning rate: 0.0001\n",
      "Mean Squared Error (Perceptron): 5389.561616778654\n",
      "R^2: -1.7596486\n",
      "----------------------------------------------------------------\n",
      "17/17 [==============================] - 0s 338us/step\n"
     ]
    },
    {
     "name": "stderr",
     "output_type": "stream",
     "text": [
      "WARNING:absl:At this time, the v2.11+ optimizer `tf.keras.optimizers.Adam` runs slowly on M1/M2 Macs, please use the legacy Keras optimizer instead, located at `tf.keras.optimizers.legacy.Adam`.\n"
     ]
    },
    {
     "name": "stdout",
     "output_type": "stream",
     "text": [
      "Activation: relu\n",
      "Epoch: 150\n",
      "Batch Size: 32\n",
      "Optimizer learning rate: 0.001\n",
      "Mean Squared Error (Perceptron): 7.592331024274829\n",
      "R^2: 0.99611247\n",
      "----------------------------------------------------------------\n",
      "17/17 [==============================] - 0s 546us/step\n"
     ]
    },
    {
     "name": "stderr",
     "output_type": "stream",
     "text": [
      "WARNING:absl:At this time, the v2.11+ optimizer `tf.keras.optimizers.Adam` runs slowly on M1/M2 Macs, please use the legacy Keras optimizer instead, located at `tf.keras.optimizers.legacy.Adam`.\n"
     ]
    },
    {
     "name": "stdout",
     "output_type": "stream",
     "text": [
      "Activation: relu\n",
      "Epoch: 150\n",
      "Batch Size: 40\n",
      "Optimizer learning rate: 1e-05\n",
      "Mean Squared Error (Perceptron): 82.50938697972028\n",
      "R^2: 0.9577522\n",
      "----------------------------------------------------------------\n",
      "17/17 [==============================] - 0s 369us/step\n"
     ]
    },
    {
     "name": "stderr",
     "output_type": "stream",
     "text": [
      "WARNING:absl:At this time, the v2.11+ optimizer `tf.keras.optimizers.Adam` runs slowly on M1/M2 Macs, please use the legacy Keras optimizer instead, located at `tf.keras.optimizers.legacy.Adam`.\n"
     ]
    },
    {
     "name": "stdout",
     "output_type": "stream",
     "text": [
      "Activation: relu\n",
      "Epoch: 150\n",
      "Batch Size: 40\n",
      "Optimizer learning rate: 0.0001\n",
      "Mean Squared Error (Perceptron): 120.3508388675461\n",
      "R^2: 0.93837607\n",
      "----------------------------------------------------------------\n",
      "17/17 [==============================] - 0s 625us/step\n"
     ]
    },
    {
     "name": "stderr",
     "output_type": "stream",
     "text": [
      "WARNING:absl:At this time, the v2.11+ optimizer `tf.keras.optimizers.Adam` runs slowly on M1/M2 Macs, please use the legacy Keras optimizer instead, located at `tf.keras.optimizers.legacy.Adam`.\n"
     ]
    },
    {
     "name": "stdout",
     "output_type": "stream",
     "text": [
      "Activation: relu\n",
      "Epoch: 150\n",
      "Batch Size: 40\n",
      "Optimizer learning rate: 0.001\n",
      "Mean Squared Error (Perceptron): 9.30869441490165\n",
      "R^2: 0.9952336\n",
      "----------------------------------------------------------------\n",
      "17/17 [==============================] - 0s 346us/step\n"
     ]
    },
    {
     "name": "stderr",
     "output_type": "stream",
     "text": [
      "WARNING:absl:At this time, the v2.11+ optimizer `tf.keras.optimizers.Adam` runs slowly on M1/M2 Macs, please use the legacy Keras optimizer instead, located at `tf.keras.optimizers.legacy.Adam`.\n"
     ]
    },
    {
     "name": "stdout",
     "output_type": "stream",
     "text": [
      "Activation: sigmoid\n",
      "Epoch: 50\n",
      "Batch Size: 24\n",
      "Optimizer learning rate: 1e-05\n",
      "Mean Squared Error (Perceptron): 14851.141847453015\n",
      "R^2: -6.604316\n",
      "----------------------------------------------------------------\n",
      "17/17 [==============================] - 0s 347us/step\n"
     ]
    },
    {
     "name": "stderr",
     "output_type": "stream",
     "text": [
      "WARNING:absl:At this time, the v2.11+ optimizer `tf.keras.optimizers.Adam` runs slowly on M1/M2 Macs, please use the legacy Keras optimizer instead, located at `tf.keras.optimizers.legacy.Adam`.\n"
     ]
    },
    {
     "name": "stdout",
     "output_type": "stream",
     "text": [
      "Activation: sigmoid\n",
      "Epoch: 50\n",
      "Batch Size: 24\n",
      "Optimizer learning rate: 0.0001\n",
      "Mean Squared Error (Perceptron): 19466.682099423793\n",
      "R^2: -8.967637\n",
      "----------------------------------------------------------------\n",
      "17/17 [==============================] - 0s 325us/step\n"
     ]
    },
    {
     "name": "stderr",
     "output_type": "stream",
     "text": [
      "WARNING:absl:At this time, the v2.11+ optimizer `tf.keras.optimizers.Adam` runs slowly on M1/M2 Macs, please use the legacy Keras optimizer instead, located at `tf.keras.optimizers.legacy.Adam`.\n"
     ]
    },
    {
     "name": "stdout",
     "output_type": "stream",
     "text": [
      "Activation: sigmoid\n",
      "Epoch: 50\n",
      "Batch Size: 24\n",
      "Optimizer learning rate: 0.001\n",
      "Mean Squared Error (Perceptron): 796.2883130631326\n",
      "R^2: 0.59227186\n",
      "----------------------------------------------------------------\n",
      "17/17 [==============================] - 0s 326us/step\n"
     ]
    },
    {
     "name": "stderr",
     "output_type": "stream",
     "text": [
      "WARNING:absl:At this time, the v2.11+ optimizer `tf.keras.optimizers.Adam` runs slowly on M1/M2 Macs, please use the legacy Keras optimizer instead, located at `tf.keras.optimizers.legacy.Adam`.\n"
     ]
    },
    {
     "name": "stdout",
     "output_type": "stream",
     "text": [
      "Activation: sigmoid\n",
      "Epoch: 50\n",
      "Batch Size: 32\n",
      "Optimizer learning rate: 1e-05\n",
      "Mean Squared Error (Perceptron): 15319.598813284698\n",
      "R^2: -6.844183\n",
      "----------------------------------------------------------------\n",
      "17/17 [==============================] - 0s 311us/step\n"
     ]
    },
    {
     "name": "stderr",
     "output_type": "stream",
     "text": [
      "WARNING:absl:At this time, the v2.11+ optimizer `tf.keras.optimizers.Adam` runs slowly on M1/M2 Macs, please use the legacy Keras optimizer instead, located at `tf.keras.optimizers.legacy.Adam`.\n"
     ]
    },
    {
     "name": "stdout",
     "output_type": "stream",
     "text": [
      "Activation: sigmoid\n",
      "Epoch: 50\n",
      "Batch Size: 32\n",
      "Optimizer learning rate: 0.0001\n",
      "Mean Squared Error (Perceptron): 18648.504516957695\n",
      "R^2: -8.548701\n",
      "----------------------------------------------------------------\n",
      "17/17 [==============================] - 0s 327us/step\n"
     ]
    },
    {
     "name": "stderr",
     "output_type": "stream",
     "text": [
      "WARNING:absl:At this time, the v2.11+ optimizer `tf.keras.optimizers.Adam` runs slowly on M1/M2 Macs, please use the legacy Keras optimizer instead, located at `tf.keras.optimizers.legacy.Adam`.\n"
     ]
    },
    {
     "name": "stdout",
     "output_type": "stream",
     "text": [
      "Activation: sigmoid\n",
      "Epoch: 50\n",
      "Batch Size: 32\n",
      "Optimizer learning rate: 0.001\n",
      "Mean Squared Error (Perceptron): 5607.84616104258\n",
      "R^2: -1.871418\n",
      "----------------------------------------------------------------\n",
      "17/17 [==============================] - 0s 332us/step\n"
     ]
    },
    {
     "name": "stderr",
     "output_type": "stream",
     "text": [
      "WARNING:absl:At this time, the v2.11+ optimizer `tf.keras.optimizers.Adam` runs slowly on M1/M2 Macs, please use the legacy Keras optimizer instead, located at `tf.keras.optimizers.legacy.Adam`.\n"
     ]
    },
    {
     "name": "stdout",
     "output_type": "stream",
     "text": [
      "Activation: sigmoid\n",
      "Epoch: 50\n",
      "Batch Size: 40\n",
      "Optimizer learning rate: 1e-05\n",
      "Mean Squared Error (Perceptron): 10480.731065829643\n",
      "R^2: -4.3665094\n",
      "----------------------------------------------------------------\n",
      "17/17 [==============================] - 0s 369us/step\n"
     ]
    },
    {
     "name": "stderr",
     "output_type": "stream",
     "text": [
      "WARNING:absl:At this time, the v2.11+ optimizer `tf.keras.optimizers.Adam` runs slowly on M1/M2 Macs, please use the legacy Keras optimizer instead, located at `tf.keras.optimizers.legacy.Adam`.\n"
     ]
    },
    {
     "name": "stdout",
     "output_type": "stream",
     "text": [
      "Activation: sigmoid\n",
      "Epoch: 50\n",
      "Batch Size: 40\n",
      "Optimizer learning rate: 0.0001\n",
      "Mean Squared Error (Perceptron): 17473.31778157399\n",
      "R^2: -7.9469643\n",
      "----------------------------------------------------------------\n",
      "17/17 [==============================] - 0s 349us/step\n"
     ]
    },
    {
     "name": "stderr",
     "output_type": "stream",
     "text": [
      "WARNING:absl:At this time, the v2.11+ optimizer `tf.keras.optimizers.Adam` runs slowly on M1/M2 Macs, please use the legacy Keras optimizer instead, located at `tf.keras.optimizers.legacy.Adam`.\n"
     ]
    },
    {
     "name": "stdout",
     "output_type": "stream",
     "text": [
      "Activation: sigmoid\n",
      "Epoch: 50\n",
      "Batch Size: 40\n",
      "Optimizer learning rate: 0.001\n",
      "Mean Squared Error (Perceptron): 2208.889008571172\n",
      "R^2: -0.1310302\n",
      "----------------------------------------------------------------\n",
      "17/17 [==============================] - 0s 420us/step\n"
     ]
    },
    {
     "name": "stderr",
     "output_type": "stream",
     "text": [
      "WARNING:absl:At this time, the v2.11+ optimizer `tf.keras.optimizers.Adam` runs slowly on M1/M2 Macs, please use the legacy Keras optimizer instead, located at `tf.keras.optimizers.legacy.Adam`.\n"
     ]
    },
    {
     "name": "stdout",
     "output_type": "stream",
     "text": [
      "Activation: sigmoid\n",
      "Epoch: 75\n",
      "Batch Size: 24\n",
      "Optimizer learning rate: 1e-05\n",
      "Mean Squared Error (Perceptron): 19463.842332929344\n",
      "R^2: -8.966184\n",
      "----------------------------------------------------------------\n",
      "17/17 [==============================] - 0s 346us/step\n"
     ]
    },
    {
     "name": "stderr",
     "output_type": "stream",
     "text": [
      "WARNING:absl:At this time, the v2.11+ optimizer `tf.keras.optimizers.Adam` runs slowly on M1/M2 Macs, please use the legacy Keras optimizer instead, located at `tf.keras.optimizers.legacy.Adam`.\n"
     ]
    },
    {
     "name": "stdout",
     "output_type": "stream",
     "text": [
      "Activation: sigmoid\n",
      "Epoch: 75\n",
      "Batch Size: 24\n",
      "Optimizer learning rate: 0.0001\n",
      "Mean Squared Error (Perceptron): 16136.693151012843\n",
      "R^2: -7.2625647\n",
      "----------------------------------------------------------------\n",
      "17/17 [==============================] - 0s 553us/step\n"
     ]
    },
    {
     "name": "stderr",
     "output_type": "stream",
     "text": [
      "WARNING:absl:At this time, the v2.11+ optimizer `tf.keras.optimizers.Adam` runs slowly on M1/M2 Macs, please use the legacy Keras optimizer instead, located at `tf.keras.optimizers.legacy.Adam`.\n"
     ]
    },
    {
     "name": "stdout",
     "output_type": "stream",
     "text": [
      "Activation: sigmoid\n",
      "Epoch: 75\n",
      "Batch Size: 24\n",
      "Optimizer learning rate: 0.001\n",
      "Mean Squared Error (Perceptron): 337.6758622784704\n",
      "R^2: 0.8270979\n",
      "----------------------------------------------------------------\n",
      "17/17 [==============================] - 0s 340us/step\n"
     ]
    },
    {
     "name": "stderr",
     "output_type": "stream",
     "text": [
      "WARNING:absl:At this time, the v2.11+ optimizer `tf.keras.optimizers.Adam` runs slowly on M1/M2 Macs, please use the legacy Keras optimizer instead, located at `tf.keras.optimizers.legacy.Adam`.\n"
     ]
    },
    {
     "name": "stdout",
     "output_type": "stream",
     "text": [
      "Activation: sigmoid\n",
      "Epoch: 75\n",
      "Batch Size: 32\n",
      "Optimizer learning rate: 1e-05\n",
      "Mean Squared Error (Perceptron): 14488.52997867872\n",
      "R^2: -6.4186463\n",
      "----------------------------------------------------------------\n",
      "17/17 [==============================] - 0s 328us/step\n"
     ]
    },
    {
     "name": "stderr",
     "output_type": "stream",
     "text": [
      "WARNING:absl:At this time, the v2.11+ optimizer `tf.keras.optimizers.Adam` runs slowly on M1/M2 Macs, please use the legacy Keras optimizer instead, located at `tf.keras.optimizers.legacy.Adam`.\n"
     ]
    },
    {
     "name": "stdout",
     "output_type": "stream",
     "text": [
      "Activation: sigmoid\n",
      "Epoch: 75\n",
      "Batch Size: 32\n",
      "Optimizer learning rate: 0.0001\n",
      "Mean Squared Error (Perceptron): 14143.336382180023\n",
      "R^2: -6.2418947\n",
      "----------------------------------------------------------------\n",
      "17/17 [==============================] - 0s 337us/step\n"
     ]
    },
    {
     "name": "stderr",
     "output_type": "stream",
     "text": [
      "WARNING:absl:At this time, the v2.11+ optimizer `tf.keras.optimizers.Adam` runs slowly on M1/M2 Macs, please use the legacy Keras optimizer instead, located at `tf.keras.optimizers.legacy.Adam`.\n"
     ]
    },
    {
     "name": "stdout",
     "output_type": "stream",
     "text": [
      "Activation: sigmoid\n",
      "Epoch: 75\n",
      "Batch Size: 32\n",
      "Optimizer learning rate: 0.001\n",
      "Mean Squared Error (Perceptron): 549.4685678090393\n",
      "R^2: 0.7186524\n",
      "----------------------------------------------------------------\n",
      "17/17 [==============================] - 0s 327us/step\n"
     ]
    },
    {
     "name": "stderr",
     "output_type": "stream",
     "text": [
      "WARNING:absl:At this time, the v2.11+ optimizer `tf.keras.optimizers.Adam` runs slowly on M1/M2 Macs, please use the legacy Keras optimizer instead, located at `tf.keras.optimizers.legacy.Adam`.\n"
     ]
    },
    {
     "name": "stdout",
     "output_type": "stream",
     "text": [
      "Activation: sigmoid\n",
      "Epoch: 75\n",
      "Batch Size: 40\n",
      "Optimizer learning rate: 1e-05\n",
      "Mean Squared Error (Perceptron): 10704.120869524282\n",
      "R^2: -4.480893\n",
      "----------------------------------------------------------------\n",
      "17/17 [==============================] - 0s 329us/step\n"
     ]
    },
    {
     "name": "stderr",
     "output_type": "stream",
     "text": [
      "WARNING:absl:At this time, the v2.11+ optimizer `tf.keras.optimizers.Adam` runs slowly on M1/M2 Macs, please use the legacy Keras optimizer instead, located at `tf.keras.optimizers.legacy.Adam`.\n"
     ]
    },
    {
     "name": "stdout",
     "output_type": "stream",
     "text": [
      "Activation: sigmoid\n",
      "Epoch: 75\n",
      "Batch Size: 40\n",
      "Optimizer learning rate: 0.0001\n",
      "Mean Squared Error (Perceptron): 19393.974165253792\n",
      "R^2: -8.9304085\n",
      "----------------------------------------------------------------\n",
      "17/17 [==============================] - 0s 324us/step\n"
     ]
    },
    {
     "name": "stderr",
     "output_type": "stream",
     "text": [
      "WARNING:absl:At this time, the v2.11+ optimizer `tf.keras.optimizers.Adam` runs slowly on M1/M2 Macs, please use the legacy Keras optimizer instead, located at `tf.keras.optimizers.legacy.Adam`.\n"
     ]
    },
    {
     "name": "stdout",
     "output_type": "stream",
     "text": [
      "Activation: sigmoid\n",
      "Epoch: 75\n",
      "Batch Size: 40\n",
      "Optimizer learning rate: 0.001\n",
      "Mean Squared Error (Perceptron): 5296.799725859369\n",
      "R^2: -1.7121513\n",
      "----------------------------------------------------------------\n",
      "17/17 [==============================] - 0s 435us/step\n"
     ]
    },
    {
     "name": "stderr",
     "output_type": "stream",
     "text": [
      "WARNING:absl:At this time, the v2.11+ optimizer `tf.keras.optimizers.Adam` runs slowly on M1/M2 Macs, please use the legacy Keras optimizer instead, located at `tf.keras.optimizers.legacy.Adam`.\n"
     ]
    },
    {
     "name": "stdout",
     "output_type": "stream",
     "text": [
      "Activation: sigmoid\n",
      "Epoch: 100\n",
      "Batch Size: 24\n",
      "Optimizer learning rate: 1e-05\n",
      "Mean Squared Error (Perceptron): 11458.077765275391\n",
      "R^2: -4.866946\n",
      "----------------------------------------------------------------\n",
      "17/17 [==============================] - 0s 334us/step\n"
     ]
    },
    {
     "name": "stderr",
     "output_type": "stream",
     "text": [
      "WARNING:absl:At this time, the v2.11+ optimizer `tf.keras.optimizers.Adam` runs slowly on M1/M2 Macs, please use the legacy Keras optimizer instead, located at `tf.keras.optimizers.legacy.Adam`.\n"
     ]
    },
    {
     "name": "stdout",
     "output_type": "stream",
     "text": [
      "Activation: sigmoid\n",
      "Epoch: 100\n",
      "Batch Size: 24\n",
      "Optimizer learning rate: 0.0001\n",
      "Mean Squared Error (Perceptron): 10019.990075990727\n",
      "R^2: -4.1305933\n",
      "----------------------------------------------------------------\n",
      "17/17 [==============================] - 0s 336us/step\n"
     ]
    },
    {
     "name": "stderr",
     "output_type": "stream",
     "text": [
      "WARNING:absl:At this time, the v2.11+ optimizer `tf.keras.optimizers.Adam` runs slowly on M1/M2 Macs, please use the legacy Keras optimizer instead, located at `tf.keras.optimizers.legacy.Adam`.\n"
     ]
    },
    {
     "name": "stdout",
     "output_type": "stream",
     "text": [
      "Activation: sigmoid\n",
      "Epoch: 100\n",
      "Batch Size: 24\n",
      "Optimizer learning rate: 0.001\n",
      "Mean Squared Error (Perceptron): 237.42272215875064\n",
      "R^2: 0.8784311\n",
      "----------------------------------------------------------------\n",
      "17/17 [==============================] - 0s 328us/step\n"
     ]
    },
    {
     "name": "stderr",
     "output_type": "stream",
     "text": [
      "WARNING:absl:At this time, the v2.11+ optimizer `tf.keras.optimizers.Adam` runs slowly on M1/M2 Macs, please use the legacy Keras optimizer instead, located at `tf.keras.optimizers.legacy.Adam`.\n"
     ]
    },
    {
     "name": "stdout",
     "output_type": "stream",
     "text": [
      "Activation: sigmoid\n",
      "Epoch: 100\n",
      "Batch Size: 32\n",
      "Optimizer learning rate: 1e-05\n",
      "Mean Squared Error (Perceptron): 16020.686955142733\n",
      "R^2: -7.203165\n",
      "----------------------------------------------------------------\n",
      "17/17 [==============================] - 0s 572us/step\n"
     ]
    },
    {
     "name": "stderr",
     "output_type": "stream",
     "text": [
      "WARNING:absl:At this time, the v2.11+ optimizer `tf.keras.optimizers.Adam` runs slowly on M1/M2 Macs, please use the legacy Keras optimizer instead, located at `tf.keras.optimizers.legacy.Adam`.\n"
     ]
    },
    {
     "name": "stdout",
     "output_type": "stream",
     "text": [
      "Activation: sigmoid\n",
      "Epoch: 100\n",
      "Batch Size: 32\n",
      "Optimizer learning rate: 0.0001\n",
      "Mean Squared Error (Perceptron): 18143.101497058433\n",
      "R^2: -8.289917\n",
      "----------------------------------------------------------------\n",
      "17/17 [==============================] - 0s 333us/step\n"
     ]
    },
    {
     "name": "stderr",
     "output_type": "stream",
     "text": [
      "WARNING:absl:At this time, the v2.11+ optimizer `tf.keras.optimizers.Adam` runs slowly on M1/M2 Macs, please use the legacy Keras optimizer instead, located at `tf.keras.optimizers.legacy.Adam`.\n"
     ]
    },
    {
     "name": "stdout",
     "output_type": "stream",
     "text": [
      "Activation: sigmoid\n",
      "Epoch: 100\n",
      "Batch Size: 32\n",
      "Optimizer learning rate: 0.001\n",
      "Mean Squared Error (Perceptron): 508.2451569308932\n",
      "R^2: 0.7397603\n",
      "----------------------------------------------------------------\n",
      "17/17 [==============================] - 0s 330us/step\n"
     ]
    },
    {
     "name": "stderr",
     "output_type": "stream",
     "text": [
      "WARNING:absl:At this time, the v2.11+ optimizer `tf.keras.optimizers.Adam` runs slowly on M1/M2 Macs, please use the legacy Keras optimizer instead, located at `tf.keras.optimizers.legacy.Adam`.\n"
     ]
    },
    {
     "name": "stdout",
     "output_type": "stream",
     "text": [
      "Activation: sigmoid\n",
      "Epoch: 100\n",
      "Batch Size: 40\n",
      "Optimizer learning rate: 1e-05\n",
      "Mean Squared Error (Perceptron): 12618.363539128632\n",
      "R^2: -5.461054\n",
      "----------------------------------------------------------------\n",
      "17/17 [==============================] - 0s 318us/step\n"
     ]
    },
    {
     "name": "stderr",
     "output_type": "stream",
     "text": [
      "WARNING:absl:At this time, the v2.11+ optimizer `tf.keras.optimizers.Adam` runs slowly on M1/M2 Macs, please use the legacy Keras optimizer instead, located at `tf.keras.optimizers.legacy.Adam`.\n"
     ]
    },
    {
     "name": "stdout",
     "output_type": "stream",
     "text": [
      "Activation: sigmoid\n",
      "Epoch: 100\n",
      "Batch Size: 40\n",
      "Optimizer learning rate: 0.0001\n",
      "Mean Squared Error (Perceptron): 20107.14611765591\n",
      "R^2: -9.295579\n",
      "----------------------------------------------------------------\n",
      "17/17 [==============================] - 0s 318us/step\n"
     ]
    },
    {
     "name": "stderr",
     "output_type": "stream",
     "text": [
      "WARNING:absl:At this time, the v2.11+ optimizer `tf.keras.optimizers.Adam` runs slowly on M1/M2 Macs, please use the legacy Keras optimizer instead, located at `tf.keras.optimizers.legacy.Adam`.\n"
     ]
    },
    {
     "name": "stdout",
     "output_type": "stream",
     "text": [
      "Activation: sigmoid\n",
      "Epoch: 100\n",
      "Batch Size: 40\n",
      "Optimizer learning rate: 0.001\n",
      "Mean Squared Error (Perceptron): 6237.339927914865\n",
      "R^2: -2.193741\n",
      "----------------------------------------------------------------\n",
      "17/17 [==============================] - 0s 331us/step\n"
     ]
    },
    {
     "name": "stderr",
     "output_type": "stream",
     "text": [
      "WARNING:absl:At this time, the v2.11+ optimizer `tf.keras.optimizers.Adam` runs slowly on M1/M2 Macs, please use the legacy Keras optimizer instead, located at `tf.keras.optimizers.legacy.Adam`.\n"
     ]
    },
    {
     "name": "stdout",
     "output_type": "stream",
     "text": [
      "Activation: sigmoid\n",
      "Epoch: 150\n",
      "Batch Size: 24\n",
      "Optimizer learning rate: 1e-05\n",
      "Mean Squared Error (Perceptron): 15401.640299808136\n",
      "R^2: -6.8861914\n",
      "----------------------------------------------------------------\n",
      "17/17 [==============================] - 0s 318us/step\n"
     ]
    },
    {
     "name": "stderr",
     "output_type": "stream",
     "text": [
      "WARNING:absl:At this time, the v2.11+ optimizer `tf.keras.optimizers.Adam` runs slowly on M1/M2 Macs, please use the legacy Keras optimizer instead, located at `tf.keras.optimizers.legacy.Adam`.\n"
     ]
    },
    {
     "name": "stdout",
     "output_type": "stream",
     "text": [
      "Activation: sigmoid\n",
      "Epoch: 150\n",
      "Batch Size: 24\n",
      "Optimizer learning rate: 0.0001\n",
      "Mean Squared Error (Perceptron): 6311.094898070483\n",
      "R^2: -2.2315063\n",
      "----------------------------------------------------------------\n",
      "17/17 [==============================] - 0s 338us/step\n"
     ]
    },
    {
     "name": "stderr",
     "output_type": "stream",
     "text": [
      "WARNING:absl:At this time, the v2.11+ optimizer `tf.keras.optimizers.Adam` runs slowly on M1/M2 Macs, please use the legacy Keras optimizer instead, located at `tf.keras.optimizers.legacy.Adam`.\n"
     ]
    },
    {
     "name": "stdout",
     "output_type": "stream",
     "text": [
      "Activation: sigmoid\n",
      "Epoch: 150\n",
      "Batch Size: 24\n",
      "Optimizer learning rate: 0.001\n",
      "Mean Squared Error (Perceptron): 237.60823524298215\n",
      "R^2: 0.8783361\n",
      "----------------------------------------------------------------\n",
      "17/17 [==============================] - 0s 343us/step\n"
     ]
    },
    {
     "name": "stderr",
     "output_type": "stream",
     "text": [
      "WARNING:absl:At this time, the v2.11+ optimizer `tf.keras.optimizers.Adam` runs slowly on M1/M2 Macs, please use the legacy Keras optimizer instead, located at `tf.keras.optimizers.legacy.Adam`.\n"
     ]
    },
    {
     "name": "stdout",
     "output_type": "stream",
     "text": [
      "Activation: sigmoid\n",
      "Epoch: 150\n",
      "Batch Size: 32\n",
      "Optimizer learning rate: 1e-05\n",
      "Mean Squared Error (Perceptron): 14673.675459988719\n",
      "R^2: -6.5134473\n",
      "----------------------------------------------------------------\n",
      "17/17 [==============================] - 0s 327us/step\n"
     ]
    },
    {
     "name": "stderr",
     "output_type": "stream",
     "text": [
      "WARNING:absl:At this time, the v2.11+ optimizer `tf.keras.optimizers.Adam` runs slowly on M1/M2 Macs, please use the legacy Keras optimizer instead, located at `tf.keras.optimizers.legacy.Adam`.\n"
     ]
    },
    {
     "name": "stdout",
     "output_type": "stream",
     "text": [
      "Activation: sigmoid\n",
      "Epoch: 150\n",
      "Batch Size: 32\n",
      "Optimizer learning rate: 0.0001\n",
      "Mean Squared Error (Perceptron): 18894.75055814248\n",
      "R^2: -8.674788\n",
      "----------------------------------------------------------------\n",
      "17/17 [==============================] - 0s 416us/step\n"
     ]
    },
    {
     "name": "stderr",
     "output_type": "stream",
     "text": [
      "WARNING:absl:At this time, the v2.11+ optimizer `tf.keras.optimizers.Adam` runs slowly on M1/M2 Macs, please use the legacy Keras optimizer instead, located at `tf.keras.optimizers.legacy.Adam`.\n"
     ]
    },
    {
     "name": "stdout",
     "output_type": "stream",
     "text": [
      "Activation: sigmoid\n",
      "Epoch: 150\n",
      "Batch Size: 32\n",
      "Optimizer learning rate: 0.001\n",
      "Mean Squared Error (Perceptron): 256.1738591873841\n",
      "R^2: 0.86882985\n",
      "----------------------------------------------------------------\n",
      "17/17 [==============================] - 0s 565us/step\n"
     ]
    },
    {
     "name": "stderr",
     "output_type": "stream",
     "text": [
      "WARNING:absl:At this time, the v2.11+ optimizer `tf.keras.optimizers.Adam` runs slowly on M1/M2 Macs, please use the legacy Keras optimizer instead, located at `tf.keras.optimizers.legacy.Adam`.\n"
     ]
    },
    {
     "name": "stdout",
     "output_type": "stream",
     "text": [
      "Activation: sigmoid\n",
      "Epoch: 150\n",
      "Batch Size: 40\n",
      "Optimizer learning rate: 1e-05\n",
      "Mean Squared Error (Perceptron): 15235.114256098777\n",
      "R^2: -6.8009233\n",
      "----------------------------------------------------------------\n",
      "17/17 [==============================] - 0s 332us/step\n"
     ]
    },
    {
     "name": "stderr",
     "output_type": "stream",
     "text": [
      "WARNING:absl:At this time, the v2.11+ optimizer `tf.keras.optimizers.Adam` runs slowly on M1/M2 Macs, please use the legacy Keras optimizer instead, located at `tf.keras.optimizers.legacy.Adam`.\n"
     ]
    },
    {
     "name": "stdout",
     "output_type": "stream",
     "text": [
      "Activation: sigmoid\n",
      "Epoch: 150\n",
      "Batch Size: 40\n",
      "Optimizer learning rate: 0.0001\n",
      "Mean Squared Error (Perceptron): 10584.310111017965\n",
      "R^2: -4.4195457\n",
      "----------------------------------------------------------------\n",
      "17/17 [==============================] - 0s 625us/step\n"
     ]
    },
    {
     "name": "stderr",
     "output_type": "stream",
     "text": [
      "WARNING:absl:At this time, the v2.11+ optimizer `tf.keras.optimizers.Adam` runs slowly on M1/M2 Macs, please use the legacy Keras optimizer instead, located at `tf.keras.optimizers.legacy.Adam`.\n"
     ]
    },
    {
     "name": "stdout",
     "output_type": "stream",
     "text": [
      "Activation: sigmoid\n",
      "Epoch: 150\n",
      "Batch Size: 40\n",
      "Optimizer learning rate: 0.001\n",
      "Mean Squared Error (Perceptron): 337.0046911184066\n",
      "R^2: 0.8274416\n",
      "----------------------------------------------------------------\n",
      "17/17 [==============================] - 0s 328us/step\n"
     ]
    },
    {
     "name": "stderr",
     "output_type": "stream",
     "text": [
      "WARNING:absl:At this time, the v2.11+ optimizer `tf.keras.optimizers.Adam` runs slowly on M1/M2 Macs, please use the legacy Keras optimizer instead, located at `tf.keras.optimizers.legacy.Adam`.\n"
     ]
    },
    {
     "name": "stdout",
     "output_type": "stream",
     "text": [
      "Activation: tanh\n",
      "Epoch: 50\n",
      "Batch Size: 24\n",
      "Optimizer learning rate: 1e-05\n",
      "Mean Squared Error (Perceptron): 73.5545782122793\n",
      "R^2: 0.96233743\n",
      "----------------------------------------------------------------\n",
      "17/17 [==============================] - 0s 326us/step\n"
     ]
    },
    {
     "name": "stderr",
     "output_type": "stream",
     "text": [
      "WARNING:absl:At this time, the v2.11+ optimizer `tf.keras.optimizers.Adam` runs slowly on M1/M2 Macs, please use the legacy Keras optimizer instead, located at `tf.keras.optimizers.legacy.Adam`.\n"
     ]
    },
    {
     "name": "stdout",
     "output_type": "stream",
     "text": [
      "Activation: tanh\n",
      "Epoch: 50\n",
      "Batch Size: 24\n",
      "Optimizer learning rate: 0.0001\n",
      "Mean Squared Error (Perceptron): 2759.0014627385704\n",
      "R^2: -0.41270745\n",
      "----------------------------------------------------------------\n",
      "17/17 [==============================] - 0s 326us/step\n"
     ]
    },
    {
     "name": "stderr",
     "output_type": "stream",
     "text": [
      "WARNING:absl:At this time, the v2.11+ optimizer `tf.keras.optimizers.Adam` runs slowly on M1/M2 Macs, please use the legacy Keras optimizer instead, located at `tf.keras.optimizers.legacy.Adam`.\n"
     ]
    },
    {
     "name": "stdout",
     "output_type": "stream",
     "text": [
      "Activation: tanh\n",
      "Epoch: 50\n",
      "Batch Size: 24\n",
      "Optimizer learning rate: 0.001\n",
      "Mean Squared Error (Perceptron): 627.8608588384275\n",
      "R^2: 0.67851275\n",
      "----------------------------------------------------------------\n",
      "17/17 [==============================] - 0s 325us/step\n"
     ]
    },
    {
     "name": "stderr",
     "output_type": "stream",
     "text": [
      "WARNING:absl:At this time, the v2.11+ optimizer `tf.keras.optimizers.Adam` runs slowly on M1/M2 Macs, please use the legacy Keras optimizer instead, located at `tf.keras.optimizers.legacy.Adam`.\n"
     ]
    },
    {
     "name": "stdout",
     "output_type": "stream",
     "text": [
      "Activation: tanh\n",
      "Epoch: 50\n",
      "Batch Size: 32\n",
      "Optimizer learning rate: 1e-05\n",
      "Mean Squared Error (Perceptron): 7090.438448271873\n",
      "R^2: -2.630558\n",
      "----------------------------------------------------------------\n",
      "17/17 [==============================] - 0s 358us/step\n"
     ]
    },
    {
     "name": "stderr",
     "output_type": "stream",
     "text": [
      "WARNING:absl:At this time, the v2.11+ optimizer `tf.keras.optimizers.Adam` runs slowly on M1/M2 Macs, please use the legacy Keras optimizer instead, located at `tf.keras.optimizers.legacy.Adam`.\n"
     ]
    },
    {
     "name": "stdout",
     "output_type": "stream",
     "text": [
      "Activation: tanh\n",
      "Epoch: 50\n",
      "Batch Size: 32\n",
      "Optimizer learning rate: 0.0001\n",
      "Mean Squared Error (Perceptron): 2783.806563496504\n",
      "R^2: -0.4254086\n",
      "----------------------------------------------------------------\n",
      "17/17 [==============================] - 0s 335us/step\n"
     ]
    },
    {
     "name": "stderr",
     "output_type": "stream",
     "text": [
      "WARNING:absl:At this time, the v2.11+ optimizer `tf.keras.optimizers.Adam` runs slowly on M1/M2 Macs, please use the legacy Keras optimizer instead, located at `tf.keras.optimizers.legacy.Adam`.\n"
     ]
    },
    {
     "name": "stdout",
     "output_type": "stream",
     "text": [
      "Activation: tanh\n",
      "Epoch: 50\n",
      "Batch Size: 32\n",
      "Optimizer learning rate: 0.001\n",
      "Mean Squared Error (Perceptron): 3541.325055929306\n",
      "R^2: -0.8132851\n",
      "----------------------------------------------------------------\n",
      "17/17 [==============================] - 0s 332us/step\n"
     ]
    },
    {
     "name": "stderr",
     "output_type": "stream",
     "text": [
      "WARNING:absl:At this time, the v2.11+ optimizer `tf.keras.optimizers.Adam` runs slowly on M1/M2 Macs, please use the legacy Keras optimizer instead, located at `tf.keras.optimizers.legacy.Adam`.\n"
     ]
    },
    {
     "name": "stdout",
     "output_type": "stream",
     "text": [
      "Activation: tanh\n",
      "Epoch: 50\n",
      "Batch Size: 40\n",
      "Optimizer learning rate: 1e-05\n",
      "Mean Squared Error (Perceptron): 1685.3518907474154\n",
      "R^2: 0.13703954\n",
      "----------------------------------------------------------------\n",
      "17/17 [==============================] - 0s 368us/step\n"
     ]
    },
    {
     "name": "stderr",
     "output_type": "stream",
     "text": [
      "WARNING:absl:At this time, the v2.11+ optimizer `tf.keras.optimizers.Adam` runs slowly on M1/M2 Macs, please use the legacy Keras optimizer instead, located at `tf.keras.optimizers.legacy.Adam`.\n"
     ]
    },
    {
     "name": "stdout",
     "output_type": "stream",
     "text": [
      "Activation: tanh\n",
      "Epoch: 50\n",
      "Batch Size: 40\n",
      "Optimizer learning rate: 0.0001\n",
      "Mean Squared Error (Perceptron): 1361.3684157117104\n",
      "R^2: 0.30293065\n",
      "----------------------------------------------------------------\n",
      "17/17 [==============================] - 0s 321us/step\n"
     ]
    },
    {
     "name": "stderr",
     "output_type": "stream",
     "text": [
      "WARNING:absl:At this time, the v2.11+ optimizer `tf.keras.optimizers.Adam` runs slowly on M1/M2 Macs, please use the legacy Keras optimizer instead, located at `tf.keras.optimizers.legacy.Adam`.\n"
     ]
    },
    {
     "name": "stdout",
     "output_type": "stream",
     "text": [
      "Activation: tanh\n",
      "Epoch: 50\n",
      "Batch Size: 40\n",
      "Optimizer learning rate: 0.001\n",
      "Mean Squared Error (Perceptron): 2789.5271519776575\n",
      "R^2: -0.42833793\n",
      "----------------------------------------------------------------\n",
      "17/17 [==============================] - 0s 329us/step\n"
     ]
    },
    {
     "name": "stderr",
     "output_type": "stream",
     "text": [
      "WARNING:absl:At this time, the v2.11+ optimizer `tf.keras.optimizers.Adam` runs slowly on M1/M2 Macs, please use the legacy Keras optimizer instead, located at `tf.keras.optimizers.legacy.Adam`.\n"
     ]
    },
    {
     "name": "stdout",
     "output_type": "stream",
     "text": [
      "Activation: tanh\n",
      "Epoch: 75\n",
      "Batch Size: 24\n",
      "Optimizer learning rate: 1e-05\n",
      "Mean Squared Error (Perceptron): 1075.3847906607298\n",
      "R^2: 0.44936454\n",
      "----------------------------------------------------------------\n",
      "17/17 [==============================] - 0s 368us/step\n"
     ]
    },
    {
     "name": "stderr",
     "output_type": "stream",
     "text": [
      "WARNING:absl:At this time, the v2.11+ optimizer `tf.keras.optimizers.Adam` runs slowly on M1/M2 Macs, please use the legacy Keras optimizer instead, located at `tf.keras.optimizers.legacy.Adam`.\n"
     ]
    },
    {
     "name": "stdout",
     "output_type": "stream",
     "text": [
      "Activation: tanh\n",
      "Epoch: 75\n",
      "Batch Size: 24\n",
      "Optimizer learning rate: 0.0001\n",
      "Mean Squared Error (Perceptron): 1988.5182849793168\n",
      "R^2: -0.01819253\n",
      "----------------------------------------------------------------\n",
      "17/17 [==============================] - 0s 326us/step\n"
     ]
    },
    {
     "name": "stderr",
     "output_type": "stream",
     "text": [
      "WARNING:absl:At this time, the v2.11+ optimizer `tf.keras.optimizers.Adam` runs slowly on M1/M2 Macs, please use the legacy Keras optimizer instead, located at `tf.keras.optimizers.legacy.Adam`.\n"
     ]
    },
    {
     "name": "stdout",
     "output_type": "stream",
     "text": [
      "Activation: tanh\n",
      "Epoch: 75\n",
      "Batch Size: 24\n",
      "Optimizer learning rate: 0.001\n",
      "Mean Squared Error (Perceptron): 2990.5178993610457\n",
      "R^2: -0.53125215\n",
      "----------------------------------------------------------------\n",
      "17/17 [==============================] - 0s 328us/step\n"
     ]
    },
    {
     "name": "stderr",
     "output_type": "stream",
     "text": [
      "WARNING:absl:At this time, the v2.11+ optimizer `tf.keras.optimizers.Adam` runs slowly on M1/M2 Macs, please use the legacy Keras optimizer instead, located at `tf.keras.optimizers.legacy.Adam`.\n"
     ]
    },
    {
     "name": "stdout",
     "output_type": "stream",
     "text": [
      "Activation: tanh\n",
      "Epoch: 75\n",
      "Batch Size: 32\n",
      "Optimizer learning rate: 1e-05\n",
      "Mean Squared Error (Perceptron): 13343.403286855932\n",
      "R^2: -5.8322997\n",
      "----------------------------------------------------------------\n",
      "17/17 [==============================] - 0s 338us/step\n"
     ]
    },
    {
     "name": "stderr",
     "output_type": "stream",
     "text": [
      "WARNING:absl:At this time, the v2.11+ optimizer `tf.keras.optimizers.Adam` runs slowly on M1/M2 Macs, please use the legacy Keras optimizer instead, located at `tf.keras.optimizers.legacy.Adam`.\n"
     ]
    },
    {
     "name": "stdout",
     "output_type": "stream",
     "text": [
      "Activation: tanh\n",
      "Epoch: 75\n",
      "Batch Size: 32\n",
      "Optimizer learning rate: 0.0001\n",
      "Mean Squared Error (Perceptron): 1309.8619485444294\n",
      "R^2: 0.3293038\n",
      "----------------------------------------------------------------\n",
      "17/17 [==============================] - 0s 320us/step\n"
     ]
    },
    {
     "name": "stderr",
     "output_type": "stream",
     "text": [
      "WARNING:absl:At this time, the v2.11+ optimizer `tf.keras.optimizers.Adam` runs slowly on M1/M2 Macs, please use the legacy Keras optimizer instead, located at `tf.keras.optimizers.legacy.Adam`.\n"
     ]
    },
    {
     "name": "stdout",
     "output_type": "stream",
     "text": [
      "Activation: tanh\n",
      "Epoch: 75\n",
      "Batch Size: 32\n",
      "Optimizer learning rate: 0.001\n",
      "Mean Squared Error (Perceptron): 774.7933630584845\n",
      "R^2: 0.60327804\n",
      "----------------------------------------------------------------\n",
      "17/17 [==============================] - 0s 364us/step\n"
     ]
    },
    {
     "name": "stderr",
     "output_type": "stream",
     "text": [
      "WARNING:absl:At this time, the v2.11+ optimizer `tf.keras.optimizers.Adam` runs slowly on M1/M2 Macs, please use the legacy Keras optimizer instead, located at `tf.keras.optimizers.legacy.Adam`.\n"
     ]
    },
    {
     "name": "stdout",
     "output_type": "stream",
     "text": [
      "Activation: tanh\n",
      "Epoch: 75\n",
      "Batch Size: 40\n",
      "Optimizer learning rate: 1e-05\n",
      "Mean Squared Error (Perceptron): 13166.478989705294\n",
      "R^2: -5.7417083\n",
      "----------------------------------------------------------------\n",
      "17/17 [==============================] - 0s 316us/step\n"
     ]
    },
    {
     "name": "stderr",
     "output_type": "stream",
     "text": [
      "WARNING:absl:At this time, the v2.11+ optimizer `tf.keras.optimizers.Adam` runs slowly on M1/M2 Macs, please use the legacy Keras optimizer instead, located at `tf.keras.optimizers.legacy.Adam`.\n"
     ]
    },
    {
     "name": "stdout",
     "output_type": "stream",
     "text": [
      "Activation: tanh\n",
      "Epoch: 75\n",
      "Batch Size: 40\n",
      "Optimizer learning rate: 0.0001\n",
      "Mean Squared Error (Perceptron): 5178.213923418879\n",
      "R^2: -1.6514308\n",
      "----------------------------------------------------------------\n",
      "17/17 [==============================] - 0s 339us/step\n"
     ]
    },
    {
     "name": "stderr",
     "output_type": "stream",
     "text": [
      "WARNING:absl:At this time, the v2.11+ optimizer `tf.keras.optimizers.Adam` runs slowly on M1/M2 Macs, please use the legacy Keras optimizer instead, located at `tf.keras.optimizers.legacy.Adam`.\n"
     ]
    },
    {
     "name": "stdout",
     "output_type": "stream",
     "text": [
      "Activation: tanh\n",
      "Epoch: 75\n",
      "Batch Size: 40\n",
      "Optimizer learning rate: 0.001\n",
      "Mean Squared Error (Perceptron): 11869.36217959765\n",
      "R^2: -5.077539\n",
      "----------------------------------------------------------------\n",
      "17/17 [==============================] - 0s 316us/step\n"
     ]
    },
    {
     "name": "stderr",
     "output_type": "stream",
     "text": [
      "WARNING:absl:At this time, the v2.11+ optimizer `tf.keras.optimizers.Adam` runs slowly on M1/M2 Macs, please use the legacy Keras optimizer instead, located at `tf.keras.optimizers.legacy.Adam`.\n"
     ]
    },
    {
     "name": "stdout",
     "output_type": "stream",
     "text": [
      "Activation: tanh\n",
      "Epoch: 100\n",
      "Batch Size: 24\n",
      "Optimizer learning rate: 1e-05\n",
      "Mean Squared Error (Perceptron): 18152.316937318697\n",
      "R^2: -8.294636\n",
      "----------------------------------------------------------------\n",
      "17/17 [==============================] - 0s 321us/step\n"
     ]
    },
    {
     "name": "stderr",
     "output_type": "stream",
     "text": [
      "WARNING:absl:At this time, the v2.11+ optimizer `tf.keras.optimizers.Adam` runs slowly on M1/M2 Macs, please use the legacy Keras optimizer instead, located at `tf.keras.optimizers.legacy.Adam`.\n"
     ]
    },
    {
     "name": "stdout",
     "output_type": "stream",
     "text": [
      "Activation: tanh\n",
      "Epoch: 100\n",
      "Batch Size: 24\n",
      "Optimizer learning rate: 0.0001\n",
      "Mean Squared Error (Perceptron): 2138.0854058885925\n",
      "R^2: -0.09477627\n",
      "----------------------------------------------------------------\n",
      "17/17 [==============================] - 0s 376us/step\n"
     ]
    },
    {
     "name": "stderr",
     "output_type": "stream",
     "text": [
      "WARNING:absl:At this time, the v2.11+ optimizer `tf.keras.optimizers.Adam` runs slowly on M1/M2 Macs, please use the legacy Keras optimizer instead, located at `tf.keras.optimizers.legacy.Adam`.\n"
     ]
    },
    {
     "name": "stdout",
     "output_type": "stream",
     "text": [
      "Activation: tanh\n",
      "Epoch: 100\n",
      "Batch Size: 24\n",
      "Optimizer learning rate: 0.001\n",
      "Mean Squared Error (Perceptron): 3060.17055849837\n",
      "R^2: -0.56691694\n",
      "----------------------------------------------------------------\n",
      "17/17 [==============================] - 0s 323us/step\n"
     ]
    },
    {
     "name": "stderr",
     "output_type": "stream",
     "text": [
      "WARNING:absl:At this time, the v2.11+ optimizer `tf.keras.optimizers.Adam` runs slowly on M1/M2 Macs, please use the legacy Keras optimizer instead, located at `tf.keras.optimizers.legacy.Adam`.\n"
     ]
    },
    {
     "name": "stdout",
     "output_type": "stream",
     "text": [
      "Activation: tanh\n",
      "Epoch: 100\n",
      "Batch Size: 32\n",
      "Optimizer learning rate: 1e-05\n",
      "Mean Squared Error (Perceptron): 2783.937261816126\n",
      "R^2: -0.42547536\n",
      "----------------------------------------------------------------\n",
      "17/17 [==============================] - 0s 335us/step\n"
     ]
    },
    {
     "name": "stderr",
     "output_type": "stream",
     "text": [
      "WARNING:absl:At this time, the v2.11+ optimizer `tf.keras.optimizers.Adam` runs slowly on M1/M2 Macs, please use the legacy Keras optimizer instead, located at `tf.keras.optimizers.legacy.Adam`.\n"
     ]
    },
    {
     "name": "stdout",
     "output_type": "stream",
     "text": [
      "Activation: tanh\n",
      "Epoch: 100\n",
      "Batch Size: 32\n",
      "Optimizer learning rate: 0.0001\n",
      "Mean Squared Error (Perceptron): 70.35385951932888\n",
      "R^2: 0.9639763\n",
      "----------------------------------------------------------------\n",
      "17/17 [==============================] - 0s 468us/step\n"
     ]
    },
    {
     "name": "stderr",
     "output_type": "stream",
     "text": [
      "WARNING:absl:At this time, the v2.11+ optimizer `tf.keras.optimizers.Adam` runs slowly on M1/M2 Macs, please use the legacy Keras optimizer instead, located at `tf.keras.optimizers.legacy.Adam`.\n"
     ]
    },
    {
     "name": "stdout",
     "output_type": "stream",
     "text": [
      "Activation: tanh\n",
      "Epoch: 100\n",
      "Batch Size: 32\n",
      "Optimizer learning rate: 0.001\n",
      "Mean Squared Error (Perceptron): 179.86592364572942\n",
      "R^2: 0.90790224\n",
      "----------------------------------------------------------------\n",
      "17/17 [==============================] - 0s 359us/step\n"
     ]
    },
    {
     "name": "stderr",
     "output_type": "stream",
     "text": [
      "WARNING:absl:At this time, the v2.11+ optimizer `tf.keras.optimizers.Adam` runs slowly on M1/M2 Macs, please use the legacy Keras optimizer instead, located at `tf.keras.optimizers.legacy.Adam`.\n"
     ]
    },
    {
     "name": "stdout",
     "output_type": "stream",
     "text": [
      "Activation: tanh\n",
      "Epoch: 100\n",
      "Batch Size: 40\n",
      "Optimizer learning rate: 1e-05\n",
      "Mean Squared Error (Perceptron): 2379.7405563464176\n",
      "R^2: -0.2185123\n",
      "----------------------------------------------------------------\n",
      "17/17 [==============================] - 0s 346us/step\n"
     ]
    },
    {
     "name": "stderr",
     "output_type": "stream",
     "text": [
      "WARNING:absl:At this time, the v2.11+ optimizer `tf.keras.optimizers.Adam` runs slowly on M1/M2 Macs, please use the legacy Keras optimizer instead, located at `tf.keras.optimizers.legacy.Adam`.\n"
     ]
    },
    {
     "name": "stdout",
     "output_type": "stream",
     "text": [
      "Activation: tanh\n",
      "Epoch: 100\n",
      "Batch Size: 40\n",
      "Optimizer learning rate: 0.0001\n",
      "Mean Squared Error (Perceptron): 5052.137640116625\n",
      "R^2: -1.5868754\n",
      "----------------------------------------------------------------\n",
      "17/17 [==============================] - 0s 514us/step\n"
     ]
    },
    {
     "name": "stderr",
     "output_type": "stream",
     "text": [
      "WARNING:absl:At this time, the v2.11+ optimizer `tf.keras.optimizers.Adam` runs slowly on M1/M2 Macs, please use the legacy Keras optimizer instead, located at `tf.keras.optimizers.legacy.Adam`.\n"
     ]
    },
    {
     "name": "stdout",
     "output_type": "stream",
     "text": [
      "Activation: tanh\n",
      "Epoch: 100\n",
      "Batch Size: 40\n",
      "Optimizer learning rate: 0.001\n",
      "Mean Squared Error (Perceptron): 76.8051187978972\n",
      "R^2: 0.96067303\n",
      "----------------------------------------------------------------\n",
      "17/17 [==============================] - 0s 370us/step\n"
     ]
    },
    {
     "name": "stderr",
     "output_type": "stream",
     "text": [
      "WARNING:absl:At this time, the v2.11+ optimizer `tf.keras.optimizers.Adam` runs slowly on M1/M2 Macs, please use the legacy Keras optimizer instead, located at `tf.keras.optimizers.legacy.Adam`.\n"
     ]
    },
    {
     "name": "stdout",
     "output_type": "stream",
     "text": [
      "Activation: tanh\n",
      "Epoch: 150\n",
      "Batch Size: 24\n",
      "Optimizer learning rate: 1e-05\n",
      "Mean Squared Error (Perceptron): 3183.363913335727\n",
      "R^2: -0.6299963\n",
      "----------------------------------------------------------------\n",
      "17/17 [==============================] - 0s 386us/step\n"
     ]
    },
    {
     "name": "stderr",
     "output_type": "stream",
     "text": [
      "WARNING:absl:At this time, the v2.11+ optimizer `tf.keras.optimizers.Adam` runs slowly on M1/M2 Macs, please use the legacy Keras optimizer instead, located at `tf.keras.optimizers.legacy.Adam`.\n"
     ]
    },
    {
     "name": "stdout",
     "output_type": "stream",
     "text": [
      "Activation: tanh\n",
      "Epoch: 150\n",
      "Batch Size: 24\n",
      "Optimizer learning rate: 0.0001\n",
      "Mean Squared Error (Perceptron): 3222.908221025039\n",
      "R^2: -0.65024436\n",
      "----------------------------------------------------------------\n",
      "17/17 [==============================] - 0s 367us/step\n"
     ]
    },
    {
     "name": "stderr",
     "output_type": "stream",
     "text": [
      "WARNING:absl:At this time, the v2.11+ optimizer `tf.keras.optimizers.Adam` runs slowly on M1/M2 Macs, please use the legacy Keras optimizer instead, located at `tf.keras.optimizers.legacy.Adam`.\n"
     ]
    },
    {
     "name": "stdout",
     "output_type": "stream",
     "text": [
      "Activation: tanh\n",
      "Epoch: 150\n",
      "Batch Size: 24\n",
      "Optimizer learning rate: 0.001\n",
      "Mean Squared Error (Perceptron): 3077.2856127586047\n",
      "R^2: -0.5756804\n",
      "----------------------------------------------------------------\n",
      "17/17 [==============================] - 0s 363us/step\n"
     ]
    },
    {
     "name": "stderr",
     "output_type": "stream",
     "text": [
      "WARNING:absl:At this time, the v2.11+ optimizer `tf.keras.optimizers.Adam` runs slowly on M1/M2 Macs, please use the legacy Keras optimizer instead, located at `tf.keras.optimizers.legacy.Adam`.\n"
     ]
    },
    {
     "name": "stdout",
     "output_type": "stream",
     "text": [
      "Activation: tanh\n",
      "Epoch: 150\n",
      "Batch Size: 32\n",
      "Optimizer learning rate: 1e-05\n",
      "Mean Squared Error (Perceptron): 297.1292265474053\n",
      "R^2: 0.8478592\n",
      "----------------------------------------------------------------\n",
      "17/17 [==============================] - 0s 363us/step\n"
     ]
    },
    {
     "name": "stderr",
     "output_type": "stream",
     "text": [
      "WARNING:absl:At this time, the v2.11+ optimizer `tf.keras.optimizers.Adam` runs slowly on M1/M2 Macs, please use the legacy Keras optimizer instead, located at `tf.keras.optimizers.legacy.Adam`.\n"
     ]
    },
    {
     "name": "stdout",
     "output_type": "stream",
     "text": [
      "Activation: tanh\n",
      "Epoch: 150\n",
      "Batch Size: 32\n",
      "Optimizer learning rate: 0.0001\n",
      "Mean Squared Error (Perceptron): 2690.6063823107747\n",
      "R^2: -0.37768686\n",
      "----------------------------------------------------------------\n",
      "17/17 [==============================] - 0s 375us/step\n"
     ]
    },
    {
     "name": "stderr",
     "output_type": "stream",
     "text": [
      "WARNING:absl:At this time, the v2.11+ optimizer `tf.keras.optimizers.Adam` runs slowly on M1/M2 Macs, please use the legacy Keras optimizer instead, located at `tf.keras.optimizers.legacy.Adam`.\n"
     ]
    },
    {
     "name": "stdout",
     "output_type": "stream",
     "text": [
      "Activation: tanh\n",
      "Epoch: 150\n",
      "Batch Size: 32\n",
      "Optimizer learning rate: 0.001\n",
      "Mean Squared Error (Perceptron): 2894.5116673749085\n",
      "R^2: -0.48209357\n",
      "----------------------------------------------------------------\n",
      "17/17 [==============================] - 0s 329us/step\n"
     ]
    },
    {
     "name": "stderr",
     "output_type": "stream",
     "text": [
      "WARNING:absl:At this time, the v2.11+ optimizer `tf.keras.optimizers.Adam` runs slowly on M1/M2 Macs, please use the legacy Keras optimizer instead, located at `tf.keras.optimizers.legacy.Adam`.\n"
     ]
    },
    {
     "name": "stdout",
     "output_type": "stream",
     "text": [
      "Activation: tanh\n",
      "Epoch: 150\n",
      "Batch Size: 40\n",
      "Optimizer learning rate: 1e-05\n",
      "Mean Squared Error (Perceptron): 231.00690732064027\n",
      "R^2: 0.8817162\n",
      "----------------------------------------------------------------\n",
      "17/17 [==============================] - 0s 333us/step\n"
     ]
    },
    {
     "name": "stderr",
     "output_type": "stream",
     "text": [
      "WARNING:absl:At this time, the v2.11+ optimizer `tf.keras.optimizers.Adam` runs slowly on M1/M2 Macs, please use the legacy Keras optimizer instead, located at `tf.keras.optimizers.legacy.Adam`.\n"
     ]
    },
    {
     "name": "stdout",
     "output_type": "stream",
     "text": [
      "Activation: tanh\n",
      "Epoch: 150\n",
      "Batch Size: 40\n",
      "Optimizer learning rate: 0.0001\n",
      "Mean Squared Error (Perceptron): 526.6050978658874\n",
      "R^2: 0.7303593\n",
      "----------------------------------------------------------------\n",
      "17/17 [==============================] - 0s 331us/step\n",
      "Activation: tanh\n",
      "Epoch: 150\n",
      "Batch Size: 40\n",
      "Optimizer learning rate: 0.001\n",
      "Mean Squared Error (Perceptron): 2934.338228334408\n",
      "R^2: -0.50248635\n",
      "----------------------------------------------------------------\n"
     ]
    }
   ],
   "source": [
    "ret = []\n",
    "for activation in [None, 'relu', 'sigmoid', 'tanh']:\n",
    "    for epochs in [50, 75, 100, 150]:\n",
    "        for batch_size in [24, 32, 40]:\n",
    "            for op_learning_rate in [1e-5, 1e-4, 1e-3]:\n",
    "                mse, r2 = create_model_P(activation=activation, epochs=epochs, batch_size=batch_size, op_learning_rate=op_learning_rate)\n",
    "                ret.append([activation, epochs, batch_size, op_learning_rate, mse, r2])\n",
    "    "
   ]
  },
  {
   "cell_type": "code",
   "execution_count": null,
   "id": "c804f8a6",
   "metadata": {},
   "outputs": [],
   "source": [
    "print(\"Best MSE for Perceptron:\", sorted(ret, key=lambda x:x[7])[0])\n",
    "print(\"Best R^2 for Perceptron:\", sorted(ret, key=lambda x:-x[8])[0])"
   ]
  },
  {
   "cell_type": "code",
   "execution_count": 28,
   "id": "1a82d6d7",
   "metadata": {},
   "outputs": [],
   "source": [
    "def create_model_D(activation='tanh', epochs=100, batch_size=32, op_learning_rate=1e-5, hidden=128, layers=11, dropout=0.1):\n",
    "    # Build a neural network model with 2 hidden layers\n",
    "    # You can experiment with different architectures, including the number of layers and neurons.\n",
    "    # Building DNN model with 11 hidden layers\n",
    "    model = Sequential()\n",
    "\n",
    "    # Input layer\n",
    "    # Input layer will have same number of neurons as number of feature variables\n",
    "    model.add(Dense(64, input_dim=X_train.shape[1], activation=activation))\n",
    "\n",
    "    # Hidden layers\n",
    "    # Play around with number of neurons in each hidden layer.\n",
    "    # Too many neurons leads to overcomplexity, not enough means too simple\n",
    "    # Tanh activation function here is used b/c it is recommended to use\n",
    "    # when there are more hidden layers.\n",
    "    for _ in range(layers-1):\n",
    "        model.add(Dense(hidden, activation=activation))\n",
    "        model.add(Dropout(dropout)) # This helps with preventing overfitting\n",
    "\n",
    "    # Output layer\n",
    "    # Output layer will have 1 neuron b/c there's only 1 target variable\n",
    "    model.add(Dense(1))\n",
    "\n",
    "    # Compile the model\n",
    "    optimizer = Adam(learning_rate=op_learning_rate)  # Experiment with learning rate\n",
    "    model.compile(optimizer=optimizer, loss='mean_squared_error')\n",
    "\n",
    "    # Train the model\n",
    "    history = model.fit(X_train, Y_train, epochs=100, batch_size=32, validation_data=(X_test, Y_test), verbose=0)\n",
    "\n",
    "    # Make predictions\n",
    "    Y_pred = model.predict(X_test)\n",
    "\n",
    "    # Inverse transform the scaled values\n",
    "    Y_test_original = scaler_Y.inverse_transform(Y_test)\n",
    "    Y_pred_original = scaler_Y.inverse_transform(Y_pred)\n",
    "\n",
    "    print(f\"Activation: {activation}\\nEpoch: {epochs}\\nBatch Size: {batch_size}\\nOptimizer learning rate: {op_learning_rate}\")\n",
    "    print(f\"Hidden: {hidden}\\nLayers: {layers}\\nDropout: {dropout}\")\n",
    "    # Calculate MSE and R2\n",
    "    mse = mean_squared_error(Y_test_original, Y_pred_original)\n",
    "    print(f\"Mean Squared Error: {mse}\")\n",
    "    metric = tf.keras.metrics.R2Score()\n",
    "    metric.update_state(Y_test_original, Y_pred_original)\n",
    "    r2 = metric.result().numpy()\n",
    "    print(\"R^2:\", metric.result().numpy())\n",
    "    print(\"-\"*64)\n",
    "    return mse, r2"
   ]
  },
  {
   "cell_type": "code",
   "execution_count": 29,
   "id": "064960be",
   "metadata": {},
   "outputs": [
    {
     "name": "stderr",
     "output_type": "stream",
     "text": [
      "WARNING:absl:At this time, the v2.11+ optimizer `tf.keras.optimizers.Adam` runs slowly on M1/M2 Macs, please use the legacy Keras optimizer instead, located at `tf.keras.optimizers.legacy.Adam`.\n"
     ]
    },
    {
     "name": "stdout",
     "output_type": "stream",
     "text": [
      "17/17 [==============================] - 0s 604us/step\n",
      "Activation: tanh\n",
      "Epoch: 100\n",
      "Batch Size: 32\n",
      "Optimizer learning rate: 1e-05\n",
      "Hidden: 128\n",
      "Layers: 11\n",
      "Dropout: 0.1\n",
      "Mean Squared Error: 27.0655401573587\n",
      "R^2: 0.9861415\n",
      "----------------------------------------------------------------\n"
     ]
    }
   ],
   "source": [
    "m, r = create_model_D()"
   ]
  },
  {
   "cell_type": "code",
   "execution_count": null,
   "id": "6b0ba123",
   "metadata": {},
   "outputs": [],
   "source": [
    "# GRID SEARCH\n",
    "\n",
    "ret = []\n",
    "for activation in ['relu', 'sigmoid', 'tanh']:\n",
    "    for epochs in [50, 75, 100, 150]:\n",
    "        for batch_size in [24, 32, 40]:\n",
    "            for op_learning_rate in [1e-5, 1e-4, 1e-3]:\n",
    "                for hidden in [32, 64, 128]:\n",
    "                    for layers in [6, 9, 11]:\n",
    "                        for dropout in [0.05, 0.1, 0.15]:\n",
    "                            mse, r2 = create_model_D(activation=activation, epochs=epochs, batch_size=batch_size, op_learning_rate=op_learning_rate, hidden=hidden, layers=layers, dropout=dropout)\n",
    "                            ret.append([activation, epochs, batch_size, op_learning_rate, hidden, layers, dropout, mse, r2])\n",
    "    "
   ]
  },
  {
   "cell_type": "code",
   "execution_count": null,
   "id": "a5ece162",
   "metadata": {},
   "outputs": [],
   "source": [
    "print(\"Best MSE for DNN:\", sorted(ret, key=lambda x:x[7])[0])\n",
    "print(\"Best R^2 for DNN:\", sorted(ret, key=lambda x:-x[8])[0])"
   ]
  }
 ],
 "metadata": {
  "kernelspec": {
   "display_name": "Python 3 (ipykernel)",
   "language": "python",
   "name": "python3"
  },
  "language_info": {
   "codemirror_mode": {
    "name": "ipython",
    "version": 3
   },
   "file_extension": ".py",
   "mimetype": "text/x-python",
   "name": "python",
   "nbconvert_exporter": "python",
   "pygments_lexer": "ipython3",
   "version": "3.11.5"
  }
 },
 "nbformat": 4,
 "nbformat_minor": 5
}
